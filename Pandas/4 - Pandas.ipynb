{
  "nbformat": 4,
  "nbformat_minor": 0,
  "metadata": {
    "colab": {
      "name": "4 - Pandas.ipynb",
      "provenance": [],
      "collapsed_sections": []
    },
    "kernelspec": {
      "name": "python3",
      "display_name": "Python 3"
    },
    "language_info": {
      "name": "python"
    }
  },
  "cells": [
    {
      "cell_type": "code",
      "source": [
        "from google.colab import drive\n",
        "drive.mount('/content/drive')"
      ],
      "metadata": {
        "id": "PznPdz0FRXra"
      },
      "execution_count": null,
      "outputs": []
    },
    {
      "cell_type": "code",
      "source": [
        "# Importação da biblioteca Pandas e Numpy:\n",
        "import pandas as pd\n",
        "import numpy as np"
      ],
      "metadata": {
        "id": "b_uu0gZBRZgV"
      },
      "execution_count": null,
      "outputs": []
    },
    {
      "cell_type": "code",
      "source": [
        "# Importação dos datasets das olimpíadas de 2008 e 2012\n",
        "df_2008 = pd.read_csv('/content/drive/MyDrive/ath_2008.csv')\n",
        "df_2012 = pd.read_csv('/content/drive/MyDrive/ath_2012.csv')\n",
        "print('Formato - Dataset Olimpíadas 2008: ', df_2008.shape)\n",
        "print('\\n')\n",
        "print('Formato - Dataset Olimpíadas 2012: ', df_2012.shape)"
      ],
      "metadata": {
        "id": "xfEV1DD6RqYT"
      },
      "execution_count": null,
      "outputs": []
    },
    {
      "cell_type": "code",
      "source": [
        "# Visualização breve das olimpíadas de 2008:\n",
        "df_2008.head()"
      ],
      "metadata": {
        "id": "d92InPDWSQm7"
      },
      "execution_count": null,
      "outputs": []
    },
    {
      "cell_type": "code",
      "source": [
        "# Visualização breve das olimpíadas de 2012:\n",
        "df_2012.head()"
      ],
      "metadata": {
        "id": "ktCug6AdSsN5"
      },
      "execution_count": null,
      "outputs": []
    },
    {
      "cell_type": "code",
      "source": [
        "# Concatenação das olimpíadas de 2008 e 2012 com o método .append():\n",
        "df_2008.append(df_2012, ignore_index = True)"
      ],
      "metadata": {
        "id": "54DgT-v4St7q"
      },
      "execution_count": null,
      "outputs": []
    },
    {
      "cell_type": "code",
      "source": [
        "# Concatenação das olimpíadas de 2008 e 2012 com o método .concat():\n",
        "df_full = pd.concat([df_2008, df_2012], ignore_index = False, keys = [2008, 2012],\n",
        "          names = ['Ano'])\n",
        "print(df_full.shape)\n",
        "df_full"
      ],
      "metadata": {
        "id": "RuhOP1sIS0f6"
      },
      "execution_count": null,
      "outputs": []
    },
    {
      "cell_type": "code",
      "source": [
        "# Exclusão do índice no level_1:\n",
        "df_full = df_full.reset_index().drop(columns = 'level_1')\n",
        "df_full"
      ],
      "metadata": {
        "id": "P8o7HrqVTDLO"
      },
      "execution_count": null,
      "outputs": []
    },
    {
      "cell_type": "code",
      "source": [
        "# Importação de dados fictícios das olimpíadas de 2008:\n",
        "df_2008_fic = pd.read_csv('/content/drive/MyDrive/ath_2008_ficticio.csv', index_col = 'Atleta')\n",
        "print(df_2008_fic.shape)\n",
        "df_2008_fic.head()"
      ],
      "metadata": {
        "id": "6G9SQEpIUJ32"
      },
      "execution_count": null,
      "outputs": []
    },
    {
      "cell_type": "code",
      "source": [
        "# Importação de dados fictícios das olimpíadas de 2012:\n",
        "df_2012_fic = pd.read_csv('/content/drive/MyDrive/ath_2012_ficticio.csv', index_col = 'Atleta')\n",
        "print(df_2012_fic.shape)\n",
        "df_2012_fic.head()"
      ],
      "metadata": {
        "id": "J5LdZ_cwWWPv"
      },
      "execution_count": null,
      "outputs": []
    },
    {
      "cell_type": "code",
      "source": [
        "# Soma entre os dados de cada coluna:\n",
        "df_2008_fic + df_2012_fic"
      ],
      "metadata": {
        "id": "Gyc4CVvwW3hx"
      },
      "execution_count": null,
      "outputs": []
    },
    {
      "cell_type": "code",
      "source": [
        "# Soma entre os dados da coluna 'Gold' das olimpíadas fictícias de 2008 e 2012:\n",
        "df_2008_fic['Gold'] + df_2012_fic['Gold']"
      ],
      "metadata": {
        "id": "GwWJBLsVWm6s"
      },
      "execution_count": null,
      "outputs": []
    },
    {
      "cell_type": "code",
      "source": [
        "# Soma entre os dois datasets fictícios com o método .add():\n",
        "df_2008_fic.add(df_2012_fic, fill_value = 0)"
      ],
      "metadata": {
        "id": "VhfKORBEWyy9"
      },
      "execution_count": null,
      "outputs": []
    },
    {
      "cell_type": "code",
      "source": [
        "# Subtração entre dados na coluna 'Bronze':\n",
        "df_2008_fic['Bronze'] - df_2012_fic['Bronze']"
      ],
      "metadata": {
        "id": "ZFwOgvosXHM6"
      },
      "execution_count": null,
      "outputs": []
    },
    {
      "cell_type": "code",
      "source": [
        "# Subtração entre todos os dados fictícios das olimpíadas de 2008 e 2012:\n",
        "df_2008_fic - df_2012_fic"
      ],
      "metadata": {
        "id": "e_kBceHSX534"
      },
      "execution_count": null,
      "outputs": []
    },
    {
      "cell_type": "code",
      "source": [
        "# Método .sub() para facilitar na subtração de tais dados fictícios:\n",
        "df_2008_fic.sub(df_2012_fic)"
      ],
      "metadata": {
        "id": "fpLfHeJEYCva"
      },
      "execution_count": null,
      "outputs": []
    },
    {
      "cell_type": "code",
      "source": [
        "# A soma da quantidade de linhas presentes entre o dataset das olimpíadas de 2008 e de 2012:\n",
        "len(df_2008) + len(df_2012)"
      ],
      "metadata": {
        "id": "6SqeBXODYPtv"
      },
      "execution_count": null,
      "outputs": []
    },
    {
      "cell_type": "code",
      "source": [
        "# .merge() como método para concatenar os dois datasets de olimpíadas de 2008 e 2012:\n",
        "# Nesse caso, irá retornar todos os dados presentes em cada dataset:\n",
        "df_merge_outer = df_2008.merge(df_2012, how = 'outer',on = 'Athlete', suffixes = ['_2008', '_2012'], indicator = True)\n",
        "print(df_merge_outer.shape)\n",
        "df_merge_outer"
      ],
      "metadata": {
        "id": "GADa_dlgeEQK"
      },
      "execution_count": null,
      "outputs": []
    },
    {
      "cell_type": "code",
      "source": [
        "# .value_counts() para sabermos quantos dados vieram do dataset da esquerda (2008), da direita (2012) ou\n",
        "# vieram de ambos como intersecção (2008-2012):\n",
        "df_merge_outer._merge.value_counts()"
      ],
      "metadata": {
        "id": "D3zvAcp2efnQ"
      },
      "execution_count": null,
      "outputs": []
    },
    {
      "cell_type": "code",
      "source": [
        "# .merge() com o inner que retornará somente os dados em comum entre os datasets olímpicos de 2008 e 2012\n",
        "# Neste casos, os dados em comum na coluna 'Athlete' que irão ser mergeados para retornar visualmente:\n",
        "df_merge_inner = df_2008.merge(df_2012, how = 'inner', on = 'Athlete', suffixes = ['_2008', '_2012'], indicator = True)\n",
        "print(df_merge_inner.shape)\n",
        "df_merge_inner"
      ],
      "metadata": {
        "id": "U0CXBIJUfqx_"
      },
      "execution_count": null,
      "outputs": []
    },
    {
      "cell_type": "code",
      "source": [
        "# .value_counts() para sabermos que somente dados intersectados nos dois datasets foram retornáveis nesse mergeamento:\n",
        "df_merge_inner._merge.value_counts()"
      ],
      "metadata": {
        "id": "W3NPGxFqJwKy"
      },
      "execution_count": null,
      "outputs": []
    },
    {
      "cell_type": "code",
      "source": [
        "# Filtragem de dados que estão ou no dataset da esquerda (2008) ou no da direita (2012)\n",
        "# Mas sem retornar e filtrar os dados que estão como intersecção em ambos (2008-2012):\n",
        "df_merge_outer[(df_merge_outer['_merge'] == 'left_only') | (df_merge_outer['_merge'] == 'right_only')]"
      ],
      "metadata": {
        "id": "4uobaMuuKhGH"
      },
      "execution_count": null,
      "outputs": []
    },
    {
      "cell_type": "code",
      "source": [
        "# Filtrar somente dados do dataset da esquerda (2008) ou da direita (2012), e não de ambos:\n",
        "df_merge_outer_sem_inner = df_merge_outer.query('_merge != \"both\"')\n",
        "print(df_merge_outer_sem_inner.shape)\n",
        "print('\\n')\n",
        "df_merge_outer_sem_inner._merge.value_counts()"
      ],
      "metadata": {
        "id": "UiB_Sk5FLbQq"
      },
      "execution_count": null,
      "outputs": []
    },
    {
      "cell_type": "code",
      "source": [
        "# Filtragem de dados exclusivamente da esquerda (2008):\n",
        "df_merge_left_sem_inner = df_merge_outer.query('_merge == \"left_only\"')\n",
        "print(df_merge_left_sem_inner.shape)\n",
        "df_merge_left_sem_inner.head()"
      ],
      "metadata": {
        "id": "ADxxbNwqL9mA"
      },
      "execution_count": null,
      "outputs": []
    },
    {
      "cell_type": "code",
      "source": [
        "# Filtragem de dados exclusivamente da direita (2012):\n",
        "df_merge_right_sem_inner = df_merge_outer.query('_merge == \"right_only\"')\n",
        "print(df_merge_right_sem_inner.shape)\n",
        "df_merge_right_sem_inner.head()"
      ],
      "metadata": {
        "id": "APJEENWaO3O6"
      },
      "execution_count": null,
      "outputs": []
    },
    {
      "cell_type": "code",
      "source": [
        "# Verificação de que há dados somente do dataset da direita (2012) pelo método .value_counts():\n",
        "df_merge_right_sem_inner._merge.value_counts()"
      ],
      "metadata": {
        "id": "0c9UAtWOPr5F"
      },
      "execution_count": null,
      "outputs": []
    },
    {
      "cell_type": "code",
      "source": [
        "# .merge() com todos os dados da esquerda (2008) que intersectam em comum com o dataset da direita (2012):\n",
        "df_merge_left = df_2008.merge(df_2012, how = 'left', on = 'Athlete', suffixes = ['_2008', '_2012'], indicator = True)\n",
        "print(df_merge_left.shape)\n",
        "df_merge_left.head()"
      ],
      "metadata": {
        "id": "S-avU1WaQ_yK"
      },
      "execution_count": null,
      "outputs": []
    },
    {
      "cell_type": "code",
      "source": [
        "# .merge() com todos os dados da direita (2012) que intersectam em comum com o dataset da esquerda (2008):\n",
        "df_merge_right = df_2008.merge(df_2012, how = 'right', on = 'Athlete', suffixes = ['_2008', '_2012'], indicator = True)\n",
        "print(df_merge_right.shape)\n",
        "df_merge_right.head()"
      ],
      "metadata": {
        "id": "M9-xLaA0RT5q"
      },
      "execution_count": null,
      "outputs": []
    },
    {
      "cell_type": "code",
      "source": [
        "# Renomeação da coluna 'Athlete' para 'Name':\n",
        "df_2008.rename(columns = {'Athlete': 'Name'}, inplace = True)\n",
        "df_2008.columns"
      ],
      "metadata": {
        "id": "6BfIXDPfUeKA"
      },
      "execution_count": null,
      "outputs": []
    },
    {
      "cell_type": "code",
      "source": [
        "# Mergeamento de todos os dados presentes no dataset da esquerda (2008) quanto no da direita (2012):\n",
        "df_full = df_2008.merge(df_2012, how = 'outer',left_on = 'Name', right_on = 'Athlete', suffixes = ['_2008', '_2012'], indicator = True)\n",
        "print(df_full.shape)\n",
        "df_full"
      ],
      "metadata": {
        "id": "QMnWlDNWZAk3"
      },
      "execution_count": null,
      "outputs": []
    },
    {
      "cell_type": "code",
      "source": [
        "# Preencher os dados ausentes da coluna 'Name' com os nomes da coluna 'Athlete':\n",
        "df_full.Name.fillna(df_full.Athlete, inplace = True)\n",
        "df_full.drop(columns = ['Athlete', '_merge'], inplace = True)\n",
        "df_full"
      ],
      "metadata": {
        "id": "Xq2uRqT0Zsv1"
      },
      "execution_count": null,
      "outputs": []
    },
    {
      "cell_type": "code",
      "source": [
        "# Filtragem das medalhas conquistadas por Usain Bolt em 2008 e em 2012:\n",
        "df_full.query('Name == \"BOLT, Usain\"')[['Name','Gold_2008', 'Gold_2012']]"
      ],
      "metadata": {
        "id": "mDAp2auSbi1s"
      },
      "execution_count": null,
      "outputs": []
    },
    {
      "cell_type": "code",
      "source": [
        "# Mergeamento entre os dois datasets das olimpíadas de 2008 e 2012 de outro modo:\n",
        "df_2008.rename(columns = {'Name': 'Athlete'}, inplace = True)\n",
        "pd.merge(df_2008,\n",
        "         df_2012, \n",
        "         how = 'outer',\n",
        "         on = 'Athlete',\n",
        "         suffixes = '_2008 _2012'.split(),\n",
        "         indicator = True)"
      ],
      "metadata": {
        "id": "8yDDjDMOkWSw"
      },
      "execution_count": null,
      "outputs": []
    },
    {
      "cell_type": "code",
      "source": [
        "# Método .join() para juntar os dois datasets olímpicos de 2008 e 2012 pelo índice:\n",
        "df_2008.join(df_2012, how = 'outer',lsuffix = '_2008', rsuffix = '_2012')"
      ],
      "metadata": {
        "id": "2FKs7OLFq8Nv"
      },
      "execution_count": null,
      "outputs": []
    },
    {
      "cell_type": "code",
      "source": [
        "# Importação do dataset do titanic:\n",
        "df_titanic = pd.read_csv('/content/drive/MyDrive/titanic.csv')\n",
        "print(df_titanic.shape)\n",
        "df_titanic.head()"
      ],
      "metadata": {
        "id": "eswpmrqOrxmH"
      },
      "execution_count": null,
      "outputs": []
    },
    {
      "cell_type": "code",
      "source": [
        "# Filtragem das colunas de sexo e idade:\n",
        "df_titanic_2 = df_titanic.loc[:, ['Sex', 'Age']]\n",
        "df_titanic_2.head()"
      ],
      "metadata": {
        "id": "W_HbUNoexiu0"
      },
      "execution_count": null,
      "outputs": []
    },
    {
      "cell_type": "code",
      "source": [
        "# Agrupamento do dataset do titanic por grupos de sexo:\n",
        "df_group_sex = df_titanic_2.groupby('Sex')\n",
        "type(df_group_sex)"
      ],
      "metadata": {
        "id": "6Chsu5zUx5Hf"
      },
      "execution_count": null,
      "outputs": []
    },
    {
      "cell_type": "code",
      "source": [
        "# For aplicado para demonstrar visualmente cada grupo de sexo separadamente:\n",
        "for sex, age in df_group_sex:\n",
        "  print(sex)\n",
        "  print(age)"
      ],
      "metadata": {
        "id": "wJdxyitPyMtD"
      },
      "execution_count": null,
      "outputs": []
    },
    {
      "cell_type": "code",
      "source": [
        "# .get_group() para utilizar somente o grupo do sexo masculino:\n",
        "df_group_sex.get_group('male')"
      ],
      "metadata": {
        "id": "-RcMiGMbyYe6"
      },
      "execution_count": null,
      "outputs": []
    },
    {
      "cell_type": "code",
      "source": [
        "# .get_group() para utilizar somente o grupo do sexo feminino:\n",
        "df_group_sex.get_group('female')"
      ],
      "metadata": {
        "id": "72nHQp9ryeG7"
      },
      "execution_count": null,
      "outputs": []
    },
    {
      "cell_type": "code",
      "source": [
        "# .count() aplicado por sexo:\n",
        "df_group_sex.count()"
      ],
      "metadata": {
        "id": "4ZX_YsGGyhij"
      },
      "execution_count": null,
      "outputs": []
    },
    {
      "cell_type": "code",
      "source": [
        "# .size() para sabermos a quantidade de passageiros por sexo:\n",
        "df_group_sex.size()"
      ],
      "metadata": {
        "id": "n3vyXqLlynPH"
      },
      "execution_count": null,
      "outputs": []
    },
    {
      "cell_type": "code",
      "source": [
        "# Dados únicos da coluna 'Sex':\n",
        "df_titanic.Sex.unique()"
      ],
      "metadata": {
        "id": "8CWF7UDWyqaq"
      },
      "execution_count": null,
      "outputs": []
    },
    {
      "cell_type": "code",
      "source": [
        "# Quantidade de dados únicos da coluna 'Sex':\n",
        "df_titanic.Sex.nunique()"
      ],
      "metadata": {
        "id": "XlWjnmLkzFE8"
      },
      "execution_count": null,
      "outputs": []
    },
    {
      "cell_type": "code",
      "source": [
        "# Agrupamento representável em lista:\n",
        "list(df_titanic.groupby('Sex'))"
      ],
      "metadata": {
        "id": "xB7tuj9MzOG1"
      },
      "execution_count": null,
      "outputs": []
    },
    {
      "cell_type": "code",
      "source": [
        "# Agregação da quantidade de sobreviventes e não-sobreviventes por sexo:\n",
        "df_titanic.groupby(['Sex', 'Survived']).agg({'Survived': 'size'})"
      ],
      "metadata": {
        "id": "Y0hYZRTAzbkj"
      },
      "execution_count": null,
      "outputs": []
    },
    {
      "cell_type": "code",
      "source": [
        "# Dados únicos da coluna 'Survived':\n",
        "df_titanic.Survived.unique()"
      ],
      "metadata": {
        "id": "T9zPpCEizlP9"
      },
      "execution_count": null,
      "outputs": []
    },
    {
      "cell_type": "code",
      "source": [
        "# .groups para sabermos quais índices estão atribuídos a tais grupos de sexo separados:\n",
        "df_titanic.groupby('Survived').groups"
      ],
      "metadata": {
        "id": "udzw-NXS0BHM"
      },
      "execution_count": null,
      "outputs": []
    },
    {
      "cell_type": "code",
      "source": [
        "# Importação de algumas colunas do dataset do Titanic:\n",
        "df_titanic = pd.read_csv('/content/drive/MyDrive/titanic.csv', usecols = ['Survived', 'Pclass', 'Sex', 'Age', 'Fare'])\n",
        "df_titanic.head()"
      ],
      "metadata": {
        "id": "uqGYcQwG0GYO"
      },
      "execution_count": null,
      "outputs": []
    },
    {
      "cell_type": "code",
      "source": [
        "# Média por cada grupo de sexo:\n",
        "df_titanic.groupby('Sex').mean()"
      ],
      "metadata": {
        "id": "t3gFnJqb4t3n"
      },
      "execution_count": null,
      "outputs": []
    },
    {
      "cell_type": "code",
      "source": [
        "# Média e contagem por cada grupo de sexo:\n",
        "df_titanic.groupby('Sex').agg(['mean', 'count'])"
      ],
      "metadata": {
        "id": "lwk7OTp85Pey"
      },
      "execution_count": null,
      "outputs": []
    },
    {
      "cell_type": "code",
      "source": [
        "# Descrições estatísticas por cada grupo de sexo:\n",
        "df_titanic.groupby('Sex').describe()"
      ],
      "metadata": {
        "id": "ujIAN36359PK"
      },
      "execution_count": null,
      "outputs": []
    },
    {
      "cell_type": "code",
      "source": [
        "# Agregação de várias funções aplicáveis em cada grupo de sexo:\n",
        "df_titanic.groupby('Sex').agg(['mean', 'count', 'min', 'max', 'sum'])"
      ],
      "metadata": {
        "id": "4CPPMGHv6dm8"
      },
      "execution_count": null,
      "outputs": []
    },
    {
      "cell_type": "code",
      "source": [
        "# Agregação diferível para cada coluna específica:\n",
        "df_titanic.groupby('Sex').agg({'Survived': ['sum', 'mean'],\n",
        "                               'Age': ['min', 'max', 'mean'],\n",
        "                               'Fare': ['max', 'median']})"
      ],
      "metadata": {
        "id": "z_wCC1iE6lq3"
      },
      "execution_count": null,
      "outputs": []
    },
    {
      "cell_type": "code",
      "source": [
        "# Nomeação ou rotulação para a agregação realizada:\n",
        "df_titanic.groupby('Sex').agg(survived_rate = ('Survived', 'mean'))"
      ],
      "metadata": {
        "id": "auUyjq0Sx-m9"
      },
      "execution_count": null,
      "outputs": []
    },
    {
      "cell_type": "code",
      "source": [
        "# Nomeação ou rotulação para a agregação realizada:\n",
        "df_titanic.groupby('Sex').agg(survived_total = ('Survived', 'sum'),\n",
        "                              survived_rate = ('Survived', 'mean'),\n",
        "                              age_mean = ('Age', 'mean')).round(2)"
      ],
      "metadata": {
        "id": "9XT998NYy27v"
      },
      "execution_count": null,
      "outputs": []
    },
    {
      "cell_type": "code",
      "source": [
        "# Novamente, re-importação do dataset do Titanic:\n",
        "df_titanic = pd.read_csv('/content/drive/MyDrive/titanic.csv')\n",
        "print(df_titanic.shape)\n",
        "df_titanic.head()"
      ],
      "metadata": {
        "id": "fng9DXIZzJSq"
      },
      "execution_count": null,
      "outputs": []
    },
    {
      "cell_type": "code",
      "source": [
        "# Informações generalizadas do dataset:\n",
        "df_titanic.info()"
      ],
      "metadata": {
        "id": "fwaKaK2q12AO"
      },
      "execution_count": null,
      "outputs": []
    },
    {
      "cell_type": "code",
      "source": [
        "# Quantidade de dados ausentes por coluna:\n",
        "df_titanic.isna().sum()"
      ],
      "metadata": {
        "id": "GWFH6s6u14kK"
      },
      "execution_count": null,
      "outputs": []
    },
    {
      "cell_type": "code",
      "source": [
        "# A média da coluna idade:\n",
        "df_titanic.Age.mean()"
      ],
      "metadata": {
        "id": "p6th8CWD17xX"
      },
      "execution_count": null,
      "outputs": []
    },
    {
      "cell_type": "code",
      "source": [
        "# Preenchimento dos dados ausentes da coluna idade pela média de idade:\n",
        "df_titanic.Age.fillna(df_titanic.Age.mean())"
      ],
      "metadata": {
        "id": "fdZGRFnc2AUr"
      },
      "execution_count": null,
      "outputs": []
    },
    {
      "cell_type": "code",
      "source": [
        "# Transformar todos os dados da coluna em idade na média da coluna idade dividida por sexo e classe do passageiro:\n",
        "df_titanic.groupby(['Sex', 'Pclass']).Age.transform('mean')"
      ],
      "metadata": {
        "id": "vxu5mBVw2UXS"
      },
      "execution_count": null,
      "outputs": []
    },
    {
      "cell_type": "code",
      "source": [
        "# Retirar tais colunas de sexo e classe do índice:\n",
        "df_titanic.groupby(['Sex', 'Pclass']).agg({'Age': 'mean'}).reset_index()"
      ],
      "metadata": {
        "id": "Q6iizMa05wuL"
      },
      "execution_count": null,
      "outputs": []
    },
    {
      "cell_type": "code",
      "source": [
        "# Agrupamento por sexo e classe atributivamente à uma variável:\n",
        "df_groupby = df_titanic.groupby(['Sex', 'Pclass']).mean()\n",
        "print(df_groupby.shape)\n",
        "df_groupby.head()"
      ],
      "metadata": {
        "id": "M0pCr2HR8LmZ"
      },
      "execution_count": null,
      "outputs": []
    },
    {
      "cell_type": "code",
      "source": [
        "# Índice do agrupamento que é representado por um multíndice:\n",
        "df_groupby.index"
      ],
      "metadata": {
        "id": "loTMW0dJ_xmr"
      },
      "execution_count": null,
      "outputs": []
    },
    {
      "cell_type": "code",
      "source": [
        "# Filtragem de um dataset multíndice:\n",
        "df_groupby.loc[('female', 1), :]"
      ],
      "metadata": {
        "id": "JSqjQOviAITw"
      },
      "execution_count": null,
      "outputs": []
    },
    {
      "cell_type": "code",
      "source": [
        "# Como converter os níveis do índice de 0 para 1 e de 1 para 0:\n",
        "df_groupby.swaplevel()"
      ],
      "metadata": {
        "id": "Q3xSy4gpAMUW"
      },
      "execution_count": null,
      "outputs": []
    },
    {
      "cell_type": "code",
      "source": [
        "# Retirar tais multíndices e transforma-los em colunas:\n",
        "df_groupby.swaplevel().reset_index()"
      ],
      "metadata": {
        "id": "aBvKcV92ATBv"
      },
      "execution_count": null,
      "outputs": []
    },
    {
      "cell_type": "code",
      "source": [
        "# Visualização de dez linhas do dataframe:\n",
        "df_titanic"
      ],
      "metadata": {
        "id": "gHZonMiOAuZv"
      },
      "execution_count": null,
      "outputs": []
    },
    {
      "cell_type": "code",
      "source": [
        "# Verificar as configurações do máximo de linhas que podem ser exibidas do dataset:\n",
        "pd.options.display.max_rows"
      ],
      "metadata": {
        "id": "zIJ0W0jDB_De"
      },
      "execution_count": null,
      "outputs": []
    },
    {
      "cell_type": "code",
      "source": [
        "# Verificar as configurações do mínimo de linhas que podem ser exibidas do dataset:\n",
        "pd.options.display.min_rows"
      ],
      "metadata": {
        "id": "kKt3NvtMCDOf"
      },
      "execution_count": null,
      "outputs": []
    },
    {
      "cell_type": "code",
      "source": [
        "# Como mudar as configurações para exibir 20 linhas como o mínimo de linhas exibicionais:\n",
        "pd.set_option('display.min', 20)"
      ],
      "metadata": {
        "id": "sYBhnQAWCGCg"
      },
      "execution_count": null,
      "outputs": []
    },
    {
      "cell_type": "code",
      "source": [
        "# Verificação da alteração configuracional:\n",
        "df_titanic"
      ],
      "metadata": {
        "id": "0VBgCT3OCNwr"
      },
      "execution_count": null,
      "outputs": []
    },
    {
      "cell_type": "code",
      "source": [
        "# Retornar ao padrão exibicional de linhas mínimas para 10:\n",
        "pd.set_option('display.min_rows', 10)"
      ],
      "metadata": {
        "id": "us5wl4FPCpnW"
      },
      "execution_count": null,
      "outputs": []
    },
    {
      "cell_type": "code",
      "source": [
        "# Verificar a modificação da configuração:\n",
        "pd.get_option('display.min_rows')"
      ],
      "metadata": {
        "id": "gNxpcB43CyVn"
      },
      "execution_count": null,
      "outputs": []
    },
    {
      "cell_type": "markdown",
      "source": [
        "## SEÇÃO DE PANDAS IV FINALIZADA."
      ],
      "metadata": {
        "id": "1YLXHRWcGqkb"
      }
    }
  ]
}