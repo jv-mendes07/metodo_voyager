{
  "nbformat": 4,
  "nbformat_minor": 0,
  "metadata": {
    "colab": {
      "name": "05 - Funções (Exercícios).ipynb",
      "provenance": [],
      "collapsed_sections": []
    },
    "kernelspec": {
      "name": "python3",
      "display_name": "Python 3"
    },
    "language_info": {
      "name": "python"
    }
  },
  "cells": [
    {
      "cell_type": "markdown",
      "source": [
        "## FUNÇÕES"
      ],
      "metadata": {
        "id": "kKgfSc9x8ji2"
      }
    },
    {
      "cell_type": "code",
      "source": [
        "# Exemplo simples de uma função\n",
        "def soma(a, b):\n",
        "  soma = a + b\n",
        "  return soma\n",
        "\n",
        "soma(5, 9)"
      ],
      "metadata": {
        "colab": {
          "base_uri": "https://localhost:8080/"
        },
        "id": "rEwwhJHo8mbj",
        "outputId": "f3219c36-d618-4de5-bf98-49bc635992dd"
      },
      "execution_count": 113,
      "outputs": [
        {
          "output_type": "execute_result",
          "data": {
            "text/plain": [
              "14"
            ]
          },
          "metadata": {},
          "execution_count": 113
        }
      ]
    },
    {
      "cell_type": "code",
      "source": [
        "# Fazer o return diretamente:\n",
        "def mult(a, b, c):\n",
        "  return a * b * c\n",
        "\n",
        "mult(5, 4, 3)"
      ],
      "metadata": {
        "colab": {
          "base_uri": "https://localhost:8080/"
        },
        "id": "C6Z9fq8u-Wwz",
        "outputId": "fe3c50c1-d14a-496d-b856-70af4a306099"
      },
      "execution_count": 114,
      "outputs": [
        {
          "output_type": "execute_result",
          "data": {
            "text/plain": [
              "60"
            ]
          },
          "metadata": {},
          "execution_count": 114
        }
      ]
    },
    {
      "cell_type": "markdown",
      "source": [
        "#### 1 - CRIE UMA FUNÇÃO QUE ACEITE DOIS ARGUMENTOS (NOME E IDADE) E IMPRIMA SEU VALOR"
      ],
      "metadata": {
        "id": "euosJE1a_GT_"
      }
    },
    {
      "cell_type": "code",
      "source": [
        "def usuario(nome, idade):\n",
        "  return f'Nome: {nome}. Idade: {idade} anos'\n",
        "\n",
        "usuario('João Victor Da Silva Mendes', 20)"
      ],
      "metadata": {
        "colab": {
          "base_uri": "https://localhost:8080/",
          "height": 35
        },
        "id": "WJA9HfAv-yH0",
        "outputId": "f12c38cb-d34e-4129-da2c-a9a42e9c4d28"
      },
      "execution_count": 115,
      "outputs": [
        {
          "output_type": "execute_result",
          "data": {
            "application/vnd.google.colaboratory.intrinsic+json": {
              "type": "string"
            },
            "text/plain": [
              "'Nome: João Victor Da Silva Mendes. Idade: 20 anos'"
            ]
          },
          "metadata": {},
          "execution_count": 115
        }
      ]
    },
    {
      "cell_type": "code",
      "source": [
        "# Type em função\n",
        "type(usuario)"
      ],
      "metadata": {
        "colab": {
          "base_uri": "https://localhost:8080/"
        },
        "id": "avHVpSJW_bTM",
        "outputId": "2477156b-924d-45a5-996f-4c7d8ed0697a"
      },
      "execution_count": 116,
      "outputs": [
        {
          "output_type": "execute_result",
          "data": {
            "text/plain": [
              "function"
            ]
          },
          "metadata": {},
          "execution_count": 116
        }
      ]
    },
    {
      "cell_type": "markdown",
      "source": [
        "#### 2 - ESCREVA UMA FUNÇÃO DE FORMA QUE ELA POSSA ACEITAR UM TAMANHO VARIÁVEL DE ARGUMENTO E IMPRIMIR TODOS OS VALORES DOS ARGUMENTOS."
      ],
      "metadata": {
        "id": "ecZD8HOkCOi-"
      }
    },
    {
      "cell_type": "code",
      "source": [
        "# * para a colocação de vários valores:\n",
        "def variavel(*args):\n",
        "    return args\n",
        "\n",
        "variavel('Arroz', 'Feijão', 'Carne', 'Ovos', 'Frango', 'Presunto', 'Queijo')"
      ],
      "metadata": {
        "colab": {
          "base_uri": "https://localhost:8080/"
        },
        "id": "0rhOZf4YBFms",
        "outputId": "e8980273-df4e-4771-d6be-5708cd34b59e"
      },
      "execution_count": 117,
      "outputs": [
        {
          "output_type": "execute_result",
          "data": {
            "text/plain": [
              "('Arroz', 'Feijão', 'Carne', 'Ovos', 'Frango', 'Presunto', 'Queijo')"
            ]
          },
          "metadata": {},
          "execution_count": 117
        }
      ]
    },
    {
      "cell_type": "code",
      "source": [
        "# Há como imputar somente dois valores:\n",
        "variavel('João Victor', 20)"
      ],
      "metadata": {
        "colab": {
          "base_uri": "https://localhost:8080/"
        },
        "id": "FXx-0JVNCg5M",
        "outputId": "dd59fa28-edf4-4133-9104-5d426dfbfd46"
      },
      "execution_count": 118,
      "outputs": [
        {
          "output_type": "execute_result",
          "data": {
            "text/plain": [
              "('João Victor', 20)"
            ]
          },
          "metadata": {},
          "execution_count": 118
        }
      ]
    },
    {
      "cell_type": "markdown",
      "source": [
        "#### 3 - ESCREVA UMA FUNÇÃO () QUE POSSA ACEITAR DUAS VARIÁVEIS E CALCULAR A ADIÇÃO E A SUBTRAÇÃO DELAS. E TAMBÉM DEVE RETORNAR ADIÇÃO E SUBTRAÇÃO EM UMA ÚNICA CHAMADA DE RETORNO"
      ],
      "metadata": {
        "id": "bEmhxMWLFhuG"
      }
    },
    {
      "cell_type": "code",
      "source": [
        "def ad_sub(x, y):\n",
        "  a = x + y\n",
        "  s = x - y\n",
        "  return a, s\n",
        "\n",
        "ad_sub(10, 5)"
      ],
      "metadata": {
        "colab": {
          "base_uri": "https://localhost:8080/"
        },
        "id": "PjzCTok0FqaE",
        "outputId": "05d05671-50a2-44d5-e7d2-e0dc1aba0cd8"
      },
      "execution_count": 119,
      "outputs": [
        {
          "output_type": "execute_result",
          "data": {
            "text/plain": [
              "(15, 5)"
            ]
          },
          "metadata": {},
          "execution_count": 119
        }
      ]
    },
    {
      "cell_type": "code",
      "source": [
        "adição, subtração = ad_sub(10, 5)\n",
        "print(adição)\n",
        "print('\\n')\n",
        "print(subtração)"
      ],
      "metadata": {
        "colab": {
          "base_uri": "https://localhost:8080/"
        },
        "id": "sfbolhtwF2-n",
        "outputId": "483f836e-a145-453f-ba3b-659974d32b13"
      },
      "execution_count": 120,
      "outputs": [
        {
          "output_type": "stream",
          "name": "stdout",
          "text": [
            "15\n",
            "\n",
            "\n",
            "5\n"
          ]
        }
      ]
    },
    {
      "cell_type": "markdown",
      "source": [
        "#### 4 - CRIE UMA FUNÇÃO QUE ACEITE O NOME DO FUNCIONÁRIO E SEU SALÁRIO E EXIBA AMBOS. SE O SALÁRIO ESTIVER FALTANDO NA CHAMADA DE FUNÇÃO, ATRIBUA O VALOR PADRÃO 1000 AO SALÁRIO."
      ],
      "metadata": {
        "id": "a8wfr0lCJML_"
      }
    },
    {
      "cell_type": "code",
      "source": [
        "# Salário de 1000 reais por default (padrão):\n",
        "def sal_funcionario(nome_func, salario = 1000):\n",
        "  return f'Nome do funcionário: {nome_func}. Salário: R$ {salario}'\n",
        "\n",
        "sal_funcionario('João Victor Da Silva Mendes')"
      ],
      "metadata": {
        "colab": {
          "base_uri": "https://localhost:8080/",
          "height": 35
        },
        "id": "tX8v9aiTJXQJ",
        "outputId": "0ca4f145-2300-4879-88b4-2dfdae295e2f"
      },
      "execution_count": 121,
      "outputs": [
        {
          "output_type": "execute_result",
          "data": {
            "application/vnd.google.colaboratory.intrinsic+json": {
              "type": "string"
            },
            "text/plain": [
              "'Nome do funcionário: João Victor Da Silva Mendes. Salário: R$ 1000'"
            ]
          },
          "metadata": {},
          "execution_count": 121
        }
      ]
    },
    {
      "cell_type": "code",
      "source": [
        "# Definindo um salário que não seja o valor default da variável salario\n",
        "sal_funcionario('João Victor Da Silva Mendes', 22000)"
      ],
      "metadata": {
        "colab": {
          "base_uri": "https://localhost:8080/",
          "height": 35
        },
        "id": "vQYpkqgyJ6wK",
        "outputId": "c509e19b-a85e-46a6-9fad-392368d3b98b"
      },
      "execution_count": 122,
      "outputs": [
        {
          "output_type": "execute_result",
          "data": {
            "application/vnd.google.colaboratory.intrinsic+json": {
              "type": "string"
            },
            "text/plain": [
              "'Nome do funcionário: João Victor Da Silva Mendes. Salário: R$ 22000'"
            ]
          },
          "metadata": {},
          "execution_count": 122
        }
      ]
    },
    {
      "cell_type": "markdown",
      "source": [
        "#### 5 - ESCREVA UMA FUNÇÃO RECURSIVA PARA CALCULAR A SOMA DOS NÚMEROS DE 0 A 10"
      ],
      "metadata": {
        "id": "8iZTaKuaKx7K"
      }
    },
    {
      "cell_type": "code",
      "source": [
        "# Exemplo de função recursiva:\n",
        "def fatorial(n):\n",
        "  if n == 1:  # caso-base para evitar a repetição infindável da função\n",
        "    return 1\n",
        "  return n * fatorial(n - 1) # caso-recursivo em que a função irá chamar-se à si mesma sucessivamente\n",
        "\n",
        "fatorial(5)"
      ],
      "metadata": {
        "colab": {
          "base_uri": "https://localhost:8080/"
        },
        "id": "_YoGqXvhKOVX",
        "outputId": "796640e5-d28d-4987-8231-cac7206eed3f"
      },
      "execution_count": 123,
      "outputs": [
        {
          "output_type": "execute_result",
          "data": {
            "text/plain": [
              "120"
            ]
          },
          "metadata": {},
          "execution_count": 123
        }
      ]
    },
    {
      "cell_type": "code",
      "source": [
        "def soma(n = 0):\n",
        "  if n == 10:\n",
        "    return 10\n",
        "  return n + soma(n + 1)\n",
        "\n",
        "soma()"
      ],
      "metadata": {
        "colab": {
          "base_uri": "https://localhost:8080/"
        },
        "id": "ZwPqx7ZUO0is",
        "outputId": "e2968df5-d92d-400a-b323-353c4c4dd44f"
      },
      "execution_count": 124,
      "outputs": [
        {
          "output_type": "execute_result",
          "data": {
            "text/plain": [
              "55"
            ]
          },
          "metadata": {},
          "execution_count": 124
        }
      ]
    },
    {
      "cell_type": "code",
      "source": [
        "# Verificação de que a solução acima está correta:\n",
        "sum(list(range(0, 11)))"
      ],
      "metadata": {
        "colab": {
          "base_uri": "https://localhost:8080/"
        },
        "id": "O2oGcrb6PZlw",
        "outputId": "a43b7eb0-d837-4bc2-86f8-1dccddbdefa0"
      },
      "execution_count": 125,
      "outputs": [
        {
          "output_type": "execute_result",
          "data": {
            "text/plain": [
              "55"
            ]
          },
          "metadata": {},
          "execution_count": 125
        }
      ]
    },
    {
      "cell_type": "markdown",
      "source": [
        "#### 6 - ESCREVA UMA FUNÇÃO E QUANDO FOR USÁ-LA CHAME POR UM NOVO NOME."
      ],
      "metadata": {
        "id": "Rm4wVnyDSm2D"
      }
    },
    {
      "cell_type": "code",
      "source": [
        "def nome_idade(nome, idade):\n",
        "  return nome, idade\n",
        "\n",
        "nome_idade('João Victor', 20)"
      ],
      "metadata": {
        "colab": {
          "base_uri": "https://localhost:8080/"
        },
        "id": "WAUv92-JSqma",
        "outputId": "a87dc8a8-e319-4da0-edc5-83ec70c222f8"
      },
      "execution_count": 126,
      "outputs": [
        {
          "output_type": "execute_result",
          "data": {
            "text/plain": [
              "('João Victor', 20)"
            ]
          },
          "metadata": {},
          "execution_count": 126
        }
      ]
    },
    {
      "cell_type": "code",
      "source": [
        "nome_idade_novo = nome_idade\n",
        "\n",
        "type(nome_idade_novo)"
      ],
      "metadata": {
        "colab": {
          "base_uri": "https://localhost:8080/"
        },
        "id": "St4UQBivUSUx",
        "outputId": "c6edf194-aeec-4f56-851e-f65e028aab09"
      },
      "execution_count": 127,
      "outputs": [
        {
          "output_type": "execute_result",
          "data": {
            "text/plain": [
              "function"
            ]
          },
          "metadata": {},
          "execution_count": 127
        }
      ]
    },
    {
      "cell_type": "code",
      "source": [
        "# Utilizando outro nome para a mesma função que executará o mesmo bloco de código:\n",
        "nome_idade_novo('João Victor', 20)"
      ],
      "metadata": {
        "colab": {
          "base_uri": "https://localhost:8080/"
        },
        "id": "8skWRtYgUWVC",
        "outputId": "e743f9a0-1928-4139-e840-efa8e0462a0d"
      },
      "execution_count": 128,
      "outputs": [
        {
          "output_type": "execute_result",
          "data": {
            "text/plain": [
              "('João Victor', 20)"
            ]
          },
          "metadata": {},
          "execution_count": 128
        }
      ]
    },
    {
      "cell_type": "markdown",
      "source": [
        "#### 7 - CRIE UMA FUNÇÃO QUE RECEBE COMO PARÂMETRO UM NÚMERO INTEIRO E DEVOLVE O SEU DOBRO."
      ],
      "metadata": {
        "id": "uvWhl6NcUz8P"
      }
    },
    {
      "cell_type": "code",
      "source": [
        "def num_dobro(n):\n",
        "  return n * 2\n",
        "\n",
        "num_dobro(4)"
      ],
      "metadata": {
        "colab": {
          "base_uri": "https://localhost:8080/"
        },
        "id": "7fkF4rpbU33J",
        "outputId": "5b314175-9850-43fb-e543-dd6429190939"
      },
      "execution_count": 129,
      "outputs": [
        {
          "output_type": "execute_result",
          "data": {
            "text/plain": [
              "8"
            ]
          },
          "metadata": {},
          "execution_count": 129
        }
      ]
    },
    {
      "cell_type": "markdown",
      "source": [
        "#### 8 - FAÇA UMA FUNÇÃO PARA VERIFICAR SE UM NÚMERO É POSITIVO OU NEGATIVO. SENDO QUE O VALOR DE RETORNO SERA 1 SE POSITIVO, -1 SE NEGATIVO E 0 SE FOR IGUAL A 0."
      ],
      "metadata": {
        "id": "WGCHxZmqVEmc"
      }
    },
    {
      "cell_type": "code",
      "source": [
        "def pos_neg(num):\n",
        "  if (num >= 1):\n",
        "    return 1\n",
        "  elif (num < 0):\n",
        "    return -1\n",
        "  else:\n",
        "    return 0\n",
        "\n",
        "pos_neg(3)"
      ],
      "metadata": {
        "colab": {
          "base_uri": "https://localhost:8080/"
        },
        "id": "A4w5pdueVGmB",
        "outputId": "5f932649-5d6a-4812-b6bf-34750e03b44e"
      },
      "execution_count": 130,
      "outputs": [
        {
          "output_type": "execute_result",
          "data": {
            "text/plain": [
              "1"
            ]
          },
          "metadata": {},
          "execution_count": 130
        }
      ]
    },
    {
      "cell_type": "markdown",
      "source": [
        "#### 9 - FAÇA UMA FUNÇÃO QUE RECEBA DOIS NÚMEROS E RETORNE QUAL DELES É O MAIOR."
      ],
      "metadata": {
        "id": "1g_93xghZCH1"
      }
    },
    {
      "cell_type": "code",
      "source": [
        "def comparação(x: int, y: int) -> int:\n",
        "  if (x > y):\n",
        "    return x\n",
        "  elif (x == y):\n",
        "    return x, y\n",
        "  else:\n",
        "    return y\n",
        "\n",
        "comparação(10, 20)"
      ],
      "metadata": {
        "colab": {
          "base_uri": "https://localhost:8080/"
        },
        "id": "JYoUAnRaZuid",
        "outputId": "9946040a-2788-48dc-d9fe-a1b7eda384f6"
      },
      "execution_count": 131,
      "outputs": [
        {
          "output_type": "execute_result",
          "data": {
            "text/plain": [
              "20"
            ]
          },
          "metadata": {},
          "execution_count": 131
        }
      ]
    },
    {
      "cell_type": "code",
      "source": [
        "# Função com formatação para especificar a comparação entre os dois números:\n",
        "def comparação(x: int, y: int) -> int:\n",
        "  if (x > y):\n",
        "    return f'{x} é maior do que {y}'\n",
        "  elif (x == y):\n",
        "    return f'{x} é igual à {y}'\n",
        "  else:\n",
        "    return f'{y} é maior do que {x}'\n",
        "\n",
        "comparação(23, 45)"
      ],
      "metadata": {
        "colab": {
          "base_uri": "https://localhost:8080/",
          "height": 35
        },
        "id": "edta_E6MXw13",
        "outputId": "a0cf2b29-9d40-42eb-8d88-50dacdda9983"
      },
      "execution_count": 132,
      "outputs": [
        {
          "output_type": "execute_result",
          "data": {
            "application/vnd.google.colaboratory.intrinsic+json": {
              "type": "string"
            },
            "text/plain": [
              "'45 é maior do que 23'"
            ]
          },
          "metadata": {},
          "execution_count": 132
        }
      ]
    },
    {
      "cell_type": "markdown",
      "source": [
        "#### 10 - ELABORE UMA FUNÇÃO QUE RECEBA TRÊS NOTAS DE UM ALUNO COMO PARÂMETROS E UMA LETRA. SE A LETRA FOR A, A FUNÇÃO DEVERÁ CALCULAR A MÉDIA ARITMÉTICA DAS NOTAS DO ALUNO; SE FOR P, DEVERÁ CALCULAR A MÉDIA PONDERADA, COM PESOS 5, 3 E 2."
      ],
      "metadata": {
        "id": "XPldKbwFaD9h"
      }
    },
    {
      "cell_type": "code",
      "source": [
        "def nota(n1, n2, n3, letra):\n",
        "  if (letra == 'A'):\n",
        "    media_arit = (n1 + n2 + n3) / 3\n",
        "    return f'A média aritmética do aluno é {media_arit}'\n",
        "  elif (letra == 'P'):\n",
        "    media_pond = (n1 * 5 + n2 * 3 + n3 * 2) / (5 + 3 + 2)\n",
        "    return f'A média ponderada do aluno é {media_pond}'\n",
        "  else:\n",
        "    return 'Letra inválida!'\n",
        "\n",
        "nota(8.7, 7.6, 6.5, 'A')"
      ],
      "metadata": {
        "colab": {
          "base_uri": "https://localhost:8080/",
          "height": 35
        },
        "id": "U8Muym-8ZfuF",
        "outputId": "f718a215-3515-455b-dd90-853587f88dc2"
      },
      "execution_count": 133,
      "outputs": [
        {
          "output_type": "execute_result",
          "data": {
            "application/vnd.google.colaboratory.intrinsic+json": {
              "type": "string"
            },
            "text/plain": [
              "'A média aritmética do aluno é 7.599999999999999'"
            ]
          },
          "metadata": {},
          "execution_count": 133
        }
      ]
    },
    {
      "cell_type": "markdown",
      "source": [
        "#### 11 - FAÇA UMA FUNÇÃO QUE RECEBA DOIS NÚMEROS INTEIROS POSITIVOS POR PARÂMETRO E RETORNE A SOMA DOS N NUMEROS INTEIROS EXISTENTES ENTRE ELES."
      ],
      "metadata": {
        "id": "8w7mx0zGTfav"
      }
    },
    {
      "cell_type": "code",
      "source": [
        "# A soma dos n números que estão no intervalo entre x e y\n",
        "def soma_intervalo(x: int, y: int) -> int:\n",
        "  if (x == y):\n",
        "    return y\n",
        "  return x + soma_intervalo(x + 1, y)\n",
        "\n",
        "soma_intervalo(10, 30)"
      ],
      "metadata": {
        "id": "grgQH6I2biVV",
        "colab": {
          "base_uri": "https://localhost:8080/"
        },
        "outputId": "fbde9ec6-30f6-48f3-8cf6-266956dcba6f"
      },
      "execution_count": 134,
      "outputs": [
        {
          "output_type": "execute_result",
          "data": {
            "text/plain": [
              "420"
            ]
          },
          "metadata": {},
          "execution_count": 134
        }
      ]
    },
    {
      "cell_type": "code",
      "source": [
        "# Usando o for na função:\n",
        "def soma_inteiro(x: int, y: int) -> int:\n",
        "  soma = 0\n",
        "  for i in range(x, y + 1):\n",
        "    soma += i\n",
        "  return soma\n",
        "\n",
        "soma_inteiro(10, 30)"
      ],
      "metadata": {
        "colab": {
          "base_uri": "https://localhost:8080/"
        },
        "id": "SwagRWsmXbhd",
        "outputId": "9eba26e2-de86-492d-bb4b-8fcb34212bdc"
      },
      "execution_count": 135,
      "outputs": [
        {
          "output_type": "execute_result",
          "data": {
            "text/plain": [
              "420"
            ]
          },
          "metadata": {},
          "execution_count": 135
        }
      ]
    },
    {
      "cell_type": "markdown",
      "source": [
        "#### 12 - FAÇA UMA FUNÇÃO QUE RECEBA A ALTURA E O RAIO DE UM CILINDRO CIRCULAR E RETORNE O VOLUME DO CILINDRO. O VOLUME DE UM CILINDRO CIRCULAR E CALCULADO POR MEIO DA SEGUINTE FÓRMULA: V = Π ∗ RAIO2 ∗ ALTURA, ONDE Π = 3.141592."
      ],
      "metadata": {
        "id": "vpZsayRUas28"
      }
    },
    {
      "cell_type": "code",
      "source": [
        "def cilindro_calc(altura, raio):\n",
        "  pi = 3.14\n",
        "  v = pi * (raio ** 2) * altura\n",
        "  return f'O volume do cilindro circular é {v} centímetros cúbicos'\n",
        "\n",
        "cilindro_calc(100, 30)"
      ],
      "metadata": {
        "colab": {
          "base_uri": "https://localhost:8080/",
          "height": 35
        },
        "id": "GiggcwO7aa4Y",
        "outputId": "68e2b89f-16d2-4917-d7a8-948128e4d52c"
      },
      "execution_count": 136,
      "outputs": [
        {
          "output_type": "execute_result",
          "data": {
            "application/vnd.google.colaboratory.intrinsic+json": {
              "type": "string"
            },
            "text/plain": [
              "'O volume do cilindro circular é 282600.0 centímetros cúbicos'"
            ]
          },
          "metadata": {},
          "execution_count": 136
        }
      ]
    },
    {
      "cell_type": "markdown",
      "source": [
        "#### 13 - ESCREVA UMA FUNÇÃO QUE RECEBE UM NÚMERO REAL COMO ARGUMENTO E RETORNA O VALOR ABSOLUTO DESSE NÚMERO."
      ],
      "metadata": {
        "id": "qPqL5yx-dweZ"
      }
    },
    {
      "cell_type": "code",
      "source": [
        "# A função abs() nativa ao Python também retorna o valor absoluto de um número real.\n",
        "def valor_absoluto(num_real: float) -> float:\n",
        "  if (num_real < 0):\n",
        "    num_real *= (-1)\n",
        "    return num_real\n",
        "  else:\n",
        "    return num_real\n",
        "\n",
        "valor_absoluto(-3.42)"
      ],
      "metadata": {
        "colab": {
          "base_uri": "https://localhost:8080/"
        },
        "id": "YEU0Ppu3cERN",
        "outputId": "364769a5-4736-4892-872a-b7274993546e"
      },
      "execution_count": 137,
      "outputs": [
        {
          "output_type": "execute_result",
          "data": {
            "text/plain": [
              "3.42"
            ]
          },
          "metadata": {},
          "execution_count": 137
        }
      ]
    },
    {
      "cell_type": "markdown",
      "source": [
        "#### 14 - ESCREVA UMA FUNÇÃO QUE RECEBA DOIS NÚMERO INTEIRO (N E P) COMO ARGUMENTO E RETORNA N ELEVADO A P SE N FOR MAIOR QUE P, CASO CONTRÁRIO RETORNE A RAIZ QUADRADA DE N."
      ],
      "metadata": {
        "id": "Kscp6g8RgzNS"
      }
    },
    {
      "cell_type": "code",
      "source": [
        "def d_variaveis(n: int, p: int) -> int:\n",
        "  if (n > p):\n",
        "    return n ** p\n",
        "  else:\n",
        "    return math.sqrt(n)\n",
        "\n",
        "d_variaveis(65, 4)"
      ],
      "metadata": {
        "colab": {
          "base_uri": "https://localhost:8080/"
        },
        "id": "C8VA4mROhV5N",
        "outputId": "150fbc6c-17e0-4d95-a461-cc7a81d68099"
      },
      "execution_count": 138,
      "outputs": [
        {
          "output_type": "execute_result",
          "data": {
            "text/plain": [
              "17850625"
            ]
          },
          "metadata": {},
          "execution_count": 138
        }
      ]
    },
    {
      "cell_type": "markdown",
      "source": [
        "#### 15 - ESCREVA UMA FUNÇÃO PARA SOMAR TODOS OS NÚMEROS EM UMA LISTA."
      ],
      "metadata": {
        "id": "ia7zbkd0ifCd"
      }
    },
    {
      "cell_type": "code",
      "source": [
        "def soma_lista(*lista: int) -> int:\n",
        "  s = 0\n",
        "  for i in lista:\n",
        "    s += i\n",
        "  return s\n",
        "\n",
        "soma_lista(3, 4, 8, 23)"
      ],
      "metadata": {
        "colab": {
          "base_uri": "https://localhost:8080/"
        },
        "id": "s6Ja_RFxiln_",
        "outputId": "f06ba48d-1de5-4068-ecc5-f1b030122c9a"
      },
      "execution_count": 139,
      "outputs": [
        {
          "output_type": "execute_result",
          "data": {
            "text/plain": [
              "38"
            ]
          },
          "metadata": {},
          "execution_count": 139
        }
      ]
    },
    {
      "cell_type": "markdown",
      "source": [
        "#### 16 - ESCREVA UMA FUNÇÃO PARA MULTIPLICAR TODOS OS NÚMEROS EM UMA LISTA"
      ],
      "metadata": {
        "id": "EJzK-B1tjDlU"
      }
    },
    {
      "cell_type": "code",
      "source": [
        "def mult_lista(*lista: int) -> int:\n",
        "  mult = 1\n",
        "  for i in lista:\n",
        "    mult *= i\n",
        "  return mult\n",
        "\n",
        "mult_lista(2, 3, 9, 12)"
      ],
      "metadata": {
        "colab": {
          "base_uri": "https://localhost:8080/"
        },
        "id": "Gf2gMy0_jIJN",
        "outputId": "67506221-616b-4411-bbe4-8cb894edcbd1"
      },
      "execution_count": 140,
      "outputs": [
        {
          "output_type": "execute_result",
          "data": {
            "text/plain": [
              "648"
            ]
          },
          "metadata": {},
          "execution_count": 140
        }
      ]
    },
    {
      "cell_type": "markdown",
      "source": [
        "#### 17 - ESCREVA UMA FUNÇÃO PARA VERIFICAR SE UM NÚMERO ESTÁ EM UM DETERMINADO INTERVALO."
      ],
      "metadata": {
        "id": "mws4zfzMjjpt"
      }
    },
    {
      "cell_type": "code",
      "source": [
        "# Como verificar se um número está em um determinado intervalo numérico:\n",
        "20 in range(10, 21)"
      ],
      "metadata": {
        "colab": {
          "base_uri": "https://localhost:8080/"
        },
        "id": "KtiEs4Z0mcPx",
        "outputId": "44af8b15-53c1-4a03-d480-ffb7328b646c"
      },
      "execution_count": 141,
      "outputs": [
        {
          "output_type": "execute_result",
          "data": {
            "text/plain": [
              "True"
            ]
          },
          "metadata": {},
          "execution_count": 141
        }
      ]
    },
    {
      "cell_type": "code",
      "source": [
        "def num_intervalo(num_verificar: int, y: int, z: int) -> int:\n",
        "  if (num_verificar in range(y, z + 1)):\n",
        "    return f'{num_verificar} está no intervalo de {y} e {z}'\n",
        "  else:\n",
        "    return f'{num_verificar} não está no intervalo de {y} e {z}'\n",
        "\n",
        "num_intervalo(1000, 1, 100)"
      ],
      "metadata": {
        "colab": {
          "base_uri": "https://localhost:8080/",
          "height": 35
        },
        "id": "sk0dynOrjeFb",
        "outputId": "58f17649-b015-4819-ee91-4cd201695942"
      },
      "execution_count": 142,
      "outputs": [
        {
          "output_type": "execute_result",
          "data": {
            "application/vnd.google.colaboratory.intrinsic+json": {
              "type": "string"
            },
            "text/plain": [
              "'1000 não está no intervalo de 1 e 100'"
            ]
          },
          "metadata": {},
          "execution_count": 142
        }
      ]
    },
    {
      "cell_type": "markdown",
      "source": [
        "#### 18 -  ESCREVA UM PROGRAMA PARA IMPRIMIR OS NÚMEROS PARES DE UMA DETERMINADA LISTA."
      ],
      "metadata": {
        "id": "g9sD-kaJm_F8"
      }
    },
    {
      "cell_type": "code",
      "source": [
        "def num_par(*lista):\n",
        "  list_par = []\n",
        "  for i in lista:\n",
        "    if (i % 2 == 0):\n",
        "      list_par.append(i)\n",
        "  return list_par\n",
        "\n",
        "num_par(1, 2, 3, 4, 5, 6, 7, 8, 9, 10)"
      ],
      "metadata": {
        "id": "jHwWVkeSnHmq",
        "colab": {
          "base_uri": "https://localhost:8080/"
        },
        "outputId": "b7448a8c-4ede-4f54-fcc0-bdde770f944f"
      },
      "execution_count": 181,
      "outputs": [
        {
          "output_type": "execute_result",
          "data": {
            "text/plain": [
              "[2, 4, 6, 8, 10]"
            ]
          },
          "metadata": {},
          "execution_count": 181
        }
      ]
    },
    {
      "cell_type": "markdown",
      "source": [
        "#### 19 - ESCREVA UMA FUNÇÃO PARA CRIAR E IMPRIMIR UMA LISTA ONDE OS VALORES SÃO QUADRADOS DE NÚMEROS ENTRE 1 E 30 (AMBOS INCLUÍDOS)."
      ],
      "metadata": {
        "id": "uISk5Vxe6dBe"
      }
    },
    {
      "cell_type": "code",
      "source": [
        "def quadrado_intervalo(x = 1, y = 30):\n",
        "  list_quadrado = []\n",
        "  for i in range(x, y + 1):\n",
        "    list_quadrado.append(i ** 2)\n",
        "  return list_quadrado\n",
        "\n",
        "quadrado_intervalo()"
      ],
      "metadata": {
        "colab": {
          "base_uri": "https://localhost:8080/"
        },
        "id": "237AzBid6gsQ",
        "outputId": "68369d4b-5980-4196-c05f-a3dd19abecf3"
      },
      "execution_count": 184,
      "outputs": [
        {
          "output_type": "execute_result",
          "data": {
            "text/plain": [
              "[1,\n",
              " 4,\n",
              " 9,\n",
              " 16,\n",
              " 25,\n",
              " 36,\n",
              " 49,\n",
              " 64,\n",
              " 81,\n",
              " 100,\n",
              " 121,\n",
              " 144,\n",
              " 169,\n",
              " 196,\n",
              " 225,\n",
              " 256,\n",
              " 289,\n",
              " 324,\n",
              " 361,\n",
              " 400,\n",
              " 441,\n",
              " 484,\n",
              " 529,\n",
              " 576,\n",
              " 625,\n",
              " 676,\n",
              " 729,\n",
              " 784,\n",
              " 841,\n",
              " 900]"
            ]
          },
          "metadata": {},
          "execution_count": 184
        }
      ]
    },
    {
      "cell_type": "markdown",
      "source": [
        "#### 20 -  ESCREVA UM PROGRAMA PARA DETECTAR O NÚMERO DE VARIÁVEIS LOCAIS DECLARADAS EM UMA FUNÇÃO."
      ],
      "metadata": {
        "id": "vmljwUs58obD"
      }
    },
    {
      "cell_type": "code",
      "source": [
        "# Como saber a quantidade de variáveis locais dentro de uma função:\n",
        "def qualquer():\n",
        "  pass\n",
        "\n",
        "qualquer()\n",
        "\n",
        "print(qualquer.__code__.co_nlocals)"
      ],
      "metadata": {
        "colab": {
          "base_uri": "https://localhost:8080/"
        },
        "id": "0_AwS2DT8qfO",
        "outputId": "326e0130-0e0b-4429-949d-d2954b40cb49"
      },
      "execution_count": 185,
      "outputs": [
        {
          "output_type": "stream",
          "name": "stdout",
          "text": [
            "0\n"
          ]
        }
      ]
    },
    {
      "cell_type": "code",
      "source": [
        "def variaveis_locais():\n",
        "  a, b, c = 1, 3.14, 5.6\n",
        "  return variaveis_locais.__code__.co_nlocals\n",
        "\n",
        "variaveis_locais()"
      ],
      "metadata": {
        "colab": {
          "base_uri": "https://localhost:8080/"
        },
        "id": "AQVX47go-FI6",
        "outputId": "6693e0c3-5ed0-4a76-84d6-3f094af311f9"
      },
      "execution_count": 188,
      "outputs": [
        {
          "output_type": "execute_result",
          "data": {
            "text/plain": [
              "3"
            ]
          },
          "metadata": {},
          "execution_count": 188
        }
      ]
    },
    {
      "cell_type": "markdown",
      "source": [
        "#### LISTA DE EXERCÍCIOS FINALIZADA."
      ],
      "metadata": {
        "id": "YEbfYcBt-4dN"
      }
    }
  ]
}