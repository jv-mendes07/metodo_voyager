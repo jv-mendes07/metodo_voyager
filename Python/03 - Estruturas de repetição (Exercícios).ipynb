{
  "nbformat": 4,
  "nbformat_minor": 0,
  "metadata": {
    "colab": {
      "name": "03 - Estruturas de repetição (Exercícios).ipynb",
      "provenance": [],
      "collapsed_sections": []
    },
    "kernelspec": {
      "name": "python3",
      "display_name": "Python 3"
    },
    "language_info": {
      "name": "python"
    }
  },
  "cells": [
    {
      "cell_type": "markdown",
      "source": [
        "#### 1 - LEIA UM NÚMERO INTEIRO E IMPRIMA ATÉ O VALOR 0."
      ],
      "metadata": {
        "id": "O7E3VrRI6Z0H"
      }
    },
    {
      "cell_type": "code",
      "source": [
        "num_int = int(input('Digita um número inteiro: '))\n",
        "print('\\n')\n",
        "while (num_int > 0):\n",
        "  num_int = num_int - 1\n",
        "  print(num_int)\n",
        "print('\\n')\n",
        "print('Operação de repetição concluída.')"
      ],
      "metadata": {
        "colab": {
          "base_uri": "https://localhost:8080/"
        },
        "id": "23CVpWpA6b1_",
        "outputId": "57298923-7163-4ce2-81f1-ab50d6eb2563"
      },
      "execution_count": 17,
      "outputs": [
        {
          "output_type": "stream",
          "name": "stdout",
          "text": [
            "Digita um número inteiro: 10\n",
            "\n",
            "\n",
            "9\n",
            "8\n",
            "7\n",
            "6\n",
            "5\n",
            "4\n",
            "3\n",
            "2\n",
            "1\n",
            "0\n",
            "\n",
            "\n",
            "Operação de repetição concluída.\n"
          ]
        }
      ]
    },
    {
      "cell_type": "markdown",
      "source": [
        "#### 2 - FAÇA UM PROGRAMA QUE IMPRIME A QUANTIDADE DE NÚMEROS PARES DE 100 ATÉ 200, INCLUINDO-OS."
      ],
      "metadata": {
        "id": "QnkmtAsQCVG0"
      }
    },
    {
      "cell_type": "code",
      "source": [
        "# Else utilizável para ajudar no espaçamento e na visualização dos números pares imprimidos.\n",
        "num_int = 100\n",
        "while (num_int <= 200):\n",
        "  if (num_int % 2 == 0):\n",
        "    print(num_int)\n",
        "  else:\n",
        "    print('')\n",
        "  num_int = num_int + 1"
      ],
      "metadata": {
        "colab": {
          "base_uri": "https://localhost:8080/"
        },
        "id": "VoMBc55R6jy9",
        "outputId": "1d257764-8cd5-4746-bcbd-f0dd56110aae"
      },
      "execution_count": 18,
      "outputs": [
        {
          "output_type": "stream",
          "name": "stdout",
          "text": [
            "100\n",
            "\n",
            "102\n",
            "\n",
            "104\n",
            "\n",
            "106\n",
            "\n",
            "108\n",
            "\n",
            "110\n",
            "\n",
            "112\n",
            "\n",
            "114\n",
            "\n",
            "116\n",
            "\n",
            "118\n",
            "\n",
            "120\n",
            "\n",
            "122\n",
            "\n",
            "124\n",
            "\n",
            "126\n",
            "\n",
            "128\n",
            "\n",
            "130\n",
            "\n",
            "132\n",
            "\n",
            "134\n",
            "\n",
            "136\n",
            "\n",
            "138\n",
            "\n",
            "140\n",
            "\n",
            "142\n",
            "\n",
            "144\n",
            "\n",
            "146\n",
            "\n",
            "148\n",
            "\n",
            "150\n",
            "\n",
            "152\n",
            "\n",
            "154\n",
            "\n",
            "156\n",
            "\n",
            "158\n",
            "\n",
            "160\n",
            "\n",
            "162\n",
            "\n",
            "164\n",
            "\n",
            "166\n",
            "\n",
            "168\n",
            "\n",
            "170\n",
            "\n",
            "172\n",
            "\n",
            "174\n",
            "\n",
            "176\n",
            "\n",
            "178\n",
            "\n",
            "180\n",
            "\n",
            "182\n",
            "\n",
            "184\n",
            "\n",
            "186\n",
            "\n",
            "188\n",
            "\n",
            "190\n",
            "\n",
            "192\n",
            "\n",
            "194\n",
            "\n",
            "196\n",
            "\n",
            "198\n",
            "\n",
            "200\n"
          ]
        }
      ]
    },
    {
      "cell_type": "code",
      "source": [
        "1# Condicional sem o else\n",
        "num_int = 100\n",
        "while (num_int <= 200):\n",
        "  if (num_int % 2 == 0):\n",
        "    print(num_int)\n",
        "  num_int = num_int + 1"
      ],
      "metadata": {
        "colab": {
          "base_uri": "https://localhost:8080/"
        },
        "id": "NRh_Admp_Lc2",
        "outputId": "10eccb13-1bd3-467a-fdb4-b663f74eec61"
      },
      "execution_count": 3,
      "outputs": [
        {
          "output_type": "stream",
          "name": "stdout",
          "text": [
            "100\n",
            "102\n",
            "104\n",
            "106\n",
            "108\n",
            "110\n",
            "112\n",
            "114\n",
            "116\n",
            "118\n",
            "120\n",
            "122\n",
            "124\n",
            "126\n",
            "128\n",
            "130\n",
            "132\n",
            "134\n",
            "136\n",
            "138\n",
            "140\n",
            "142\n",
            "144\n",
            "146\n",
            "148\n",
            "150\n",
            "152\n",
            "154\n",
            "156\n",
            "158\n",
            "160\n",
            "162\n",
            "164\n",
            "166\n",
            "168\n",
            "170\n",
            "172\n",
            "174\n",
            "176\n",
            "178\n",
            "180\n",
            "182\n",
            "184\n",
            "186\n",
            "188\n",
            "190\n",
            "192\n",
            "194\n",
            "196\n",
            "198\n",
            "200\n"
          ]
        }
      ]
    },
    {
      "cell_type": "code",
      "source": [
        "# O método range como solução simples do problema.\n",
        "for i in list(range(100, 201, 2)):\n",
        "    print(i)\n",
        "  "
      ],
      "metadata": {
        "colab": {
          "base_uri": "https://localhost:8080/"
        },
        "id": "3QXhm2xT2a0q",
        "outputId": "2bae83b6-bab5-46da-d53b-3fdc70458aee"
      },
      "execution_count": 19,
      "outputs": [
        {
          "output_type": "stream",
          "name": "stdout",
          "text": [
            "100\n",
            "102\n",
            "104\n",
            "106\n",
            "108\n",
            "110\n",
            "112\n",
            "114\n",
            "116\n",
            "118\n",
            "120\n",
            "122\n",
            "124\n",
            "126\n",
            "128\n",
            "130\n",
            "132\n",
            "134\n",
            "136\n",
            "138\n",
            "140\n",
            "142\n",
            "144\n",
            "146\n",
            "148\n",
            "150\n",
            "152\n",
            "154\n",
            "156\n",
            "158\n",
            "160\n",
            "162\n",
            "164\n",
            "166\n",
            "168\n",
            "170\n",
            "172\n",
            "174\n",
            "176\n",
            "178\n",
            "180\n",
            "182\n",
            "184\n",
            "186\n",
            "188\n",
            "190\n",
            "192\n",
            "194\n",
            "196\n",
            "198\n",
            "200\n"
          ]
        }
      ]
    },
    {
      "cell_type": "markdown",
      "source": [
        "#### 3 - FAÇA UM PROGRAMA PARA CONTAR A QUANTIDADE DE NÚMEROS PARES ENTRE DOIS NÚMEROS QUAISQUER?"
      ],
      "metadata": {
        "id": "EDRgcg2m1-7W"
      }
    },
    {
      "cell_type": "code",
      "source": [
        "prim_val = int(input('Digite o número do início intervalar: '))\n",
        "print('\\n')\n",
        "seg_val = int(input('Digite o número do final intervalar: '))\n",
        "print('\\n')\n",
        "pares = []\n",
        "for i in list(range(prim_val, seg_val, 2)):\n",
        "  pares.append(i)\n",
        "  print(len(pares))\n",
        "print('\\n')\n",
        "print(f'Há {len(pares)} números no intervalo de {prim_val} e {seg_val}')"
      ],
      "metadata": {
        "colab": {
          "base_uri": "https://localhost:8080/"
        },
        "id": "pB-xPJ5x2Meo",
        "outputId": "fb08d71d-df08-4308-c5ca-b1503890f79a"
      },
      "execution_count": 20,
      "outputs": [
        {
          "output_type": "stream",
          "name": "stdout",
          "text": [
            "Digite o número do início intervalar: 10\n",
            "\n",
            "\n",
            "Digite o número do final intervalar: 21\n",
            "\n",
            "\n",
            "1\n",
            "2\n",
            "3\n",
            "4\n",
            "5\n",
            "6\n",
            "\n",
            "\n",
            "Há 6 números no intervalo de 10 e 21\n"
          ]
        }
      ]
    },
    {
      "cell_type": "markdown",
      "source": [
        "#### 4 - FAÇA UM PROGRAMA QUE IMPRIME A SOMA DE TODOS OS NÚMEROS PARES ENTRE DOIS NÚMEROS QUAISQUER, INCLUINDO-OS."
      ],
      "metadata": {
        "id": "p3o96FqEG5wt"
      }
    },
    {
      "cell_type": "code",
      "source": [
        "prim_val = int(input('Digite o primeiro número: '))\n",
        "print('\\n')\n",
        "seg_val = int(input('Digite o segundo número: '))\n",
        "print('\\n')\n",
        "soma = 0\n",
        "for i in range(prim_val, seg_val + 1):\n",
        "  if (i % 2 == 0):\n",
        "    soma = soma + i\n",
        "    print(i, soma)\n",
        "print('\\n')\n",
        "print(f'A soma dos números pares é {soma}')"
      ],
      "metadata": {
        "colab": {
          "base_uri": "https://localhost:8080/"
        },
        "id": "V78Wb--6YPdV",
        "outputId": "ef6f167d-20a4-4e62-dbe1-84140820a31c"
      },
      "execution_count": 21,
      "outputs": [
        {
          "output_type": "stream",
          "name": "stdout",
          "text": [
            "Digite o primeiro número: 21\n",
            "\n",
            "\n",
            "Digite o segundo número: 32\n",
            "\n",
            "\n",
            "22 22\n",
            "24 46\n",
            "26 72\n",
            "28 100\n",
            "30 130\n",
            "32 162\n",
            "\n",
            "\n",
            "A soma dos números pares é 162\n"
          ]
        }
      ]
    },
    {
      "cell_type": "code",
      "source": [
        "# Do lado esquerdo há a impressão dos números pares \n",
        "# Do lado direito há o resultado da soma do número par com o número par anterior\n",
        "# Obs -- O primeiro número não realiza nenhuma soma por não haver nenhum número par anterior\n",
        "\n",
        "prim_val = int(input('Digite o primeiro número: '))\n",
        "print('\\n')\n",
        "seg_val = int(input('Digite o segundo número: '))\n",
        "print('\\n')\n",
        "pares = []\n",
        "for i, j in enumerate(range(prim_val, seg_val + 1)):\n",
        "  if (j % 2 == 0):\n",
        "    pares.append(j)\n",
        "    print(j, sum(pares))\n",
        "print('\\n')\n",
        "print(f'A soma dos números pares entre o intervalo de {prim_val} e {seg_val} é igual à {sum(pares)}')"
      ],
      "metadata": {
        "colab": {
          "base_uri": "https://localhost:8080/"
        },
        "id": "jS5h2zRRHqri",
        "outputId": "5f075ecb-aaf8-43a6-f78b-9fa30517ae82"
      },
      "execution_count": 22,
      "outputs": [
        {
          "output_type": "stream",
          "name": "stdout",
          "text": [
            "Digite o primeiro número: 12\n",
            "\n",
            "\n",
            "Digite o segundo número: 55\n",
            "\n",
            "\n",
            "12 12\n",
            "14 26\n",
            "16 42\n",
            "18 60\n",
            "20 80\n",
            "22 102\n",
            "24 126\n",
            "26 152\n",
            "28 180\n",
            "30 210\n",
            "32 242\n",
            "34 276\n",
            "36 312\n",
            "38 350\n",
            "40 390\n",
            "42 432\n",
            "44 476\n",
            "46 522\n",
            "48 570\n",
            "50 620\n",
            "52 672\n",
            "54 726\n",
            "\n",
            "\n",
            "A soma dos números pares entre o intervalo de 12 e 55 é igual à 726\n"
          ]
        }
      ]
    },
    {
      "cell_type": "markdown",
      "source": [
        "5 - FAÇA UM PROGRAMA QUE CALCULE O FATORIAL DE UM NÚMERO."
      ],
      "metadata": {
        "id": "S7MDC_yr-H1K"
      }
    },
    {
      "cell_type": "code",
      "source": [
        "num_int = int(input('Digite um número inteiro: '))\n",
        "print('\\n')\n",
        "import math\n",
        "if (num_int >= 0):\n",
        "  print(f'A fatoração do número {num_int} é {math.factorial(num_int)}')\n",
        "else:\n",
        "  print('Não há fatoração de número negativo!')"
      ],
      "metadata": {
        "id": "Bbcb_qbzTWCB",
        "colab": {
          "base_uri": "https://localhost:8080/"
        },
        "outputId": "1d98d2b5-ef63-4250-e908-da6734fb44a2"
      },
      "execution_count": 23,
      "outputs": [
        {
          "output_type": "stream",
          "name": "stdout",
          "text": [
            "Digite um número inteiro: 5\n",
            "\n",
            "\n",
            "A fatoração do número 5 é 120\n"
          ]
        }
      ]
    },
    {
      "cell_type": "code",
      "source": [
        "# Usando a estrutura de repetição (while)\n",
        "n = int(input('Digite um número inteiro não-negativo: '))\n",
        "print('\\n')\n",
        "i = 1\n",
        "con_fact = 1\n",
        "while (i <= n):\n",
        "  con_fact = con_fact * i\n",
        "  i = i + 1\n",
        "  print(con_fact)\n",
        "print('\\n')\n",
        "print(f'A fatoração do número {n} é {con_fact}')"
      ],
      "metadata": {
        "colab": {
          "base_uri": "https://localhost:8080/"
        },
        "id": "qnFAzwnj-M-K",
        "outputId": "6faf05e1-78c7-4eda-d5a4-f73c1d98d7e0"
      },
      "execution_count": 24,
      "outputs": [
        {
          "output_type": "stream",
          "name": "stdout",
          "text": [
            "Digite um número inteiro não-negativo: 7\n",
            "\n",
            "\n",
            "1\n",
            "2\n",
            "6\n",
            "24\n",
            "120\n",
            "720\n",
            "5040\n",
            "\n",
            "\n",
            "A fatoração do número 7 é 5040\n"
          ]
        }
      ]
    },
    {
      "cell_type": "code",
      "source": [
        "# Usando a estrutura de repetição (for)\n",
        "n = int(input('Digite um número inteiro não-negativo: '))\n",
        "print('\\n')\n",
        "i = 1\n",
        "fact = 1\n",
        "for x in range(n, i, -1):\n",
        "  fact = fact * x\n",
        "  print(fact)\n",
        "print('\\n')\n",
        "print('O fatorial do número {0} é {1}'.format(n, fact))"
      ],
      "metadata": {
        "colab": {
          "base_uri": "https://localhost:8080/"
        },
        "id": "VbcNzyd4Aj3c",
        "outputId": "3255b24e-24dc-427d-b235-449307d536e9"
      },
      "execution_count": 10,
      "outputs": [
        {
          "output_type": "stream",
          "name": "stdout",
          "text": [
            "Digite um número inteiro não-negativo: 4\n",
            "\n",
            "\n",
            "4\n",
            "12\n",
            "24\n",
            "\n",
            "\n",
            "O fatorial do número 4 é 24\n"
          ]
        }
      ]
    },
    {
      "cell_type": "markdown",
      "source": [
        "#### 6 - FAÇA UM PROGRAMA QUE DETERMINE O MOSTRE OS CINCO PRIMEIROS MÚLTIPLOS DE 3, CONSIDERANDO NÚMEROS MAIORES QUE 0."
      ],
      "metadata": {
        "id": "RvZnmepZOYi-"
      }
    },
    {
      "cell_type": "code",
      "source": [
        "# Usando o for para resolver o problema\n",
        "num_int = int(input('Digite um número inteiro: '))\n",
        "print('\\n')\n",
        "for i in range(1, 5 + 1):\n",
        "  n = num_int * i\n",
        "  print(n)\n",
        "print('\\n')\n",
        "print('Os cinco primeiros múltiplos do número {0} são {1}, {2}, {3}, {4}, {5}'.format(num_int, num_int * 1, num_int * 2, \n",
        "                                                                                      num_int * 3, num_int * 4, num_int * 5))"
      ],
      "metadata": {
        "colab": {
          "base_uri": "https://localhost:8080/"
        },
        "id": "eKnfn2V3KUv0",
        "outputId": "8332efa1-aa79-4424-e6c9-e7315d1db521"
      },
      "execution_count": 11,
      "outputs": [
        {
          "output_type": "stream",
          "name": "stdout",
          "text": [
            "Digite um número inteiro: 3\n",
            "\n",
            "\n",
            "3\n",
            "6\n",
            "9\n",
            "12\n",
            "15\n",
            "\n",
            "\n",
            "Os cinco primeiros múltiplos do número 3 são 3, 6, 9, 12, 15\n"
          ]
        }
      ]
    },
    {
      "cell_type": "code",
      "source": [
        "# Usando while para resolver o mesmo problema\n",
        "num_int = int(input('Digite um número inteiro: '))\n",
        "print('\\n')\n",
        "n = 1\n",
        "while (n <= 5):\n",
        "  i = num_int * n\n",
        "  print(i)\n",
        "  n = n + 1\n",
        "print('\\n')\n",
        "print(f'Os cinco primeiros múltiplos do número {num_int} são {num_int * 1}, {num_int *2}, {num_int *3}, {num_int * 4}, {num_int * 5}')"
      ],
      "metadata": {
        "colab": {
          "base_uri": "https://localhost:8080/"
        },
        "id": "7Cdd-du0P_jJ",
        "outputId": "a254ccf6-080e-4eef-871a-c56a5bf0071c"
      },
      "execution_count": 12,
      "outputs": [
        {
          "output_type": "stream",
          "name": "stdout",
          "text": [
            "Digite um número inteiro: 3\n",
            "\n",
            "\n",
            "3\n",
            "6\n",
            "9\n",
            "12\n",
            "15\n",
            "\n",
            "\n",
            "Os cinco primeiros múltiplos do número 3 são 3, 6, 9, 12, 15\n"
          ]
        }
      ]
    },
    {
      "cell_type": "markdown",
      "source": [
        "#### 7 - FAÇA UM ALGORITMO UTILIZANDO O COMANDO WHILE QUE MOSTRA UMA CONTAGEM REGRESSIVA NA TELA, INICIANDO EM 10 E TERMINANDO EM 0. MOSTRAR UMA MENSAGEM “ FIM!” APÓS A CONTAGEM."
      ],
      "metadata": {
        "id": "owiPviKfWR51"
      }
    },
    {
      "cell_type": "code",
      "source": [
        "num_int = int(input('Digite um número inteiro: '))\n",
        "print('\\n')\n",
        "while (num_int >= 0):\n",
        "  if (num_int >= 0):\n",
        "    print(num_int)\n",
        "    num_int = num_int - 1\n",
        "print('\\n')\n",
        "print('FIM!')"
      ],
      "metadata": {
        "colab": {
          "base_uri": "https://localhost:8080/"
        },
        "id": "J8Ey3qvZWZGq",
        "outputId": "8a8a9989-a890-4315-c61a-3190ce251d1f"
      },
      "execution_count": 13,
      "outputs": [
        {
          "output_type": "stream",
          "name": "stdout",
          "text": [
            "Digite um número inteiro: 10\n",
            "\n",
            "\n",
            "10\n",
            "9\n",
            "8\n",
            "7\n",
            "6\n",
            "5\n",
            "4\n",
            "3\n",
            "2\n",
            "1\n",
            "0\n",
            "\n",
            "\n",
            "FIM!\n"
          ]
        }
      ]
    },
    {
      "cell_type": "markdown",
      "source": [
        "#### 8 - FAÇA UM PROGRAMA QUE PEÇA AO USUÁRIO PARA DIGITAR 10 VALORES E SOME-OS."
      ],
      "metadata": {
        "id": "BX4nFsbiZQW_"
      }
    },
    {
      "cell_type": "code",
      "source": [
        "# Usando o método mais custoso\n",
        "\n",
        "prim_val = int(input('Digite o primeiro valor: '))\n",
        "print('\\n')\n",
        "seg_val = int(input('Digite o segundo valor: '))\n",
        "print('\\n')\n",
        "ter_val = int(input('Digite o terceiro valor: '))\n",
        "print('\\n')\n",
        "quar_val = int(input('Digite o quarto valor: '))\n",
        "print('\\n')\n",
        "quin_val = int(input('Digite o quinto valor: '))\n",
        "print('\\n')\n",
        "sex_val = int(input('Digite o sexto valor: '))\n",
        "print('\\n')\n",
        "set_val = int(input('Digite o sétimo valor: '))\n",
        "print('\\n')\n",
        "oit_val = int(input('Digite o oitavo valor: '))\n",
        "print('\\n')\n",
        "non_val = int(input('Digite o nono valor: '))\n",
        "print('\\n')\n",
        "dez_val = int(input('Digite o quarto valor: '))\n",
        "print('\\n')\n",
        "s = prim_val + seg_val + ter_val + quar_val + quin_val + sex_val + set_val + oit_val + non_val + dez_val\n",
        "print(f'A soma de {prim_val}, {seg_val}, {ter_val}, {quar_val}, {quin_val}, {sex_val}, {set_val}, {oit_val}, {non_val}, {dez_val} é {s}')"
      ],
      "metadata": {
        "colab": {
          "base_uri": "https://localhost:8080/"
        },
        "id": "tEIFqHxvWzJt",
        "outputId": "29e64e36-dd21-47fe-9047-89a7584cafdd"
      },
      "execution_count": 14,
      "outputs": [
        {
          "output_type": "stream",
          "name": "stdout",
          "text": [
            "Digite o primeiro valor: 10\n",
            "\n",
            "\n",
            "Digite o segundo valor: 20\n",
            "\n",
            "\n",
            "Digite o terceiro valor: 30\n",
            "\n",
            "\n",
            "Digite o quarto valor: 40\n",
            "\n",
            "\n",
            "Digite o quinto valor: 50\n",
            "\n",
            "\n",
            "Digite o sexto valor: 60\n",
            "\n",
            "\n",
            "Digite o sétimo valor: 70\n",
            "\n",
            "\n",
            "Digite o oitavo valor: 80\n",
            "\n",
            "\n",
            "Digite o nono valor: 90\n",
            "\n",
            "\n",
            "Digite o quarto valor: 100\n",
            "\n",
            "\n",
            "A soma de 10, 20, 30, 40, 50, 60, 70, 80, 90, 100 é 550\n"
          ]
        }
      ]
    },
    {
      "cell_type": "code",
      "source": [
        "# Usando for como o método mais simples de resolução do problema\n",
        "l = []\n",
        "for i in range(10):\n",
        "  num_int = int(input('Digite um número inteiro:'))\n",
        "  print('\\n')\n",
        "  l.append(num_int)\n",
        "  print(sum(l))\n",
        "  print('\\n')\n",
        "print(f'A soma dos dez valores resulta em {sum(l)}')"
      ],
      "metadata": {
        "colab": {
          "base_uri": "https://localhost:8080/"
        },
        "id": "_OKUOonbazp7",
        "outputId": "d02bd7a8-d747-4ea9-c026-c6496bf4daa2"
      },
      "execution_count": 25,
      "outputs": [
        {
          "output_type": "stream",
          "name": "stdout",
          "text": [
            "Digite um número inteiro:12\n",
            "\n",
            "\n",
            "12\n",
            "\n",
            "\n",
            "Digite um número inteiro:32\n",
            "\n",
            "\n",
            "44\n",
            "\n",
            "\n",
            "Digite um número inteiro:43\n",
            "\n",
            "\n",
            "87\n",
            "\n",
            "\n",
            "Digite um número inteiro:12\n",
            "\n",
            "\n",
            "99\n",
            "\n",
            "\n",
            "Digite um número inteiro:44\n",
            "\n",
            "\n",
            "143\n",
            "\n",
            "\n",
            "Digite um número inteiro:2\n",
            "\n",
            "\n",
            "145\n",
            "\n",
            "\n",
            "Digite um número inteiro:12\n",
            "\n",
            "\n",
            "157\n",
            "\n",
            "\n",
            "Digite um número inteiro:43\n",
            "\n",
            "\n",
            "200\n",
            "\n",
            "\n",
            "Digite um número inteiro:22\n",
            "\n",
            "\n",
            "222\n",
            "\n",
            "\n",
            "Digite um número inteiro:12\n",
            "\n",
            "\n",
            "234\n",
            "\n",
            "\n",
            "A soma dos dez valores resulta em 234\n"
          ]
        }
      ]
    },
    {
      "cell_type": "markdown",
      "source": [
        "#### 9 - FAÇA UM PROGRAMA QUE LEIA 10 INTEIROS E IMPRIMA SUA MÉDIA."
      ],
      "metadata": {
        "id": "I-2rdMs-OM4T"
      }
    },
    {
      "cell_type": "code",
      "source": [
        "import numpy as np\n",
        "l = []\n",
        "for i in range(1, 11):\n",
        "  n = int(input('Digite um número inteiro: '))\n",
        "  print('\\n')\n",
        "  l.append(n)\n",
        "  print(np.mean(l))\n",
        "  print('\\n')\n",
        "print(f'A média dos dez números inteiros é {np.mean(l)}')"
      ],
      "metadata": {
        "id": "zryzrCkhdJBJ",
        "colab": {
          "base_uri": "https://localhost:8080/"
        },
        "outputId": "75b3fad5-ccd4-4d1c-c7d3-48ef2c6491c6"
      },
      "execution_count": 28,
      "outputs": [
        {
          "output_type": "stream",
          "name": "stdout",
          "text": [
            "Digite um número inteiro: 12\n",
            "\n",
            "\n",
            "12.0\n",
            "\n",
            "\n",
            "Digite um número inteiro: 2\n",
            "\n",
            "\n",
            "7.0\n",
            "\n",
            "\n",
            "Digite um número inteiro: 123\n",
            "\n",
            "\n",
            "45.666666666666664\n",
            "\n",
            "\n",
            "Digite um número inteiro: 44\n",
            "\n",
            "\n",
            "45.25\n",
            "\n",
            "\n",
            "Digite um número inteiro: 2\n",
            "\n",
            "\n",
            "36.6\n",
            "\n",
            "\n",
            "Digite um número inteiro: 31\n",
            "\n",
            "\n",
            "35.666666666666664\n",
            "\n",
            "\n",
            "Digite um número inteiro: 1\n",
            "\n",
            "\n",
            "30.714285714285715\n",
            "\n",
            "\n",
            "Digite um número inteiro: 22\n",
            "\n",
            "\n",
            "29.625\n",
            "\n",
            "\n",
            "Digite um número inteiro: 32\n",
            "\n",
            "\n",
            "29.88888888888889\n",
            "\n",
            "\n",
            "Digite um número inteiro: 14\n",
            "\n",
            "\n",
            "28.3\n",
            "\n",
            "\n",
            "A média dos dez números inteiros é 28.3\n"
          ]
        }
      ]
    },
    {
      "cell_type": "markdown",
      "source": [
        "#### 10 - FAÇA UM PROGRAMA QUE LEIA 10 INTEIROS POSITIVOS, IGNORANDO NAO POSITIVOS, E IMPRIMA SUA MÉDIA."
      ],
      "metadata": {
        "id": "l-agOO92T1FT"
      }
    },
    {
      "cell_type": "code",
      "source": [
        "l = []\n",
        "for i in range(10):\n",
        "  n = int(input('Digite um número inteiro: '))\n",
        "  print('\\n')\n",
        "  if (n > 0):\n",
        "    l.append(n)\n",
        "  else:\n",
        "    print('Números negativos não são válidos!')\n",
        "    print('\\n')\n",
        "if (len(l) >= 1):\n",
        "  print(f'A média da lista de números {l} é {sum(l)/len(l)}')"
      ],
      "metadata": {
        "colab": {
          "base_uri": "https://localhost:8080/"
        },
        "id": "IdrOogWjTTaY",
        "outputId": "92236e67-3bd1-4b66-e36b-1a2a1ef009f7"
      },
      "execution_count": 29,
      "outputs": [
        {
          "output_type": "stream",
          "name": "stdout",
          "text": [
            "Digite um número inteiro: 12\n",
            "\n",
            "\n",
            "Digite um número inteiro: 22\n",
            "\n",
            "\n",
            "Digite um número inteiro: 34\n",
            "\n",
            "\n",
            "Digite um número inteiro: 32\n",
            "\n",
            "\n",
            "Digite um número inteiro: 2\n",
            "\n",
            "\n",
            "Digite um número inteiro: 2\n",
            "\n",
            "\n",
            "Digite um número inteiro: 342\n",
            "\n",
            "\n",
            "Digite um número inteiro: 12\n",
            "\n",
            "\n",
            "Digite um número inteiro: 45\n",
            "\n",
            "\n",
            "Digite um número inteiro: 12\n",
            "\n",
            "\n",
            "A média da lista de números [12, 22, 34, 32, 2, 2, 342, 12, 45, 12] é 51.5\n"
          ]
        }
      ]
    },
    {
      "cell_type": "markdown",
      "source": [
        "#### 11 - FAÇA UM PROGRAMA QUE LEIA UM NUMERO INTEIRO N E DEPOIS IMPRIMA OS N PRIMEIROS NUMEROS NATURAIS ÍMPARES."
      ],
      "metadata": {
        "id": "PvMHPLQzZMTR"
      }
    },
    {
      "cell_type": "code",
      "source": [
        "# Usando for\n",
        "n = int(input('Digite um número inteiro: '))\n",
        "print('\\n')\n",
        "for i in range(1, n + 1):\n",
        "  if (i % 2 != 0):\n",
        "    print(f'{i} é ímpar')\n",
        "    print('\\n')"
      ],
      "metadata": {
        "colab": {
          "base_uri": "https://localhost:8080/"
        },
        "id": "9pHpoMH3Zio7",
        "outputId": "ebcb8ce7-d5c5-457d-aa7b-545885b5169c"
      },
      "execution_count": 30,
      "outputs": [
        {
          "output_type": "stream",
          "name": "stdout",
          "text": [
            "Digite um número inteiro: 13\n",
            "\n",
            "\n",
            "1 é ímpar\n",
            "\n",
            "\n",
            "3 é ímpar\n",
            "\n",
            "\n",
            "5 é ímpar\n",
            "\n",
            "\n",
            "7 é ímpar\n",
            "\n",
            "\n",
            "9 é ímpar\n",
            "\n",
            "\n",
            "11 é ímpar\n",
            "\n",
            "\n",
            "13 é ímpar\n",
            "\n",
            "\n"
          ]
        }
      ]
    },
    {
      "cell_type": "code",
      "source": [
        "# Usando while\n",
        "n = int(input('Digite um número inteiro: '))\n",
        "print('\\n')\n",
        "while (n >= 0):\n",
        "  if (n % 2 != 0):\n",
        "    print(f'{n} é ímpar')\n",
        "    print('\\n')\n",
        "  n = n - 1"
      ],
      "metadata": {
        "colab": {
          "base_uri": "https://localhost:8080/"
        },
        "id": "bBt6croea1xS",
        "outputId": "58d27690-740c-4bc6-8b53-d366d25ecd46"
      },
      "execution_count": 31,
      "outputs": [
        {
          "output_type": "stream",
          "name": "stdout",
          "text": [
            "Digite um número inteiro: 12\n",
            "\n",
            "\n",
            "11 é ímpar\n",
            "\n",
            "\n",
            "9 é ímpar\n",
            "\n",
            "\n",
            "7 é ímpar\n",
            "\n",
            "\n",
            "5 é ímpar\n",
            "\n",
            "\n",
            "3 é ímpar\n",
            "\n",
            "\n",
            "1 é ímpar\n",
            "\n",
            "\n"
          ]
        }
      ]
    },
    {
      "cell_type": "markdown",
      "source": [
        "#### 12 - FAÇA UM PROGRAMA QUE CALCULE E MOSTRE A SOMA DOS 50 PRIMEIROS NUMEROS PARES."
      ],
      "metadata": {
        "id": "sAzd-v3yd49S"
      }
    },
    {
      "cell_type": "code",
      "source": [
        "soma = 0\n",
        "n = 0\n",
        "contador = 0\n",
        "while (n < 100):\n",
        "  if (n % 2 == 0):\n",
        "    print(n)\n",
        "    contador += 1\n",
        "    soma += n\n",
        "  n = n + 1\n",
        "print('\\n')\n",
        "print(f'Há {contador} números pares') \n",
        "print('\\n')\n",
        "print(f'A soma dos 50 primeiros números pares é {soma}')"
      ],
      "metadata": {
        "colab": {
          "base_uri": "https://localhost:8080/"
        },
        "id": "OgeLZXUicC4K",
        "outputId": "f792bd73-834d-478c-9acd-8e74a2b98bb8"
      },
      "execution_count": 34,
      "outputs": [
        {
          "output_type": "stream",
          "name": "stdout",
          "text": [
            "0\n",
            "2\n",
            "4\n",
            "6\n",
            "8\n",
            "10\n",
            "12\n",
            "14\n",
            "16\n",
            "18\n",
            "20\n",
            "22\n",
            "24\n",
            "26\n",
            "28\n",
            "30\n",
            "32\n",
            "34\n",
            "36\n",
            "38\n",
            "40\n",
            "42\n",
            "44\n",
            "46\n",
            "48\n",
            "50\n",
            "52\n",
            "54\n",
            "56\n",
            "58\n",
            "60\n",
            "62\n",
            "64\n",
            "66\n",
            "68\n",
            "70\n",
            "72\n",
            "74\n",
            "76\n",
            "78\n",
            "80\n",
            "82\n",
            "84\n",
            "86\n",
            "88\n",
            "90\n",
            "92\n",
            "94\n",
            "96\n",
            "98\n",
            "\n",
            "\n",
            "Há 50 números pares\n",
            "\n",
            "\n",
            "A soma dos 50 primeiros números pares é 2450\n"
          ]
        }
      ]
    },
    {
      "cell_type": "markdown",
      "source": [
        "#### 13 - IMPRIMA OS PRIMEIROS 10 NÚMEROS NATURAIS USANDO O LOOP WHILE."
      ],
      "metadata": {
        "id": "w76e6QEfiWAh"
      }
    },
    {
      "cell_type": "code",
      "source": [
        "n = 0\n",
        "while (n <= 10):\n",
        "  print(n)\n",
        "  n = n + 1"
      ],
      "metadata": {
        "id": "X12-1nJBiYPa",
        "colab": {
          "base_uri": "https://localhost:8080/"
        },
        "outputId": "150472c5-b285-425f-e90e-dfb763cbd09b"
      },
      "execution_count": 37,
      "outputs": [
        {
          "output_type": "stream",
          "name": "stdout",
          "text": [
            "0\n",
            "1\n",
            "2\n",
            "3\n",
            "4\n",
            "5\n",
            "6\n",
            "7\n",
            "8\n",
            "9\n",
            "10\n"
          ]
        }
      ]
    },
    {
      "cell_type": "markdown",
      "source": [
        "#### 14 - IMPRIMIR TABUADA DE UM DETERMINADO NÚMERO"
      ],
      "metadata": {
        "id": "8MPsKC86SRgH"
      }
    },
    {
      "cell_type": "code",
      "source": [
        "# Usando for\n",
        "n = int(input('Digite um número inteiro: '))\n",
        "print('\\n')\n",
        "for i, j in enumerate(range(n, (n * 10) + 1, n), start = 1):\n",
        "  print('{0} x {1} = {2}'.format(n, i, j))"
      ],
      "metadata": {
        "colab": {
          "base_uri": "https://localhost:8080/"
        },
        "id": "UPWsKURxQ1QY",
        "outputId": "8c38ccad-f1ac-4263-a586-2d9349af2000"
      },
      "execution_count": 41,
      "outputs": [
        {
          "output_type": "stream",
          "name": "stdout",
          "text": [
            "Digite um número inteiro: 7\n",
            "\n",
            "\n",
            "7 x 1 = 7\n",
            "7 x 2 = 14\n",
            "7 x 3 = 21\n",
            "7 x 4 = 28\n",
            "7 x 5 = 35\n",
            "7 x 6 = 42\n",
            "7 x 7 = 49\n",
            "7 x 8 = 56\n",
            "7 x 9 = 63\n",
            "7 x 10 = 70\n"
          ]
        }
      ]
    },
    {
      "cell_type": "code",
      "source": [
        "# Usando while\n",
        "n = int(input('Digite um número inteiro: '))\n",
        "print('\\n')\n",
        "i = 0\n",
        "while (i < 10):\n",
        "  i = i + 1\n",
        "  mult = n * i\n",
        "  print(f'{n} X {i} = {mult}')\n",
        "\n"
      ],
      "metadata": {
        "colab": {
          "base_uri": "https://localhost:8080/"
        },
        "id": "c2oRz1F6TNM_",
        "outputId": "13f0a352-4eeb-4847-af06-b3a2d7866a8e"
      },
      "execution_count": 45,
      "outputs": [
        {
          "output_type": "stream",
          "name": "stdout",
          "text": [
            "Digite um número inteiro: 2\n",
            "\n",
            "\n",
            "2 X 1 = 2\n",
            "2 X 2 = 4\n",
            "2 X 3 = 6\n",
            "2 X 4 = 8\n",
            "2 X 5 = 10\n",
            "2 X 6 = 12\n",
            "2 X 7 = 14\n",
            "2 X 8 = 16\n",
            "2 X 9 = 18\n",
            "2 X 10 = 20\n"
          ]
        }
      ]
    },
    {
      "cell_type": "markdown",
      "source": [
        "#### 15 - EXIBIR NÚMEROS DE -10 A -1 USANDO O LOOP FOR E EXIBIR UMA MENSAGEM \" FEITOOOO\" APÓS A EXECUÇÃO BEM-SUCEDIDA DO LOOP FOR"
      ],
      "metadata": {
        "id": "I7h7WhnyWQsy"
      }
    },
    {
      "cell_type": "code",
      "source": [
        "for i in range(-10, 0, 1):\n",
        "  print(i)\n",
        "print('\\n')\n",
        "print('FEITOOO!!!')"
      ],
      "metadata": {
        "colab": {
          "base_uri": "https://localhost:8080/"
        },
        "id": "9bVoKEmXVky1",
        "outputId": "f4606de0-0b1d-428f-b21a-67a5b72bc95f"
      },
      "execution_count": 53,
      "outputs": [
        {
          "output_type": "stream",
          "name": "stdout",
          "text": [
            "-10\n",
            "-9\n",
            "-8\n",
            "-7\n",
            "-6\n",
            "-5\n",
            "-4\n",
            "-3\n",
            "-2\n",
            "-1\n",
            "\n",
            "\n",
            "FEITOOO!!!\n"
          ]
        }
      ]
    },
    {
      "cell_type": "markdown",
      "source": [
        "#### 16 - LEIA UM NÚMERO INTEIRO E MOSTRE O CUBO ATÉ ESSE NÚMERO."
      ],
      "metadata": {
        "id": "0RbJYejPYHfA"
      }
    },
    {
      "cell_type": "code",
      "source": [
        "n = int(input('Digite um número inteiro: '))\n",
        "print('\\n')\n",
        "i = 0\n",
        "while (i <= n):\n",
        "  print(f'{i ** 3}')\n",
        "  i = i + 1"
      ],
      "metadata": {
        "colab": {
          "base_uri": "https://localhost:8080/"
        },
        "id": "2hRpF3PFWfAY",
        "outputId": "d6398422-c436-4d5a-fce4-be087b515784"
      },
      "execution_count": 56,
      "outputs": [
        {
          "output_type": "stream",
          "name": "stdout",
          "text": [
            "Digite um número inteiro: 10\n",
            "\n",
            "\n",
            "0\n",
            "1\n",
            "8\n",
            "27\n",
            "64\n",
            "125\n",
            "216\n",
            "343\n",
            "512\n",
            "729\n",
            "1000\n"
          ]
        }
      ]
    },
    {
      "cell_type": "markdown",
      "source": [
        "#### 17 - FAÇA UM PROGRAMA QUE LEIA UM NÚMERO INTEIRO POSITIVO N E IMPRIMA TODOS OS NÚMEROS NATURAIS DE 0 ATÉ N EM ORDEM DECRESCENTE"
      ],
      "metadata": {
        "id": "1d4xC1mYaAuZ"
      }
    },
    {
      "cell_type": "code",
      "source": [
        "# Usando for\n",
        "n = int(input('Digite um número inteiro positivo: '))\n",
        "print('\\n')\n",
        "for i in range(n, -1, -1):\n",
        "  print(i)"
      ],
      "metadata": {
        "colab": {
          "base_uri": "https://localhost:8080/"
        },
        "id": "UthFdcV-Y38U",
        "outputId": "c539a462-3157-4082-b460-a7b800556f48"
      },
      "execution_count": 58,
      "outputs": [
        {
          "output_type": "stream",
          "name": "stdout",
          "text": [
            "Digite um número inteiro positivo: 9\n",
            "\n",
            "\n",
            "9\n",
            "8\n",
            "7\n",
            "6\n",
            "5\n",
            "4\n",
            "3\n",
            "2\n",
            "1\n",
            "0\n"
          ]
        }
      ]
    },
    {
      "cell_type": "code",
      "source": [
        "# Usando while\n",
        "n = int(input('Digite um número inteiro positivo: '))\n",
        "print('\\n')\n",
        "while (n >= 0):\n",
        "  print(n)\n",
        "  n = n - 1"
      ],
      "metadata": {
        "colab": {
          "base_uri": "https://localhost:8080/"
        },
        "id": "_JQpOruMapJd",
        "outputId": "2ce83263-c092-45ef-b4cd-cf7d40b7332d"
      },
      "execution_count": 59,
      "outputs": [
        {
          "output_type": "stream",
          "name": "stdout",
          "text": [
            "Digite um número inteiro positivo: 10\n",
            "\n",
            "\n",
            "10\n",
            "9\n",
            "8\n",
            "7\n",
            "6\n",
            "5\n",
            "4\n",
            "3\n",
            "2\n",
            "1\n",
            "0\n"
          ]
        }
      ]
    },
    {
      "cell_type": "markdown",
      "source": [
        "18 - FAÇA UM PROGRAMA QUE LEIA UM NUMERO INTEIRO POSITIVO N E IMPRIMA TODOS OS NÚMEROS NATURAIS DE 0 ATÉ N EM ORDEM CRESCENTE."
      ],
      "metadata": {
        "id": "HFe1tq9zcQpm"
      }
    },
    {
      "cell_type": "code",
      "source": [
        "# Usando for\n",
        "n = int(input('Digite um número inteiro positivo: '))\n",
        "print('\\n')\n",
        "for i in range(0, n + 1):\n",
        "  print(i)"
      ],
      "metadata": {
        "colab": {
          "base_uri": "https://localhost:8080/"
        },
        "id": "_4eaFzasbS-P",
        "outputId": "625ce6ac-5919-4316-9e75-f023705e7ce0"
      },
      "execution_count": 63,
      "outputs": [
        {
          "output_type": "stream",
          "name": "stdout",
          "text": [
            "Digite um número inteiro positivo: 10\n",
            "\n",
            "\n",
            "0\n",
            "1\n",
            "2\n",
            "3\n",
            "4\n",
            "5\n",
            "6\n",
            "7\n",
            "8\n",
            "9\n",
            "10\n"
          ]
        }
      ]
    },
    {
      "cell_type": "code",
      "source": [
        "# Usando while\n",
        "n = int(input('Digite um número inteiro positivo: '))\n",
        "print('\\n')\n",
        "i = 0\n",
        "while (i <= n):\n",
        "  print(i)\n",
        "  i = i + 1"
      ],
      "metadata": {
        "colab": {
          "base_uri": "https://localhost:8080/"
        },
        "id": "zds5egARc_CX",
        "outputId": "66a1b0ca-3633-4e16-b2a1-1df624c1bbd1"
      },
      "execution_count": 64,
      "outputs": [
        {
          "output_type": "stream",
          "name": "stdout",
          "text": [
            "Digite um número inteiro positivo: 10\n",
            "\n",
            "\n",
            "0\n",
            "1\n",
            "2\n",
            "3\n",
            "4\n",
            "5\n",
            "6\n",
            "7\n",
            "8\n",
            "9\n",
            "10\n"
          ]
        }
      ]
    },
    {
      "cell_type": "markdown",
      "source": [
        "####  19 - LEIA UM NÚMERO INTEIRO, E CONTE O NÚMERO TOTAL DE DÍGITOS. EX: 3 (1 DÍGITO), 10 (2 DÍGITOS), 233 (3 DÍGITOS), ETC."
      ],
      "metadata": {
        "id": "9qRtC--Vek4s"
      }
    },
    {
      "cell_type": "code",
      "source": [
        "n = int(input('Digite um número inteiro: '))\n",
        "print('\\n')\n",
        "c = 0\n",
        "i = n\n",
        "while (i > 0):\n",
        "  print(i)\n",
        "  i //= 10\n",
        "  c += 1\n",
        "print('\\n')\n",
        "print(f'A quantidade de dígitos de {n} é {c}')"
      ],
      "metadata": {
        "colab": {
          "base_uri": "https://localhost:8080/"
        },
        "id": "IuN4Q01ae7xV",
        "outputId": "7de772be-a947-4a0c-b144-90df8b755fd0"
      },
      "execution_count": 79,
      "outputs": [
        {
          "output_type": "stream",
          "name": "stdout",
          "text": [
            "Digite um número inteiro: 1234\n",
            "\n",
            "\n",
            "1234\n",
            "123\n",
            "12\n",
            "1\n",
            "\n",
            "\n",
            "A quantidade de dígitos de 1234 é 4\n"
          ]
        }
      ]
    },
    {
      "cell_type": "markdown",
      "source": [
        "#### 20 - FAÇA UM PROGRAMA QUE IMPRIME A SOMA DE TODOS OS NÚMEROS ÍMPARES ENTRE DOIS NÚMEROS QUAISQUER, INCLUINDO-OS"
      ],
      "metadata": {
        "id": "ixRkb1_9kYmo"
      }
    },
    {
      "cell_type": "code",
      "source": [
        "n1 = int(input('Digite o valor do início intervalar: '))\n",
        "print('\\n')\n",
        "n2 = int(input('Digite o valor do final intervalar: '))\n",
        "print('\\n')\n",
        "l = []\n",
        "for i, j in enumerate(range(n1, n2 + 1, 1)):\n",
        "  if (j % 2 != 0):\n",
        "    print(j)\n",
        "    print('\\n')\n",
        "    l.append(j)\n",
        "    print(f'A soma dos números ímpares é {sum(l)}')\n",
        "    print('\\n')"
      ],
      "metadata": {
        "colab": {
          "base_uri": "https://localhost:8080/"
        },
        "id": "yEz8jdQ2kbi2",
        "outputId": "62979a0b-fdbe-4a76-ff24-e14e2aad1f54"
      },
      "execution_count": 88,
      "outputs": [
        {
          "output_type": "stream",
          "name": "stdout",
          "text": [
            "Digite o valor do início intervalar: 5\n",
            "\n",
            "\n",
            "Digite o valor do final intervalar: 10\n",
            "\n",
            "\n",
            "5\n",
            "\n",
            "\n",
            "A soma dos números ímpares é 5\n",
            "\n",
            "\n",
            "7\n",
            "\n",
            "\n",
            "A soma dos números ímpares é 12\n",
            "\n",
            "\n",
            "9\n",
            "\n",
            "\n",
            "A soma dos números ímpares é 21\n",
            "\n",
            "\n"
          ]
        }
      ]
    },
    {
      "cell_type": "markdown",
      "source": [
        "#### LISTA DE EXERCÍCIOS FINALIZADA"
      ],
      "metadata": {
        "id": "Am836T-foftF"
      }
    }
  ]
}