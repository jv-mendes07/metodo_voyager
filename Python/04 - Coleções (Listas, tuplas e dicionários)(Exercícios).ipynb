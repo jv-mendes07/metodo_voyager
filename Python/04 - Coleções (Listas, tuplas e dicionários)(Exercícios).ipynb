{
  "nbformat": 4,
  "nbformat_minor": 0,
  "metadata": {
    "colab": {
      "name": "04 - Coleções (Listas, tuplas e dicionários) (Exercícios).ipynb",
      "provenance": [],
      "collapsed_sections": []
    },
    "kernelspec": {
      "name": "python3",
      "display_name": "Python 3"
    },
    "language_info": {
      "name": "python"
    }
  },
  "cells": [
    {
      "cell_type": "markdown",
      "source": [
        "#### COLEÇÕES (LISTA, TUPLAS E DICIONÁRIOS)\n",
        "## LISTAS"
      ],
      "metadata": {
        "id": "zz7hfjOPcCH2"
      }
    },
    {
      "cell_type": "code",
      "source": [
        "lista_de_mercado = ['leite', 'pão', 'arroz', 'feijão']\n",
        "print(lista_de_mercado)"
      ],
      "metadata": {
        "colab": {
          "base_uri": "https://localhost:8080/"
        },
        "id": "c2qHOIuDb_v_",
        "outputId": "8f1aa744-f784-4e1a-9e3c-79e171ba9305"
      },
      "execution_count": 1,
      "outputs": [
        {
          "output_type": "stream",
          "name": "stdout",
          "text": [
            "['leite', 'pão', 'arroz', 'feijão']\n"
          ]
        }
      ]
    },
    {
      "cell_type": "code",
      "source": [
        "type(lista_de_mercado)"
      ],
      "metadata": {
        "colab": {
          "base_uri": "https://localhost:8080/"
        },
        "id": "JtSYl55SXQUO",
        "outputId": "fbe6eddb-92f2-423b-bacf-3386c22f90e7"
      },
      "execution_count": 2,
      "outputs": [
        {
          "output_type": "execute_result",
          "data": {
            "text/plain": [
              "list"
            ]
          },
          "metadata": {},
          "execution_count": 2
        }
      ]
    },
    {
      "cell_type": "code",
      "source": [
        "lista_de_cidades = ['Rio De Janeiro', 'São Paulo', 'Minas Gerais']\n",
        "print(lista_de_cidades)"
      ],
      "metadata": {
        "colab": {
          "base_uri": "https://localhost:8080/"
        },
        "id": "8lmaYCGQXWS7",
        "outputId": "f2ed8de2-7c09-473e-c6b0-7b0da4e522e2"
      },
      "execution_count": 3,
      "outputs": [
        {
          "output_type": "stream",
          "name": "stdout",
          "text": [
            "['Rio De Janeiro', 'São Paulo', 'Minas Gerais']\n"
          ]
        }
      ]
    },
    {
      "cell_type": "code",
      "source": [
        "lista3 = list(range(11))\n",
        "print(lista3)"
      ],
      "metadata": {
        "colab": {
          "base_uri": "https://localhost:8080/"
        },
        "id": "yp4exZouYS6W",
        "outputId": "6d817b30-833f-4695-8984-8de793ec1996"
      },
      "execution_count": 4,
      "outputs": [
        {
          "output_type": "stream",
          "name": "stdout",
          "text": [
            "[0, 1, 2, 3, 4, 5, 6, 7, 8, 9, 10]\n"
          ]
        }
      ]
    },
    {
      "cell_type": "code",
      "source": [
        "nome = 'João Victor'\n",
        "lista4 = list(nome)\n",
        "print(lista4)"
      ],
      "metadata": {
        "colab": {
          "base_uri": "https://localhost:8080/"
        },
        "id": "KP3cdvPHZRU3",
        "outputId": "30699b1f-7feb-4f71-a64c-52fb4e10a22c"
      },
      "execution_count": 5,
      "outputs": [
        {
          "output_type": "stream",
          "name": "stdout",
          "text": [
            "['J', 'o', 'ã', 'o', ' ', 'V', 'i', 'c', 't', 'o', 'r']\n"
          ]
        }
      ]
    },
    {
      "cell_type": "code",
      "source": [
        "lista4[0]"
      ],
      "metadata": {
        "colab": {
          "base_uri": "https://localhost:8080/",
          "height": 35
        },
        "id": "rljQ7To8Zdj_",
        "outputId": "68eacbd2-bc72-44c3-eba3-2439bf9c36db"
      },
      "execution_count": 6,
      "outputs": [
        {
          "output_type": "execute_result",
          "data": {
            "application/vnd.google.colaboratory.intrinsic+json": {
              "type": "string"
            },
            "text/plain": [
              "'J'"
            ]
          },
          "metadata": {},
          "execution_count": 6
        }
      ]
    },
    {
      "cell_type": "code",
      "source": [
        "tamanho_lista = len(lista4)\n",
        "print(f'O tamanho da lista é {tamanho_lista}')\n",
        "print(lista4[10])"
      ],
      "metadata": {
        "colab": {
          "base_uri": "https://localhost:8080/"
        },
        "id": "mo89lnm9ZiSC",
        "outputId": "49d17ea1-5cfc-42b2-f847-c71d8c755ae2"
      },
      "execution_count": 7,
      "outputs": [
        {
          "output_type": "stream",
          "name": "stdout",
          "text": [
            "O tamanho da lista é 11\n",
            "r\n"
          ]
        }
      ]
    },
    {
      "cell_type": "code",
      "source": [
        "num = 100\n",
        "print(lista3)\n",
        "print('\\n')\n",
        "if (num in lista3):\n",
        "  print('Está na lista!')\n",
        "else:\n",
        "  print('Não está na lista!')"
      ],
      "metadata": {
        "colab": {
          "base_uri": "https://localhost:8080/"
        },
        "id": "gSmiAezmaKYP",
        "outputId": "a86355db-eb6d-43b2-90b1-0900c3931e2f"
      },
      "execution_count": 8,
      "outputs": [
        {
          "output_type": "stream",
          "name": "stdout",
          "text": [
            "[0, 1, 2, 3, 4, 5, 6, 7, 8, 9, 10]\n",
            "\n",
            "\n",
            "Não está na lista!\n"
          ]
        }
      ]
    },
    {
      "cell_type": "code",
      "source": [
        "# Ordem alfabética\n",
        "print(lista_de_mercado)\n",
        "print('\\n')\n",
        "lista_de_mercado.sort()\n",
        "print(lista_de_mercado)"
      ],
      "metadata": {
        "colab": {
          "base_uri": "https://localhost:8080/"
        },
        "id": "l4JxqOhEa6KB",
        "outputId": "b56600de-8717-4a57-99c3-c43d54f0add2"
      },
      "execution_count": 9,
      "outputs": [
        {
          "output_type": "stream",
          "name": "stdout",
          "text": [
            "['leite', 'pão', 'arroz', 'feijão']\n",
            "\n",
            "\n",
            "['arroz', 'feijão', 'leite', 'pão']\n"
          ]
        }
      ]
    },
    {
      "cell_type": "code",
      "source": [
        "lista_de_aniversario = ['João', 'Maria', 'Joaquina', 'João', 'Francisco']\n",
        "print(lista_de_aniversario)"
      ],
      "metadata": {
        "colab": {
          "base_uri": "https://localhost:8080/"
        },
        "id": "is7c5v1dcgwF",
        "outputId": "ac021357-d059-4ee6-9b6b-c239681821cf"
      },
      "execution_count": 10,
      "outputs": [
        {
          "output_type": "stream",
          "name": "stdout",
          "text": [
            "['João', 'Maria', 'Joaquina', 'João', 'Francisco']\n"
          ]
        }
      ]
    },
    {
      "cell_type": "code",
      "source": [
        "# Usar for para contar a quantidade de elementos\n",
        "for i in lista_de_aniversario:\n",
        "  print(f'{i} -- {lista_de_aniversario.count(i)}')\n",
        "print('\\n')\n",
        "print('João é o nome repetido duas vezes na lista!')"
      ],
      "metadata": {
        "colab": {
          "base_uri": "https://localhost:8080/"
        },
        "id": "dqxq5KU_dxw4",
        "outputId": "efe74e05-ffab-483f-c0b4-47ea9f27f075"
      },
      "execution_count": 11,
      "outputs": [
        {
          "output_type": "stream",
          "name": "stdout",
          "text": [
            "João -- 2\n",
            "Maria -- 1\n",
            "Joaquina -- 1\n",
            "João -- 2\n",
            "Francisco -- 1\n",
            "\n",
            "\n",
            "João é o nome repetido duas vezes na lista!\n"
          ]
        }
      ]
    },
    {
      "cell_type": "code",
      "source": [
        "lista_de_aniversario.append('Victor')\n",
        "print(lista_de_aniversario)"
      ],
      "metadata": {
        "colab": {
          "base_uri": "https://localhost:8080/"
        },
        "id": "bmw2wzvmeW4r",
        "outputId": "a32c64b6-4880-400c-a0da-89d8b8bd5f91"
      },
      "execution_count": 12,
      "outputs": [
        {
          "output_type": "stream",
          "name": "stdout",
          "text": [
            "['João', 'Maria', 'Joaquina', 'João', 'Francisco', 'Victor']\n"
          ]
        }
      ]
    },
    {
      "cell_type": "code",
      "source": [
        "lista_de_mercado.append('chocolate')\n",
        "print(lista_de_mercado)"
      ],
      "metadata": {
        "colab": {
          "base_uri": "https://localhost:8080/"
        },
        "id": "Hrnyyw5xg3s_",
        "outputId": "a4ece6c4-4bde-4ab6-823b-43e98eef31e7"
      },
      "execution_count": 13,
      "outputs": [
        {
          "output_type": "stream",
          "name": "stdout",
          "text": [
            "['arroz', 'feijão', 'leite', 'pão', 'chocolate']\n"
          ]
        }
      ]
    },
    {
      "cell_type": "markdown",
      "source": [
        "#### 1 -  ESCREVA UM PROGRAMA PARA SOMAR TODOS OS ITENS EM UMA LISTA."
      ],
      "metadata": {
        "id": "L_h9BpighwKG"
      }
    },
    {
      "cell_type": "code",
      "source": [
        "lista_de_entrada = [1, 2, 3, 4, 5, 6, 7]\n",
        "print(lista_de_entrada)\n",
        "print('\\n')\n",
        "print(type(lista_de_entrada))\n",
        "print('\\n')\n",
        "print(f'A soma de todos os itens da lista é igual à {sum(lista_de_entrada)}')"
      ],
      "metadata": {
        "colab": {
          "base_uri": "https://localhost:8080/"
        },
        "id": "B-xYLolkhvFD",
        "outputId": "6d541931-f5e3-44b8-dfd0-2461fc05852d"
      },
      "execution_count": 14,
      "outputs": [
        {
          "output_type": "stream",
          "name": "stdout",
          "text": [
            "[1, 2, 3, 4, 5, 6, 7]\n",
            "\n",
            "\n",
            "<class 'list'>\n",
            "\n",
            "\n",
            "A soma de todos os itens da lista é igual à 28\n"
          ]
        }
      ]
    },
    {
      "cell_type": "code",
      "source": [
        "# Usando for\n",
        "soma = 0\n",
        "for i in lista_de_entrada:\n",
        "  soma += i\n",
        "  print(soma)\n",
        "print('\\n')\n",
        "print(f'A soma de todos os itens da lista é igual à {soma}')"
      ],
      "metadata": {
        "colab": {
          "base_uri": "https://localhost:8080/"
        },
        "id": "A9S1BDWPifyD",
        "outputId": "004f87b7-bceb-481f-9bca-130519c1c698"
      },
      "execution_count": 15,
      "outputs": [
        {
          "output_type": "stream",
          "name": "stdout",
          "text": [
            "1\n",
            "3\n",
            "6\n",
            "10\n",
            "15\n",
            "21\n",
            "28\n",
            "\n",
            "\n",
            "A soma de todos os itens da lista é igual à 28\n"
          ]
        }
      ]
    },
    {
      "cell_type": "markdown",
      "source": [
        "#### 2 - ESCREVA UM PROGRAMA PARA MULTIPLICAR TODOS OS ITENS DE UMA LISTA"
      ],
      "metadata": {
        "id": "b4Z-WNV1lUJV"
      }
    },
    {
      "cell_type": "code",
      "source": [
        "# Usando for\n",
        "print(lista_de_entrada)\n",
        "print('\\n')\n",
        "multiplica = 1\n",
        "for i in lista_de_entrada:\n",
        "  multiplica *= i\n",
        "  print(multiplica)\n",
        "print('\\n')\n",
        "print(f'A multiplicação de todos os itens da lista é igual à {multiplica}')"
      ],
      "metadata": {
        "colab": {
          "base_uri": "https://localhost:8080/"
        },
        "id": "IAENI0iokpZG",
        "outputId": "25c56de7-85ad-40bd-be0f-735c884fa8cf"
      },
      "execution_count": 16,
      "outputs": [
        {
          "output_type": "stream",
          "name": "stdout",
          "text": [
            "[1, 2, 3, 4, 5, 6, 7]\n",
            "\n",
            "\n",
            "1\n",
            "2\n",
            "6\n",
            "24\n",
            "120\n",
            "720\n",
            "5040\n",
            "\n",
            "\n",
            "A multiplicação de todos os itens da lista é igual à 5040\n"
          ]
        }
      ]
    },
    {
      "cell_type": "markdown",
      "source": [
        "#### 3 - ESCREVA UM PROGRAMA PARA OBTER O MAIOR NÚMERO DE UMA LISTA."
      ],
      "metadata": {
        "id": "13C3EEDDoe2V"
      }
    },
    {
      "cell_type": "code",
      "source": [
        "print(lista_de_entrada)\n",
        "print('\\n')\n",
        "print(f'O maior número da lista é {max(lista_de_entrada)}')"
      ],
      "metadata": {
        "colab": {
          "base_uri": "https://localhost:8080/"
        },
        "id": "biT2qD-SmASh",
        "outputId": "5608b19b-2272-47af-afd3-b65d5ddc4a9b"
      },
      "execution_count": 17,
      "outputs": [
        {
          "output_type": "stream",
          "name": "stdout",
          "text": [
            "[1, 2, 3, 4, 5, 6, 7]\n",
            "\n",
            "\n",
            "O maior número da lista é 7\n"
          ]
        }
      ]
    },
    {
      "cell_type": "code",
      "source": [
        "# Usando for\n",
        "lista_de_entrada.insert(3, 1234)\n",
        "print(lista_de_entrada)\n",
        "print('\\n')\n",
        "s = 0\n",
        "for i in lista_de_entrada:\n",
        "  if (i > s):\n",
        "    s = i\n",
        "print(f'O maior número da lista é {s}')"
      ],
      "metadata": {
        "colab": {
          "base_uri": "https://localhost:8080/"
        },
        "id": "cF_9zs_3o1Vq",
        "outputId": "82c3a116-c06c-46f4-d924-d8e2c90d0d6c"
      },
      "execution_count": 18,
      "outputs": [
        {
          "output_type": "stream",
          "name": "stdout",
          "text": [
            "[1, 2, 3, 1234, 4, 5, 6, 7]\n",
            "\n",
            "\n",
            "O maior número da lista é 1234\n"
          ]
        }
      ]
    },
    {
      "cell_type": "markdown",
      "source": [
        "#### 4 - ESCREVA UM PROGRAMA PARA OBTER O MENOR NÚMERO DE UMA LISTA"
      ],
      "metadata": {
        "id": "rgLjrYA3re73"
      }
    },
    {
      "cell_type": "code",
      "source": [
        "# Excluindo o elemento adicionado anteriormente (1234)\n",
        "del (lista_de_entrada[3])\n",
        "print(lista_de_entrada)"
      ],
      "metadata": {
        "colab": {
          "base_uri": "https://localhost:8080/"
        },
        "id": "2rLWA7SOpjL6",
        "outputId": "69a248c8-da04-4dd7-b4ec-195578cc5638"
      },
      "execution_count": 19,
      "outputs": [
        {
          "output_type": "stream",
          "name": "stdout",
          "text": [
            "[1, 2, 3, 4, 5, 6, 7]\n"
          ]
        }
      ]
    },
    {
      "cell_type": "code",
      "source": [
        "print(f'O menor valor da lista é {min(lista_de_entrada)}')"
      ],
      "metadata": {
        "colab": {
          "base_uri": "https://localhost:8080/"
        },
        "id": "u1ssDtE4rsLm",
        "outputId": "0e127359-9b2b-4be7-d46b-c573ee79e4d9"
      },
      "execution_count": 20,
      "outputs": [
        {
          "output_type": "stream",
          "name": "stdout",
          "text": [
            "O menor valor da lista é 1\n"
          ]
        }
      ]
    },
    {
      "cell_type": "markdown",
      "source": [
        "#### 5 -  ESCREVA UM PROGRAMA PARA REMOVER DUPLICATAS DE UMA LISTA."
      ],
      "metadata": {
        "id": "6htEqPJ7sk2i"
      }
    },
    {
      "cell_type": "code",
      "source": [
        "l = [1, 1, 2, 2, 3, 3, 4, 5, 6]\n",
        "print(l)\n",
        "print('\\n')\n",
        "print(type(l))"
      ],
      "metadata": {
        "colab": {
          "base_uri": "https://localhost:8080/"
        },
        "id": "nhj-S6LFsNss",
        "outputId": "fb698fb4-eb41-4a7b-a246-42f5a9348723"
      },
      "execution_count": 21,
      "outputs": [
        {
          "output_type": "stream",
          "name": "stdout",
          "text": [
            "[1, 1, 2, 2, 3, 3, 4, 5, 6]\n",
            "\n",
            "\n",
            "<class 'list'>\n"
          ]
        }
      ]
    },
    {
      "cell_type": "code",
      "source": [
        "conjunto_l = set(l)\n",
        "print(conjunto_l)\n",
        "print('\\n')\n",
        "print(type(conjunto_l))"
      ],
      "metadata": {
        "colab": {
          "base_uri": "https://localhost:8080/"
        },
        "id": "Bd7UBsPWuABC",
        "outputId": "e5a78f68-4963-4c57-f1c5-646fed4ae479"
      },
      "execution_count": 22,
      "outputs": [
        {
          "output_type": "stream",
          "name": "stdout",
          "text": [
            "{1, 2, 3, 4, 5, 6}\n",
            "\n",
            "\n",
            "<class 'set'>\n"
          ]
        }
      ]
    },
    {
      "cell_type": "code",
      "source": [
        "# Antes e depois das duplicatas removidas. \n",
        "print(l)\n",
        "print('\\n')\n",
        "l = list(conjunto_l)\n",
        "print(l)\n",
        "print('\\n')\n",
        "print(type(l))"
      ],
      "metadata": {
        "colab": {
          "base_uri": "https://localhost:8080/"
        },
        "id": "SRYpW7-fuY-Y",
        "outputId": "44ce078d-6cc5-4c6c-b6ae-a356e453bfbb"
      },
      "execution_count": 23,
      "outputs": [
        {
          "output_type": "stream",
          "name": "stdout",
          "text": [
            "[1, 1, 2, 2, 3, 3, 4, 5, 6]\n",
            "\n",
            "\n",
            "[1, 2, 3, 4, 5, 6]\n",
            "\n",
            "\n",
            "<class 'list'>\n"
          ]
        }
      ]
    },
    {
      "cell_type": "markdown",
      "source": [
        "#### 6 - ESCREVA UM PROGRAMA PARA COPIAR UMA LISTA PARA OUTRA."
      ],
      "metadata": {
        "id": "mtlVSh2ixhpw"
      }
    },
    {
      "cell_type": "code",
      "source": [
        "print(f'A lista lista_de_entrada que será copiada é {lista_de_entrada}')\n",
        "print('\\n')\n",
        "l = lista_de_entrada.copy()\n",
        "print(f'A lista copiada para a variável l é {l}')"
      ],
      "metadata": {
        "colab": {
          "base_uri": "https://localhost:8080/"
        },
        "id": "omLU_PXHv-pa",
        "outputId": "23a39e5e-8e6b-4873-c95f-849a22aa03bd"
      },
      "execution_count": 24,
      "outputs": [
        {
          "output_type": "stream",
          "name": "stdout",
          "text": [
            "A lista lista_de_entrada que será copiada é [1, 2, 3, 4, 5, 6, 7]\n",
            "\n",
            "\n",
            "A lista copiada para a variável l é [1, 2, 3, 4, 5, 6, 7]\n"
          ]
        }
      ]
    },
    {
      "cell_type": "code",
      "source": [
        "print(lista_de_aniversario)\n",
        "lista_para_buffet = lista_de_aniversario.copy()\n",
        "print('\\n')\n",
        "print(lista_para_buffet)"
      ],
      "metadata": {
        "colab": {
          "base_uri": "https://localhost:8080/"
        },
        "id": "pn29j18Wxt5d",
        "outputId": "7adbbeca-7b13-487e-c311-2540f91d0817"
      },
      "execution_count": 25,
      "outputs": [
        {
          "output_type": "stream",
          "name": "stdout",
          "text": [
            "['João', 'Maria', 'Joaquina', 'João', 'Francisco', 'Victor']\n",
            "\n",
            "\n",
            "['João', 'Maria', 'Joaquina', 'João', 'Francisco', 'Victor']\n"
          ]
        }
      ]
    },
    {
      "cell_type": "code",
      "source": [
        "# Remoção de um elemento da lista\n",
        "lista_de_aniversario.pop(5)"
      ],
      "metadata": {
        "colab": {
          "base_uri": "https://localhost:8080/",
          "height": 35
        },
        "id": "C0HZ6uKkzAdT",
        "outputId": "2310eb34-8313-427c-9dbc-c241f444869f"
      },
      "execution_count": 26,
      "outputs": [
        {
          "output_type": "execute_result",
          "data": {
            "application/vnd.google.colaboratory.intrinsic+json": {
              "type": "string"
            },
            "text/plain": [
              "'Victor'"
            ]
          },
          "metadata": {},
          "execution_count": 26
        }
      ]
    },
    {
      "cell_type": "code",
      "source": [
        "# Somar duas listas\n",
        "lista_de_aniversario_mae = ['Paulo', 'Paula', 'Pauliane']\n",
        "print(lista_de_aniversario)\n",
        "print('\\n')\n",
        "print(lista_de_aniversario_mae)\n",
        "print('\\n')\n",
        "lista_final = lista_de_aniversario + lista_de_aniversario_mae\n",
        "print(lista_final)"
      ],
      "metadata": {
        "colab": {
          "base_uri": "https://localhost:8080/"
        },
        "id": "9hWMGH4ZzVJb",
        "outputId": "83585a33-830f-40ac-9376-6f6e6b0a4907"
      },
      "execution_count": 27,
      "outputs": [
        {
          "output_type": "stream",
          "name": "stdout",
          "text": [
            "['João', 'Maria', 'Joaquina', 'João', 'Francisco']\n",
            "\n",
            "\n",
            "['Paulo', 'Paula', 'Pauliane']\n",
            "\n",
            "\n",
            "['João', 'Maria', 'Joaquina', 'João', 'Francisco', 'Paulo', 'Paula', 'Pauliane']\n"
          ]
        }
      ]
    },
    {
      "cell_type": "code",
      "source": [
        "# Adicionar pelo método extend\n",
        "lista_de_aniversario.extend(lista_de_aniversario_mae)\n",
        "print(lista_de_aniversario)"
      ],
      "metadata": {
        "colab": {
          "base_uri": "https://localhost:8080/"
        },
        "id": "hT2DQlPk0ZNF",
        "outputId": "eb25337a-633b-4a9f-fd2b-41349d18dc53"
      },
      "execution_count": 28,
      "outputs": [
        {
          "output_type": "stream",
          "name": "stdout",
          "text": [
            "['João', 'Maria', 'Joaquina', 'João', 'Francisco', 'Paulo', 'Paula', 'Pauliane']\n"
          ]
        }
      ]
    },
    {
      "cell_type": "code",
      "source": [
        "# Saber o índice dos valores\n",
        "lista_de_aniversario.index('Maria')"
      ],
      "metadata": {
        "colab": {
          "base_uri": "https://localhost:8080/"
        },
        "id": "U3h-lI0a08Ad",
        "outputId": "b3bd6669-fc4e-4a06-eafe-bef66082b8c4"
      },
      "execution_count": 29,
      "outputs": [
        {
          "output_type": "execute_result",
          "data": {
            "text/plain": [
              "1"
            ]
          },
          "metadata": {},
          "execution_count": 29
        }
      ]
    },
    {
      "cell_type": "code",
      "source": [
        "# Remoção de valores pelo remove\n",
        "lista_de_aniversario.remove('João')\n",
        "print(lista_de_aniversario)"
      ],
      "metadata": {
        "colab": {
          "base_uri": "https://localhost:8080/"
        },
        "id": "PysVGY4Xxumh",
        "outputId": "ebe61248-e1fb-422f-c91a-c2324c483239"
      },
      "execution_count": 32,
      "outputs": [
        {
          "output_type": "stream",
          "name": "stdout",
          "text": [
            "['Maria', 'Joaquina', 'Francisco', 'Paulo', 'Paula', 'Pauliane']\n"
          ]
        }
      ]
    },
    {
      "cell_type": "code",
      "source": [
        "# Saber o índice dos valores pelo for\n",
        "lista_de_aniversario.insert(0, 'João')\n",
        "lista_de_aniversario.insert(3, 'João.V')\n",
        "for i in lista_de_aniversario:\n",
        "  print(f'{i} - {lista_de_aniversario.index(i)}')"
      ],
      "metadata": {
        "colab": {
          "base_uri": "https://localhost:8080/"
        },
        "id": "IBh4SSKl1jCM",
        "outputId": "b7588b35-572f-46e7-fb59-b2c913061d44"
      },
      "execution_count": 33,
      "outputs": [
        {
          "output_type": "stream",
          "name": "stdout",
          "text": [
            "João - 0\n",
            "Maria - 1\n",
            "Joaquina - 2\n",
            "João.V - 3\n",
            "Francisco - 4\n",
            "Paulo - 5\n",
            "Paula - 6\n",
            "Pauliane - 7\n"
          ]
        }
      ]
    },
    {
      "cell_type": "markdown",
      "source": [
        "#### 7 - ESCREVA UM PROGRAMA QUE RECEBA DUAS LISTAS E RETORNE TRUE SE ELAS TIVEREM PELO MENOS UM ELEMENTO EM COMUM."
      ],
      "metadata": {
        "id": "lp34N24f3MVe"
      }
    },
    {
      "cell_type": "code",
      "source": [
        "# Análise observacional das duas listas\n",
        "print(lista_de_aniversario)\n",
        "print(lista_de_aniversario_mae)"
      ],
      "metadata": {
        "id": "a-z8OPxN3HSw",
        "colab": {
          "base_uri": "https://localhost:8080/"
        },
        "outputId": "23b8cb8d-69e7-474e-b40c-f07ec4dde6a3"
      },
      "execution_count": 34,
      "outputs": [
        {
          "output_type": "stream",
          "name": "stdout",
          "text": [
            "['João', 'Maria', 'Joaquina', 'João.V', 'Francisco', 'Paulo', 'Paula', 'Pauliane']\n",
            "['Paulo', 'Paula', 'Pauliane']\n"
          ]
        }
      ]
    },
    {
      "cell_type": "code",
      "source": [
        "# Como saber os elementos em comuns que intersectam as duas listas:\n",
        "set(lista_de_aniversario).intersection(lista_de_aniversario_mae)"
      ],
      "metadata": {
        "colab": {
          "base_uri": "https://localhost:8080/"
        },
        "id": "837GEju5ysPf",
        "outputId": "8956c660-4d5d-49f0-abad-3042ebc75664"
      },
      "execution_count": 35,
      "outputs": [
        {
          "output_type": "execute_result",
          "data": {
            "text/plain": [
              "{'Paula', 'Pauliane', 'Paulo'}"
            ]
          },
          "metadata": {},
          "execution_count": 35
        }
      ]
    },
    {
      "cell_type": "code",
      "source": [
        "# Como resolver o problema com uma estrutura condicional:\n",
        "if (len(set(lista_de_aniversario).intersection(lista_de_aniversario_mae)) >= 1):\n",
        "  print(True)\n",
        "else:\n",
        "  print(False)"
      ],
      "metadata": {
        "colab": {
          "base_uri": "https://localhost:8080/"
        },
        "id": "SUPtL2h2zGYQ",
        "outputId": "7df17749-3d1a-4b8f-d664-74ed9ae51505"
      },
      "execution_count": 36,
      "outputs": [
        {
          "output_type": "stream",
          "name": "stdout",
          "text": [
            "True\n"
          ]
        }
      ]
    },
    {
      "cell_type": "markdown",
      "source": [
        "## TUPLAS"
      ],
      "metadata": {
        "id": "BKG-Ocyi0yRO"
      }
    },
    {
      "cell_type": "code",
      "source": [
        "tupla = (1, 2, 3)\n",
        "print(tupla)\n",
        "print('\\n')\n",
        "print(type(tupla))"
      ],
      "metadata": {
        "colab": {
          "base_uri": "https://localhost:8080/"
        },
        "id": "Q48Z6jMO01Bv",
        "outputId": "4c7eeb1b-41db-4fcb-b49a-923d511452f7"
      },
      "execution_count": 37,
      "outputs": [
        {
          "output_type": "stream",
          "name": "stdout",
          "text": [
            "(1, 2, 3)\n",
            "\n",
            "\n",
            "<class 'tuple'>\n"
          ]
        }
      ]
    },
    {
      "cell_type": "code",
      "source": [
        "tupla2 = tuple(range(11))\n",
        "print(tupla2)\n",
        "print('\\n')\n",
        "print(type(tupla2))"
      ],
      "metadata": {
        "colab": {
          "base_uri": "https://localhost:8080/"
        },
        "id": "Siaj1DM62bD2",
        "outputId": "02db2c9d-c3c8-49ce-a1d2-fc0a8519fe2b"
      },
      "execution_count": 38,
      "outputs": [
        {
          "output_type": "stream",
          "name": "stdout",
          "text": [
            "(0, 1, 2, 3, 4, 5, 6, 7, 8, 9, 10)\n",
            "\n",
            "\n",
            "<class 'tuple'>\n"
          ]
        }
      ]
    },
    {
      "cell_type": "code",
      "source": [
        "# sum em tupla\n",
        "print(f'Os valores somados da tupla resultam em {sum(tupla2)}')"
      ],
      "metadata": {
        "colab": {
          "base_uri": "https://localhost:8080/"
        },
        "id": "ycV-ohfx3rVK",
        "outputId": "54d8e7b6-55f8-4240-a6b6-a198a2c07188"
      },
      "execution_count": 39,
      "outputs": [
        {
          "output_type": "stream",
          "name": "stdout",
          "text": [
            "Os valores somados da tupla resultam em 55\n"
          ]
        }
      ]
    },
    {
      "cell_type": "code",
      "source": [
        "# max e min em tupla\n",
        "print(f'O maior número da tupla é {max(tupla2)}')\n",
        "print('\\n')\n",
        "print(f'O menor número da tupla é {min(tupla2)}')"
      ],
      "metadata": {
        "colab": {
          "base_uri": "https://localhost:8080/"
        },
        "id": "UhSU-5Qi32Cp",
        "outputId": "0276860a-ec67-4872-ec2a-a7ef19058385"
      },
      "execution_count": 40,
      "outputs": [
        {
          "output_type": "stream",
          "name": "stdout",
          "text": [
            "O maior número da tupla é 10\n",
            "\n",
            "\n",
            "O menor número da tupla é 0\n"
          ]
        }
      ]
    },
    {
      "cell_type": "code",
      "source": [
        "# len em tupla\n",
        "print(f'Há {len(tupla2)} elementos nessa tupla')"
      ],
      "metadata": {
        "colab": {
          "base_uri": "https://localhost:8080/"
        },
        "id": "bipsSKXF37zL",
        "outputId": "2882aabe-ff7e-45cb-ffe1-9da78f4139a2"
      },
      "execution_count": 41,
      "outputs": [
        {
          "output_type": "stream",
          "name": "stdout",
          "text": [
            "Há 11 elementos nessa tupla\n"
          ]
        }
      ]
    },
    {
      "cell_type": "code",
      "source": [
        "# in para saber se tal elemento está na tupla que retornará True ou False\n",
        "10 in tupla2"
      ],
      "metadata": {
        "colab": {
          "base_uri": "https://localhost:8080/"
        },
        "id": "E2LkBJf94xpf",
        "outputId": "2613be1e-490a-4cfa-927f-9044cdd45108"
      },
      "execution_count": 42,
      "outputs": [
        {
          "output_type": "execute_result",
          "data": {
            "text/plain": [
              "True"
            ]
          },
          "metadata": {},
          "execution_count": 42
        }
      ]
    },
    {
      "cell_type": "code",
      "source": [
        "# count para contar a quantidade de repetições de um elemento em tal tupla\n",
        "tupla2.count(10)"
      ],
      "metadata": {
        "colab": {
          "base_uri": "https://localhost:8080/"
        },
        "id": "qOnFB_-Y47mT",
        "outputId": "977e9c3c-fa3b-4114-b834-2edd6e196e33"
      },
      "execution_count": 43,
      "outputs": [
        {
          "output_type": "execute_result",
          "data": {
            "text/plain": [
              "1"
            ]
          },
          "metadata": {},
          "execution_count": 43
        }
      ]
    },
    {
      "cell_type": "markdown",
      "source": [
        "#### 8 - ESCREVA UM PROGRAMA PARA CRIAR UMA TUPLA."
      ],
      "metadata": {
        "id": "mcGade8v5YbT"
      }
    },
    {
      "cell_type": "code",
      "source": [
        "tupla2 = (1, 2, 3, 'João Victor', True)\n",
        "print(tupla2)\n",
        "print('\\n')\n",
        "print(type(tupla2))"
      ],
      "metadata": {
        "colab": {
          "base_uri": "https://localhost:8080/"
        },
        "id": "FkTY1D7A5dwo",
        "outputId": "8e62ab1e-5633-4d62-b078-498c2b2fa134"
      },
      "execution_count": 44,
      "outputs": [
        {
          "output_type": "stream",
          "name": "stdout",
          "text": [
            "(1, 2, 3, 'João Victor', True)\n",
            "\n",
            "\n",
            "<class 'tuple'>\n"
          ]
        }
      ]
    },
    {
      "cell_type": "code",
      "source": [
        "tupla3 = tuple(range(11))\n",
        "print(tupla3)\n",
        "print('\\n')\n",
        "print(type(tupla3))"
      ],
      "metadata": {
        "colab": {
          "base_uri": "https://localhost:8080/"
        },
        "id": "lBgcqYmX5qPk",
        "outputId": "ce1bee23-0e64-4488-f379-bfa7c37ff6b5"
      },
      "execution_count": 45,
      "outputs": [
        {
          "output_type": "stream",
          "name": "stdout",
          "text": [
            "(0, 1, 2, 3, 4, 5, 6, 7, 8, 9, 10)\n",
            "\n",
            "\n",
            "<class 'tuple'>\n"
          ]
        }
      ]
    },
    {
      "cell_type": "markdown",
      "source": [
        "####  9 - ESCREVA UM PROGRAMA PARA CRIAR UMA TUPLA COM DIFERENTES TIPOS DE DADOS."
      ],
      "metadata": {
        "id": "NkZbrKWL6Sy-"
      }
    },
    {
      "cell_type": "code",
      "source": [
        "tupla_d = (1, 2, 3, 'Tyler', ', The Creator', 3.14, True, [6, 7, 8])\n",
        "print(tupla_d)\n",
        "print('\\n')\n",
        "print(type(tupla_d))"
      ],
      "metadata": {
        "colab": {
          "base_uri": "https://localhost:8080/"
        },
        "id": "Po5ETqWp6Wve",
        "outputId": "928cdac1-2ac7-4311-ce52-7208b4fdc5aa"
      },
      "execution_count": 46,
      "outputs": [
        {
          "output_type": "stream",
          "name": "stdout",
          "text": [
            "(1, 2, 3, 'Tyler', ', The Creator', 3.14, True, [6, 7, 8])\n",
            "\n",
            "\n",
            "<class 'tuple'>\n"
          ]
        }
      ]
    },
    {
      "cell_type": "code",
      "source": [
        "# Acessando a lista da tupla e acessando um elemento específico de tal lista\n",
        "print(tupla_d[7])\n",
        "print('\\n')\n",
        "print(tupla_d[7][1])"
      ],
      "metadata": {
        "colab": {
          "base_uri": "https://localhost:8080/"
        },
        "id": "Rep_MPwX6m_h",
        "outputId": "e4397cb5-da6b-4bc3-f7a2-4a13fe9c3194"
      },
      "execution_count": 47,
      "outputs": [
        {
          "output_type": "stream",
          "name": "stdout",
          "text": [
            "[6, 7, 8]\n",
            "\n",
            "\n",
            "7\n"
          ]
        }
      ]
    },
    {
      "cell_type": "markdown",
      "source": [
        "#### 10 - ESCREVA UM PROGRAMA PARA CRIAR UMA TUPLA COM NÚMEROS E IMPRIMIR UM ITEM."
      ],
      "metadata": {
        "id": "hIW7zEAu8IBS"
      }
    },
    {
      "cell_type": "code",
      "source": [
        "# index para saber o índice de um valor específico da tupla\n",
        "tupla2.index(7)"
      ],
      "metadata": {
        "colab": {
          "base_uri": "https://localhost:8080/"
        },
        "id": "Vr_Ifopu8aFB",
        "outputId": "8f559820-53cb-4f4c-e695-92ee5a107182"
      },
      "execution_count": 59,
      "outputs": [
        {
          "output_type": "execute_result",
          "data": {
            "text/plain": [
              "3"
            ]
          },
          "metadata": {},
          "execution_count": 59
        }
      ]
    },
    {
      "cell_type": "code",
      "source": [
        "tupla2 = tuple(range(1, 11))\n",
        "print(tupla2[6])"
      ],
      "metadata": {
        "colab": {
          "base_uri": "https://localhost:8080/"
        },
        "id": "BJxiBu5W8OI1",
        "outputId": "84fe827b-f736-46e3-b258-6882ed604710"
      },
      "execution_count": 49,
      "outputs": [
        {
          "output_type": "stream",
          "name": "stdout",
          "text": [
            "7\n"
          ]
        }
      ]
    },
    {
      "cell_type": "markdown",
      "source": [
        "#### 11 - ESCREVA UM PROGRAMA PARA ADICIONAR UM ITEM EM UMA TUPLA."
      ],
      "metadata": {
        "id": "1g4eUyTR9jGi"
      }
    },
    {
      "cell_type": "code",
      "source": [
        "# Tuplas dos rappers que mais ouço dos Estados Unidos e do Brasil\n",
        "tupla1 = ('Tyler, The Creator', 'Kendrick Lamar', 'Vince Staples')\n",
        "tupla2 = ('Victor Xamã', 'Makalister', 'Diomedes Chinaski')\n",
        "print(tupla1)\n",
        "print('\\n')\n",
        "print(tupla2)"
      ],
      "metadata": {
        "colab": {
          "base_uri": "https://localhost:8080/"
        },
        "id": "rK5rLfpE9oUC",
        "outputId": "8953d694-1f9e-4824-8295-f88a58facca2"
      },
      "execution_count": 50,
      "outputs": [
        {
          "output_type": "stream",
          "name": "stdout",
          "text": [
            "('Tyler, The Creator', 'Kendrick Lamar', 'Vince Staples')\n",
            "\n",
            "\n",
            "('Victor Xamã', 'Makalister', 'Diomedes Chinaski')\n"
          ]
        }
      ]
    },
    {
      "cell_type": "code",
      "source": [
        "# Adicionado um item somente na tupla\n",
        "tupla1 = tupla1 + tupla2[0:1]\n",
        "print(tupla1)"
      ],
      "metadata": {
        "colab": {
          "base_uri": "https://localhost:8080/"
        },
        "id": "JtvjdW7d-A9X",
        "outputId": "b9d22a1f-83ff-48ed-f2de-f983b9291f10"
      },
      "execution_count": 51,
      "outputs": [
        {
          "output_type": "stream",
          "name": "stdout",
          "text": [
            "('Tyler, The Creator', 'Kendrick Lamar', 'Vince Staples', 'Victor Xamã')\n"
          ]
        }
      ]
    },
    {
      "cell_type": "markdown",
      "source": [
        "#### 12 - ESCREVA UM PROGRAMA PARA OBTER O 4º ELEMENTO E O ÚLTIMO DE UMA TUPLA."
      ],
      "metadata": {
        "id": "vIM9NaiF_dKJ"
      }
    },
    {
      "cell_type": "code",
      "source": [
        "# Obtendo o quarto e o último elemento de uma tupla por um slice\n",
        "tupla2 = tuple(range(1, 21, 2))\n",
        "print(tupla2)\n",
        "print('\\n')\n",
        "print(tupla2[3::6])"
      ],
      "metadata": {
        "colab": {
          "base_uri": "https://localhost:8080/"
        },
        "id": "vVNI9bFK-LTu",
        "outputId": "ab2cf807-c83f-4376-9028-15ea72d51cb8"
      },
      "execution_count": 52,
      "outputs": [
        {
          "output_type": "stream",
          "name": "stdout",
          "text": [
            "(1, 3, 5, 7, 9, 11, 13, 15, 17, 19)\n",
            "\n",
            "\n",
            "(7, 19)\n"
          ]
        }
      ]
    },
    {
      "cell_type": "markdown",
      "source": [
        "#### 13 - ESCREVA UM PROGRAMA PARA ENCONTRAR OS ITENS REPETIDOS DE UMA TUPLA."
      ],
      "metadata": {
        "id": "JUqywp6fDc7Y"
      }
    },
    {
      "cell_type": "code",
      "source": [
        "# Adicionando um item repetido em uma tupla\n",
        "tupla1 = tupla1 + ('Victor Xamã',)\n",
        "print(tupla1)"
      ],
      "metadata": {
        "colab": {
          "base_uri": "https://localhost:8080/"
        },
        "id": "ghgMNnUdDk7W",
        "outputId": "a6c050f9-d7c8-467d-97e4-4c1131036900"
      },
      "execution_count": 53,
      "outputs": [
        {
          "output_type": "stream",
          "name": "stdout",
          "text": [
            "('Tyler, The Creator', 'Kendrick Lamar', 'Vince Staples', 'Victor Xamã', 'Victor Xamã')\n"
          ]
        }
      ]
    },
    {
      "cell_type": "code",
      "source": [
        "tupla1.count('Victor Xamã')"
      ],
      "metadata": {
        "colab": {
          "base_uri": "https://localhost:8080/"
        },
        "id": "BPdqII_JDrNU",
        "outputId": "2fdb5306-84a9-49c9-c62c-a679cb7567d4"
      },
      "execution_count": 54,
      "outputs": [
        {
          "output_type": "execute_result",
          "data": {
            "text/plain": [
              "2"
            ]
          },
          "metadata": {},
          "execution_count": 54
        }
      ]
    },
    {
      "cell_type": "code",
      "source": [
        "# for para apresentar a quantidade de vezes que um elemento foi repetido em uma tupla\n",
        "# 'Victor Xamã' é um elemento que foi repetido três vezes na tupla\n",
        "for i in tupla1:\n",
        "  print(i, '-',tupla1.count(i))"
      ],
      "metadata": {
        "colab": {
          "base_uri": "https://localhost:8080/"
        },
        "id": "QVcq-hhMEA5_",
        "outputId": "5189ee0f-e306-41bc-eb4b-1cc757f75506"
      },
      "execution_count": 55,
      "outputs": [
        {
          "output_type": "stream",
          "name": "stdout",
          "text": [
            "Tyler, The Creator - 1\n",
            "Kendrick Lamar - 1\n",
            "Vince Staples - 1\n",
            "Victor Xamã - 2\n",
            "Victor Xamã - 2\n"
          ]
        }
      ]
    },
    {
      "cell_type": "code",
      "source": [
        "# A comparação que demonstra se há duplicatas ou não na tupla\n",
        "print(len(set(tupla1)))\n",
        "print('\\n')\n",
        "print(len(tupla1))"
      ],
      "metadata": {
        "colab": {
          "base_uri": "https://localhost:8080/"
        },
        "id": "Hq87bmvQFrk7",
        "outputId": "199bd23f-ce8a-4ec0-d3ca-19304192d30d"
      },
      "execution_count": 56,
      "outputs": [
        {
          "output_type": "stream",
          "name": "stdout",
          "text": [
            "4\n",
            "\n",
            "\n",
            "5\n"
          ]
        }
      ]
    },
    {
      "cell_type": "code",
      "source": [
        "# Usando uma estrutura condicional para saber se há elementos repetidos ou não em uma tupla\n",
        "if (len(set(tupla1)) != len(tupla1)):\n",
        "  print('Há elementos repetidos!')\n",
        "else:\n",
        "  print('Não há elementos repetidos!')"
      ],
      "metadata": {
        "colab": {
          "base_uri": "https://localhost:8080/"
        },
        "id": "dCwtHup2HHUr",
        "outputId": "b567c852-df19-47c2-a7f4-7b036a3ec4ca"
      },
      "execution_count": 57,
      "outputs": [
        {
          "output_type": "stream",
          "name": "stdout",
          "text": [
            "Há elementos repetidos!\n"
          ]
        }
      ]
    },
    {
      "cell_type": "markdown",
      "source": [
        "#### 14 - ESCREVA UM PROGRAMA PARA CONVERTER UMA LISTA EM UMA TUPLA."
      ],
      "metadata": {
        "id": "yh2aVuJfHtBO"
      }
    },
    {
      "cell_type": "code",
      "source": [
        "l = [1, 2, 3, 'João Victor', True, 3.14, 'YouTube']\n",
        "print(l)\n",
        "print('\\n')\n",
        "print(type(l))\n",
        "print('\\n')\n",
        "l = tuple(l)\n",
        "print(l)\n",
        "print('\\n')\n",
        "print(type(l))"
      ],
      "metadata": {
        "colab": {
          "base_uri": "https://localhost:8080/"
        },
        "id": "avHEgBTzHwrx",
        "outputId": "fc89f7ac-59d7-471b-97ec-0134efc82e02"
      },
      "execution_count": 58,
      "outputs": [
        {
          "output_type": "stream",
          "name": "stdout",
          "text": [
            "[1, 2, 3, 'João Victor', True, 3.14, 'YouTube']\n",
            "\n",
            "\n",
            "<class 'list'>\n",
            "\n",
            "\n",
            "(1, 2, 3, 'João Victor', True, 3.14, 'YouTube')\n",
            "\n",
            "\n",
            "<class 'tuple'>\n"
          ]
        }
      ]
    },
    {
      "cell_type": "markdown",
      "source": [
        "## DICIONÁRIOS"
      ],
      "metadata": {
        "id": "zx8Unb-UInwM"
      }
    },
    {
      "cell_type": "code",
      "source": [
        "type({})"
      ],
      "metadata": {
        "colab": {
          "base_uri": "https://localhost:8080/"
        },
        "id": "MzTwcxriytxQ",
        "outputId": "261aea76-f6d3-441b-93be-d7deaaee3906"
      },
      "execution_count": 60,
      "outputs": [
        {
          "output_type": "execute_result",
          "data": {
            "text/plain": [
              "dict"
            ]
          },
          "metadata": {},
          "execution_count": 60
        }
      ]
    },
    {
      "cell_type": "code",
      "source": [
        "estado_codigo = {'Rio De Janeiro': 'RJ', 'Minas Gerais': 'MG'}\n",
        "print(estado_codigo)"
      ],
      "metadata": {
        "colab": {
          "base_uri": "https://localhost:8080/"
        },
        "id": "fyUtp_CHzKbc",
        "outputId": "9d27e706-b2aa-4c80-b376-7460a916ec4f"
      },
      "execution_count": 61,
      "outputs": [
        {
          "output_type": "stream",
          "name": "stdout",
          "text": [
            "{'Rio De Janeiro': 'RJ', 'Minas Gerais': 'MG'}\n"
          ]
        }
      ]
    },
    {
      "cell_type": "code",
      "source": [
        "# Acessando o valor de uma chave\n",
        "print(estado_codigo['Rio De Janeiro'])"
      ],
      "metadata": {
        "colab": {
          "base_uri": "https://localhost:8080/"
        },
        "id": "HCzopHzxzpVs",
        "outputId": "8b2f7491-3eb2-4ad6-aae0-9059ab1d7368"
      },
      "execution_count": 63,
      "outputs": [
        {
          "output_type": "stream",
          "name": "stdout",
          "text": [
            "RJ\n"
          ]
        }
      ]
    },
    {
      "cell_type": "code",
      "source": [
        "# Como saber se um valor está presente em uma das chaves do dicionário:\n",
        "'RJ' in estado_codigo.values()"
      ],
      "metadata": {
        "colab": {
          "base_uri": "https://localhost:8080/"
        },
        "id": "SyBbFTDez91d",
        "outputId": "6d8b4384-60bd-4e98-bc32-d212f30acfd6"
      },
      "execution_count": 66,
      "outputs": [
        {
          "output_type": "execute_result",
          "data": {
            "text/plain": [
              "True"
            ]
          },
          "metadata": {},
          "execution_count": 66
        }
      ]
    },
    {
      "cell_type": "code",
      "source": [
        "# Como saber se uma chave está presente no dicionário:\n",
        "'Rio De Janeiro' in estado_codigo"
      ],
      "metadata": {
        "colab": {
          "base_uri": "https://localhost:8080/"
        },
        "id": "NitBGJD70LzF",
        "outputId": "677f4888-c517-4633-ac43-ccf613d1c48d"
      },
      "execution_count": 67,
      "outputs": [
        {
          "output_type": "execute_result",
          "data": {
            "text/plain": [
              "True"
            ]
          },
          "metadata": {},
          "execution_count": 67
        }
      ]
    },
    {
      "cell_type": "code",
      "source": [
        "# Como saber se uma determinada chave e valor estão presentes no dicionário:\n",
        "('Rio De Janeiro', 'RJ') in estado_codigo.items()"
      ],
      "metadata": {
        "colab": {
          "base_uri": "https://localhost:8080/"
        },
        "id": "51wMkRjx0TBb",
        "outputId": "76cf5cbc-1b90-4608-b379-bcc915c83660"
      },
      "execution_count": 74,
      "outputs": [
        {
          "output_type": "execute_result",
          "data": {
            "text/plain": [
              "True"
            ]
          },
          "metadata": {},
          "execution_count": 74
        }
      ]
    },
    {
      "cell_type": "markdown",
      "source": [
        "#### 15 - ESCREVA UM PROGRAMA PARA ADICIONAR UMA CHAVE A UM DICIONÁRIO."
      ],
      "metadata": {
        "id": "wjcm1VvM1Grv"
      }
    },
    {
      "cell_type": "code",
      "source": [
        "# Como adicionar uma nova chave ao dicionário:\n",
        "print(estado_codigo)\n",
        "estado_codigo['Bahia'] = 'BA'\n",
        "print('\\n')\n",
        "print(estado_codigo)"
      ],
      "metadata": {
        "colab": {
          "base_uri": "https://localhost:8080/"
        },
        "id": "bDnifFSU1Js6",
        "outputId": "89e1ce3b-d95f-4586-8a4d-39bda2b4458e"
      },
      "execution_count": 76,
      "outputs": [
        {
          "output_type": "stream",
          "name": "stdout",
          "text": [
            "{'Rio De Janeiro': 'RJ', 'Minas Gerais': 'MG'}\n",
            "\n",
            "\n",
            "{'Rio De Janeiro': 'RJ', 'Minas Gerais': 'MG', 'Bahia': 'BA'}\n"
          ]
        }
      ]
    },
    {
      "cell_type": "code",
      "source": [
        "# Comando update para adicionar uma nova chave:\n",
        "estado_codigo.update({'São Paulo':'SP'})\n",
        "print(estado_codigo)"
      ],
      "metadata": {
        "colab": {
          "base_uri": "https://localhost:8080/"
        },
        "id": "FJi01hrc1Nk4",
        "outputId": "d59ebb7a-3b70-450d-c51e-b433864fb796"
      },
      "execution_count": 79,
      "outputs": [
        {
          "output_type": "stream",
          "name": "stdout",
          "text": [
            "{'Rio De Janeiro': 'RJ', 'Minas Gerais': 'MG', 'Bahia': 'BA', 'São Paulo': 'SP'}\n"
          ]
        }
      ]
    },
    {
      "cell_type": "markdown",
      "source": [
        "#### 16 - CRIE DOIS DICIONÁRIOS DIFERENTES E CONCATENE PARA CRIAR UM NOVO."
      ],
      "metadata": {
        "id": "i0A5edcJ2qNd"
      }
    },
    {
      "cell_type": "code",
      "source": [
        "rappers_usa = {'Kendrick Lamar': 'TPAB', 'Tyler, The Creator': 'Igor', 'Vince Staples': 'Vince Staples'}\n",
        "rappers_br = {'Makalister': 'Barka', 'Victor Xamã': 'Verde Esmeralda & Cinza Granito'}\n",
        "print(rappers_usa)\n",
        "print('\\n')\n",
        "print(rappers_br)"
      ],
      "metadata": {
        "colab": {
          "base_uri": "https://localhost:8080/"
        },
        "id": "jbbnIQWQ2w8A",
        "outputId": "b1e79a50-520b-4b93-844e-1cd60c1600cf"
      },
      "execution_count": 186,
      "outputs": [
        {
          "output_type": "stream",
          "name": "stdout",
          "text": [
            "{'Kendrick Lamar': 'TPAB', 'Tyler, The Creator': 'Igor', 'Vince Staples': 'Vince Staples'}\n",
            "\n",
            "\n",
            "{'Makalister': 'Barka', 'Victor Xamã': 'Verde Esmeralda & Cinza Granito'}\n"
          ]
        }
      ]
    },
    {
      "cell_type": "code",
      "source": [
        "# Concatenação entre dois dicionários e criação de um novo:\n",
        "rap_usa_br = {}\n",
        "print(rap_usa_br)\n",
        "rap_usa_br.update(rappers_usa)\n",
        "rap_usa_br.update(rappers_br)\n",
        "print('\\n')\n",
        "print(rap_usa_br)"
      ],
      "metadata": {
        "colab": {
          "base_uri": "https://localhost:8080/"
        },
        "id": "dN7tLXR72z0E",
        "outputId": "1395593f-17b2-479b-aa82-c6a5151e30cd"
      },
      "execution_count": 160,
      "outputs": [
        {
          "output_type": "stream",
          "name": "stdout",
          "text": [
            "{}\n",
            "\n",
            "\n",
            "{'Kendrick Lamar': 'TPAB', 'Tyler, The Creator': 'Igor', 'Vince Staples': 'Vince Staples', 'Makalister': 'Barka', 'Victor Xamã': 'Verde Esmeralda & Cinza Granito'}\n"
          ]
        }
      ]
    },
    {
      "cell_type": "code",
      "source": [
        "# Usando o for para realizar a concatenação entre os dois dicionários:\n",
        "for i in rappers_usa:\n",
        "  rappers_br[i] = rappers_usa[i]\n",
        "print(rappers_br)"
      ],
      "metadata": {
        "colab": {
          "base_uri": "https://localhost:8080/"
        },
        "id": "NyyX971TC1Qv",
        "outputId": "98dc6f2a-9fd9-4546-cb0f-623b0a01bd5f"
      },
      "execution_count": 161,
      "outputs": [
        {
          "output_type": "stream",
          "name": "stdout",
          "text": [
            "{'Makalister': 'Barka', 'Victor Xamã': 'Verde Esmeralda & Cinza Granito', 'Kendrick Lamar': 'TPAB', 'Tyler, The Creator': 'Igor', 'Vince Staples': 'Vince Staples'}\n"
          ]
        }
      ]
    },
    {
      "cell_type": "markdown",
      "source": [
        "#### 17 - ESCREVA UM PROGRAMA PARA VERIFICAR SE UMA DETERMINADA CHAVE JÁ EXISTE EM UM DICIONÁRIO."
      ],
      "metadata": {
        "id": "3Iiw_cjK5DE9"
      }
    },
    {
      "cell_type": "code",
      "source": [
        "# Manualmente para saber:\n",
        "'Tyler, The Creator' in rap_usa_br.keys()"
      ],
      "metadata": {
        "colab": {
          "base_uri": "https://localhost:8080/"
        },
        "id": "t_bXGJov4FUv",
        "outputId": "9fa3020e-5bf1-4655-bc3d-726fba962544"
      },
      "execution_count": 139,
      "outputs": [
        {
          "output_type": "execute_result",
          "data": {
            "text/plain": [
              "True"
            ]
          },
          "metadata": {},
          "execution_count": 139
        }
      ]
    },
    {
      "cell_type": "code",
      "source": [
        "n = str(input('Escreva o nome de uma chave: '))\n",
        "print('\\n')\n",
        "n in rap_usa_br.keys()"
      ],
      "metadata": {
        "colab": {
          "base_uri": "https://localhost:8080/"
        },
        "id": "7cAZ88ZB-pad",
        "outputId": "7a845811-826e-45da-9f77-f107a879cae4"
      },
      "execution_count": 144,
      "outputs": [
        {
          "output_type": "stream",
          "name": "stdout",
          "text": [
            "Escreva o nome de uma chave: Vince Staples\n",
            "\n",
            "\n"
          ]
        },
        {
          "output_type": "execute_result",
          "data": {
            "text/plain": [
              "True"
            ]
          },
          "metadata": {},
          "execution_count": 144
        }
      ]
    },
    {
      "cell_type": "markdown",
      "source": [
        "#### 18 - ESCREVA UM PROGRAMA PARA ITERAR SOBRE DICIONÁRIOS USANDO LOOPS FOR. "
      ],
      "metadata": {
        "id": "HAVn26a1AW4I"
      }
    },
    {
      "cell_type": "code",
      "source": [
        "for i in rap_usa_br.items():\n",
        "  print(i)"
      ],
      "metadata": {
        "colab": {
          "base_uri": "https://localhost:8080/"
        },
        "id": "vxa3RWOkAbrp",
        "outputId": "709a101b-dee2-4b73-a32b-e1c1d68c65bf"
      },
      "execution_count": 155,
      "outputs": [
        {
          "output_type": "stream",
          "name": "stdout",
          "text": [
            "('Kendrick Lamar', 'TPAB')\n",
            "('Tyler, The Creator', 'Igor')\n",
            "('Vince Staples', 'Vince Staples')\n",
            "('Makalister', 'Barka')\n",
            "('Victor Xamã', 'Verde Esmeralda & Cinza Granito')\n"
          ]
        }
      ]
    },
    {
      "cell_type": "code",
      "source": [
        "for k in rap_usa_br:\n",
        "  print(f'{k}: {rap_usa_br[k]}')"
      ],
      "metadata": {
        "colab": {
          "base_uri": "https://localhost:8080/"
        },
        "id": "26SyBvW9Af2J",
        "outputId": "d28f0009-c88b-4f3e-fc15-9ae95292f9ba"
      },
      "execution_count": 162,
      "outputs": [
        {
          "output_type": "stream",
          "name": "stdout",
          "text": [
            "Kendrick Lamar: TPAB\n",
            "Tyler, The Creator: Igor\n",
            "Vince Staples: Vince Staples\n",
            "Makalister: Barka\n",
            "Victor Xamã: Verde Esmeralda & Cinza Granito\n"
          ]
        }
      ]
    },
    {
      "cell_type": "markdown",
      "source": [
        "#### 19 - ESCREVA UM PROGRAMA PARA MULTIPLICAR TODOS OS ITENS EM UM DICIONÁRIO."
      ],
      "metadata": {
        "id": "PLYwMYmODwQ1"
      }
    },
    {
      "cell_type": "code",
      "source": [
        "# Multiplicação dos itens (chave, valor):\n",
        "dict_n = {'A': 10, 'B': 20, 'C': 30, 'D': 40, 'E': 50, 'F': 60}\n",
        "mult = 1\n",
        "print(dict_n)\n",
        "print('\\n')\n",
        "for i in dict_n:\n",
        "  mult *= dict_n[i] \n",
        "  print(dict_n[i], mult)"
      ],
      "metadata": {
        "colab": {
          "base_uri": "https://localhost:8080/"
        },
        "id": "dQAqgf4DD1sB",
        "outputId": "fec73ac7-b8e0-4bf4-a7a5-7cee48af94a5"
      },
      "execution_count": 182,
      "outputs": [
        {
          "output_type": "stream",
          "name": "stdout",
          "text": [
            "{'A': 10, 'B': 20, 'C': 30, 'D': 40, 'E': 50, 'F': 60}\n",
            "\n",
            "\n",
            "10 10\n",
            "20 200\n",
            "30 6000\n",
            "40 240000\n",
            "50 12000000\n",
            "60 720000000\n"
          ]
        }
      ]
    },
    {
      "cell_type": "markdown",
      "source": [
        "#### 20 - ESCREVA UM PROGRAMA PARA REMOVER UMA CHAVE DE UM DICIONÁRIO"
      ],
      "metadata": {
        "id": "ZFIt94WzISgK"
      }
    },
    {
      "cell_type": "code",
      "source": [
        "print(rappers_usa)\n",
        "print('\\n')\n",
        "rappers_usa.pop('Vince Staples')\n",
        "print(rappers_usa)"
      ],
      "metadata": {
        "colab": {
          "base_uri": "https://localhost:8080/"
        },
        "id": "bqebYH6UIVYq",
        "outputId": "77a1eafe-c201-4b74-9302-7f2f4bb70e9a"
      },
      "execution_count": 187,
      "outputs": [
        {
          "output_type": "stream",
          "name": "stdout",
          "text": [
            "{'Kendrick Lamar': 'TPAB', 'Tyler, The Creator': 'Igor', 'Vince Staples': 'Vince Staples'}\n",
            "\n",
            "\n",
            "{'Kendrick Lamar': 'TPAB', 'Tyler, The Creator': 'Igor'}\n"
          ]
        }
      ]
    },
    {
      "cell_type": "markdown",
      "source": [
        "#### LISTA DE EXERCÍCIOS FINALIZADA"
      ],
      "metadata": {
        "id": "ED_hgLnCJAgP"
      }
    }
  ]
}