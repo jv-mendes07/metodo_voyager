{
 "cells": [
  {
   "cell_type": "markdown",
   "metadata": {
    "id": "sutnQ5_yzRcp"
   },
   "source": [
    "#### 1 - FAÇA UM PROGRAMA QUE LEIA UM NÚMERO INTEIRO E O IMPRIMA"
   ]
  },
  {
   "cell_type": "code",
   "execution_count": 1,
   "metadata": {
    "id": "Uk3103Ba1P2W"
   },
   "outputs": [
    {
     "name": "stdout",
     "output_type": "stream",
     "text": [
      "Digite um número inteiro: 23\n"
     ]
    }
   ],
   "source": [
    "ler_num = input('Digite um número inteiro: ')"
   ]
  },
  {
   "cell_type": "code",
   "execution_count": 2,
   "metadata": {
    "id": "V0uejdJw1U3o"
   },
   "outputs": [
    {
     "name": "stdout",
     "output_type": "stream",
     "text": [
      "23\n"
     ]
    }
   ],
   "source": [
    "print(ler_num)"
   ]
  },
  {
   "cell_type": "code",
   "execution_count": 3,
   "metadata": {
    "id": "Sva88MdA1sGF"
   },
   "outputs": [
    {
     "name": "stdout",
     "output_type": "stream",
     "text": [
      "O valor inteiro lido é:  23\n"
     ]
    }
   ],
   "source": [
    "print('O valor inteiro lido é: ', ler_num)"
   ]
  },
  {
   "cell_type": "code",
   "execution_count": 4,
   "metadata": {
    "id": "UXT9sw0D1zFS"
   },
   "outputs": [
    {
     "name": "stdout",
     "output_type": "stream",
     "text": [
      "O valor inteiro lido é: 23\n"
     ]
    }
   ],
   "source": [
    "print('O valor inteiro lido é: {0}'.format(ler_num))"
   ]
  },
  {
   "cell_type": "code",
   "execution_count": 5,
   "metadata": {
    "id": "5EabTyC42BSQ"
   },
   "outputs": [
    {
     "name": "stdout",
     "output_type": "stream",
     "text": [
      "O valor inteiro lido é: 23\n"
     ]
    }
   ],
   "source": [
    "print(f'O valor inteiro lido é: {ler_num}')"
   ]
  },
  {
   "cell_type": "code",
   "execution_count": 6,
   "metadata": {
    "id": "oIUqRLsx2GRv"
   },
   "outputs": [
    {
     "name": "stdout",
     "output_type": "stream",
     "text": [
      "Digite um número inteiro: 242\n",
      "O valor inteiro lido é: 242\n"
     ]
    }
   ],
   "source": [
    "ler_num = input('Digite um número inteiro: ')\n",
    "print('O valor inteiro lido é: {0}'.format(ler_num))"
   ]
  },
  {
   "cell_type": "code",
   "execution_count": 7,
   "metadata": {
    "id": "FUOCNClm2a6Z"
   },
   "outputs": [
    {
     "name": "stdout",
     "output_type": "stream",
     "text": [
      "O tipo do dado é: <class 'str'>\n"
     ]
    }
   ],
   "source": [
    "print(f'O tipo do dado é: {type(ler_num)}')"
   ]
  },
  {
   "cell_type": "code",
   "execution_count": 8,
   "metadata": {
    "id": "EKBfxwb22v7r"
   },
   "outputs": [
    {
     "data": {
      "text/plain": [
       "str"
      ]
     },
     "execution_count": 8,
     "metadata": {},
     "output_type": "execute_result"
    }
   ],
   "source": [
    "type(ler_num)"
   ]
  },
  {
   "cell_type": "markdown",
   "metadata": {
    "id": "9hy5mOz13xg4"
   },
   "source": [
    "#### 2 - CORREÇÃO DA RESOLUÇÃO PARA QUE O PROGRAMA IMPRIMA UM DADO DO TIPO INTEIRO"
   ]
  },
  {
   "cell_type": "code",
   "execution_count": 9,
   "metadata": {
    "id": "474CCvT92_lK"
   },
   "outputs": [
    {
     "name": "stdout",
     "output_type": "stream",
     "text": [
      "Digite um número inteiro: 231\n",
      "O tipo do dado é: <class 'int'>\n"
     ]
    }
   ],
   "source": [
    "ler_num = int(input('Digite um número inteiro: ', ))\n",
    "print(f'O tipo do dado é: {type(ler_num)}')"
   ]
  },
  {
   "cell_type": "code",
   "execution_count": 10,
   "metadata": {
    "id": "v4p6qYwZ3Qnd"
   },
   "outputs": [
    {
     "data": {
      "text/plain": [
       "int"
      ]
     },
     "execution_count": 10,
     "metadata": {},
     "output_type": "execute_result"
    }
   ],
   "source": [
    "type(ler_num)"
   ]
  },
  {
   "cell_type": "code",
   "execution_count": 11,
   "metadata": {
    "id": "bwBb70CP3ibc"
   },
   "outputs": [
    {
     "name": "stdout",
     "output_type": "stream",
     "text": [
      "O valor do inteiro lido é: 3\n"
     ]
    }
   ],
   "source": [
    "ler_num = 3\n",
    "print('O valor do inteiro lido é: {0}'.format(ler_num))"
   ]
  },
  {
   "cell_type": "markdown",
   "metadata": {
    "id": "5bSyOEvN4kSQ"
   },
   "source": [
    "#### 3 - FAÇA UM PROGRAMA QUE LEIA UM NÚMERO REAL E O IMPRIMA"
   ]
  },
  {
   "cell_type": "code",
   "execution_count": 12,
   "metadata": {
    "colab": {
     "base_uri": "https://localhost:8080/"
    },
    "id": "oXhpqakl4pBa",
    "outputId": "2dfef72a-8c6e-4629-96c0-5c68eb3029de"
   },
   "outputs": [
    {
     "name": "stdout",
     "output_type": "stream",
     "text": [
      "Digite um número real: 3.14\n",
      "\n",
      "\n",
      "O valor do número real lido é: 3.14\n",
      "\n",
      "\n",
      "O tipo do dado lido é: <class 'float'>\n"
     ]
    }
   ],
   "source": [
    "ler_num_r = float(input('Digite um número real: ', ))\n",
    "print('\\n')\n",
    "print('O valor do número real lido é: {0}'.format(ler_num_r))\n",
    "print('\\n')\n",
    "print(f'O tipo do dado lido é: {type(ler_num_r)}')"
   ]
  },
  {
   "cell_type": "code",
   "execution_count": 13,
   "metadata": {
    "colab": {
     "base_uri": "https://localhost:8080/"
    },
    "id": "6LAA1-Tb49VI",
    "outputId": "ae578ca6-c4ce-443f-d037-7e8518cb4f30"
   },
   "outputs": [
    {
     "data": {
      "text/plain": [
       "float"
      ]
     },
     "execution_count": 13,
     "metadata": {},
     "output_type": "execute_result"
    }
   ],
   "source": [
    "type(ler_num_r)"
   ]
  },
  {
   "cell_type": "markdown",
   "metadata": {
    "id": "ZkFZvVmU7PBQ"
   },
   "source": [
    "#### 4 -  PEÇA AO USUÁRIO PARA DIGITAR TRÊS VALORES E IMPRIMAR A SOMA DOS TRÊS VALORES"
   ]
  },
  {
   "cell_type": "code",
   "execution_count": 14,
   "metadata": {
    "colab": {
     "base_uri": "https://localhost:8080/"
    },
    "id": "CKuV_x0t7XBU",
    "outputId": "cd02cd4a-9e6c-4411-f84f-8048f9aa206d"
   },
   "outputs": [
    {
     "name": "stdout",
     "output_type": "stream",
     "text": [
      "Digite o primeiro valor: 20\n",
      "\n",
      "\n",
      "Digite o segundo valor: 30\n",
      "\n",
      "\n",
      "Digite o terceiro valor: 40\n",
      "\n",
      "\n",
      "A soma dos três valores é:  90\n"
     ]
    }
   ],
   "source": [
    "pri_val = int(input('Digite o primeiro valor: '))\n",
    "print('\\n')\n",
    "seg_val = int(input('Digite o segundo valor: '))\n",
    "print('\\n')\n",
    "ter_val = int(input('Digite o terceiro valor: '))\n",
    "print('\\n')\n",
    "print('A soma dos três valores é: ', pri_val + seg_val + ter_val)"
   ]
  },
  {
   "cell_type": "code",
   "execution_count": 15,
   "metadata": {
    "colab": {
     "base_uri": "https://localhost:8080/"
    },
    "id": "ASn1RYND9CtR",
    "outputId": "d4b4d37b-48de-4201-b9f3-64317c69dc26"
   },
   "outputs": [
    {
     "name": "stdout",
     "output_type": "stream",
     "text": [
      "A soma dos valores 20 + 30 + 40 é = 90\n",
      "\n",
      "\n",
      "O tipo de dado da variável soma_val é: <class 'int'>\n"
     ]
    }
   ],
   "source": [
    "soma_val = pri_val + seg_val + ter_val\n",
    "print('A soma dos valores {0} + {1} + {2} é = {3}'.format(pri_val, seg_val, ter_val, soma_val))\n",
    "print('\\n')\n",
    "print(f'O tipo de dado da variável soma_val é: {type(soma_val)}')"
   ]
  },
  {
   "cell_type": "markdown",
   "metadata": {
    "id": "vZrwlmfU-q3D"
   },
   "source": [
    "#### 5 - PEÇA AO USUÁRIO PARA DIGITAR UM NÚMERO REAL E IMPRIMIR O QUADRADO DESSE NÚMERO"
   ]
  },
  {
   "cell_type": "code",
   "execution_count": 16,
   "metadata": {
    "colab": {
     "base_uri": "https://localhost:8080/"
    },
    "id": "di2UFCL4-xaq",
    "outputId": "7fc44375-2a19-41c9-d15d-2d505482307b"
   },
   "outputs": [
    {
     "name": "stdout",
     "output_type": "stream",
     "text": [
      "Digite um número real: 3.14\n",
      "\n",
      "\n",
      "O quadrado de 3.14 é:  9.8596\n"
     ]
    }
   ],
   "source": [
    "ler_num_r = float(input('Digite um número real: '))\n",
    "print('\\n')\n",
    "print(f'O quadrado de {ler_num_r} é: ', ler_num_r ** 2)"
   ]
  },
  {
   "cell_type": "code",
   "execution_count": 17,
   "metadata": {
    "colab": {
     "base_uri": "https://localhost:8080/"
    },
    "id": "PI6z06OFAEDt",
    "outputId": "1e40a57d-c5d3-40b4-a570-6afaf0e146f9"
   },
   "outputs": [
    {
     "name": "stdout",
     "output_type": "stream",
     "text": [
      "Digite um número real: 2.14\n",
      "\n",
      "\n",
      "O quadrado de 2.14 é: 4.58\n",
      "\n",
      "\n",
      "O tipo de dado da váriavel qua_num_r é <class 'numpy.float64'>\n"
     ]
    }
   ],
   "source": [
    "ler_num_r = float(input('Digite um número real: '))\n",
    "print('\\n')\n",
    "import numpy as np\n",
    "qua_num_r = np.square(ler_num_r)\n",
    "print('O quadrado de {0} é: {1:.2f}'.format(ler_num_r, qua_num_r))\n",
    "print('\\n')\n",
    "print(f'O tipo de dado da váriavel qua_num_r é {type(qua_num_r)}')"
   ]
  },
  {
   "cell_type": "markdown",
   "metadata": {
    "id": "BtfEG0rSDVEt"
   },
   "source": [
    "#### 6 - PEÇA AO USUÁRIO PARA DIGITAR UM NÚMERO REAL E IMPRIMAR A QUINTA PARTE DESSE NÚMERO."
   ]
  },
  {
   "cell_type": "code",
   "execution_count": 18,
   "metadata": {
    "colab": {
     "base_uri": "https://localhost:8080/"
    },
    "id": "eEVBlGpzDboS",
    "outputId": "0ba50548-ab39-403f-e904-6d1079e61a9e"
   },
   "outputs": [
    {
     "name": "stdout",
     "output_type": "stream",
     "text": [
      "Digite um número real: 9.84\n",
      "\n",
      "\n",
      "A quinta parte do número real 9.84 é 1.968\n",
      "\n",
      "\n",
      "O tipo de dado da variável quin_part_num_r é <class 'float'>\n"
     ]
    }
   ],
   "source": [
    "ler_num_r = float(input('Digite um número real: '))\n",
    "print('\\n')\n",
    "quin_part_num_r = ler_num_r / 5\n",
    "print('A quinta parte do número real {0} é {1}'.format(ler_num_r, quin_part_num_r))\n",
    "print('\\n')\n",
    "print(f'O tipo de dado da variável quin_part_num_r é {type(quin_part_num_r)}')"
   ]
  },
  {
   "cell_type": "markdown",
   "metadata": {
    "id": "zVGIi526B6vE"
   },
   "source": [
    "#### 7 - LEIA UMA TEMPERATURA EM GRAUS CELSIUS E IMPRIMA-A CONVERTIDA EM GRAUS FAHRENHEIT.  A FÓRMULA DE CONVERSÃO É: F = C * (9.0 / 5.0) + 32.0, SENDO F A TEMPERATURA EM FAHRENHEIT E C A TEMPERATURA EM GRAUS CELSIS.."
   ]
  },
  {
   "cell_type": "code",
   "execution_count": 19,
   "metadata": {
    "colab": {
     "base_uri": "https://localhost:8080/"
    },
    "id": "d-qpwOgoCYuG",
    "outputId": "8ef44f2b-cab2-4655-9fc4-c31e10dd4ed9"
   },
   "outputs": [
    {
     "name": "stdout",
     "output_type": "stream",
     "text": [
      "Digite a temperatura em graus Celsius: 29\n",
      "\n",
      "\n",
      "A temperatura em graus Celsius lida é de 29 °\n"
     ]
    }
   ],
   "source": [
    "C = float(input('Digite a temperatura em graus Celsius: '))\n",
    "print('\\n')\n",
    "print('A temperatura em graus Celsius lida é de {0:.0f} °'.format(C))"
   ]
  },
  {
   "cell_type": "code",
   "execution_count": 20,
   "metadata": {
    "colab": {
     "base_uri": "https://localhost:8080/"
    },
    "id": "bf-BwZ0lDF0Z",
    "outputId": "a7f1b445-a18b-4a00-fcd8-98fd7c014620"
   },
   "outputs": [
    {
     "name": "stdout",
     "output_type": "stream",
     "text": [
      "A temperatura em 29 ° graus Celsius convertida em graus Fahrenheit é igual à 84.2 °\n"
     ]
    }
   ],
   "source": [
    "F = C * (9.0 / 5.0) + 32.0\n",
    "print('A temperatura em {0:.0f} ° graus Celsius convertida em graus Fahrenheit é igual à {1:.1f} °'.format(C, F))"
   ]
  },
  {
   "cell_type": "code",
   "execution_count": 21,
   "metadata": {
    "colab": {
     "base_uri": "https://localhost:8080/"
    },
    "id": "FAk1RWtqELzM",
    "outputId": "4f4f6f8d-cbc1-4977-8537-c2f360faef56"
   },
   "outputs": [
    {
     "name": "stdout",
     "output_type": "stream",
     "text": [
      "O tipo de dados da variável C é <class 'float'>\n",
      "\n",
      "\n",
      "O tipo de dados da variável F é <class 'float'>\n"
     ]
    }
   ],
   "source": [
    "print(f'O tipo de dados da variável C é {type(C)}')\n",
    "print('\\n')\n",
    "print(f'O tipo de dados da variável F é {type(F)}')"
   ]
  },
  {
   "cell_type": "markdown",
   "metadata": {
    "id": "HFzsrElMGvTi"
   },
   "source": [
    "#### 8 - LEIA UMA TEMPERATURA EM GRAUS  KELVIN E IMPRIMA-A CONVERTIDA EM GRAUS CELSIUS. A FÓRMULA DE CONVERSÃO É: C = K - 273.15, SENDO C A TEMPERATURA EM CELSIUS E K A TEMPERATURA EM KELVIN."
   ]
  },
  {
   "cell_type": "code",
   "execution_count": 22,
   "metadata": {
    "colab": {
     "base_uri": "https://localhost:8080/"
    },
    "id": "gOYDUMzAHr5i",
    "outputId": "b8878064-9f5a-4138-e51f-0e2cba6ed5fe"
   },
   "outputs": [
    {
     "name": "stdout",
     "output_type": "stream",
     "text": [
      "Digite a temperatura em graus Kelvin: 513\n",
      "\n",
      "\n",
      "A temperatura de 513.00 ° em graus Kelvin convertida para graus Celsius é igual à 240 °\n"
     ]
    }
   ],
   "source": [
    "K = float(input('Digite a temperatura em graus Kelvin: '))\n",
    "print('\\n')\n",
    "C = K - 273.15\n",
    "print('A temperatura de {0:.2f} ° em graus Kelvin convertida para graus Celsius é igual à {1:.0f} °'.format(K, C))"
   ]
  },
  {
   "cell_type": "code",
   "execution_count": 23,
   "metadata": {
    "colab": {
     "base_uri": "https://localhost:8080/"
    },
    "id": "vKtjCoKXIXi_",
    "outputId": "d768b03d-a091-44b3-af01-7dae5a8925f8"
   },
   "outputs": [
    {
     "name": "stdout",
     "output_type": "stream",
     "text": [
      "O tipo de dados da variável K é <class 'float'>\n",
      "\n",
      "\n",
      "O tipo de dados da variável C é <class 'float'>\n"
     ]
    }
   ],
   "source": [
    "print(f'O tipo de dados da variável K é {type(K)}')\n",
    "print('\\n')\n",
    "print(f'O tipo de dados da variável C é {type(C)}')"
   ]
  },
  {
   "cell_type": "markdown",
   "metadata": {
    "id": "ZRkg5UxdJuEx"
   },
   "source": [
    "#### 9 - LEIA UM ÂNGULO EM GRAUS E APRESENTE-O CONVERTIDO EM RADIANOS. A FÓRMULA DE CONVERSÃO É R = G ∗ PI / 180, SENDO G O ÂNGULO EM GRAUS E R EM RADIANOS E PI = 3.14."
   ]
  },
  {
   "cell_type": "code",
   "execution_count": 24,
   "metadata": {
    "colab": {
     "base_uri": "https://localhost:8080/"
    },
    "id": "88tSc7tzJ7B1",
    "outputId": "d9d9ecdf-4e42-42cd-9eec-9c0abe9ba7d5"
   },
   "outputs": [
    {
     "name": "stdout",
     "output_type": "stream",
     "text": [
      "Digite o ângulo em graus: 90\n",
      "\n",
      "\n",
      "O ângulo de 90 ° (graus) conversível em radianos é 1.6 °\n"
     ]
    }
   ],
   "source": [
    "G = float(input('Digite o ângulo em graus: '))\n",
    "print('\\n')\n",
    "PI = 3.14\n",
    "R = G * PI / 180\n",
    "print('O ângulo de {0:.0f} ° (graus) conversível em radianos é {1:.1f} °'.format(G, R))"
   ]
  },
  {
   "cell_type": "markdown",
   "metadata": {
    "id": "8PONN3IFNIvF"
   },
   "source": [
    "#### 10 - LEIA UM VALOR DE COMPRIMENTO EM POLEGADAS E APRESENTE-O CONVERTIDO EM CENTÍMETROS. A FÓRMULA DE CONVERSÃO É: C = P ∗ 2, 54, SENDO C O COMPRIMENTO EM CENTÍMETROS E P O COMPRIMENTO EM POLEGADAS."
   ]
  },
  {
   "cell_type": "code",
   "execution_count": 27,
   "metadata": {
    "colab": {
     "base_uri": "https://localhost:8080/"
    },
    "id": "YGvTip-XNOD0",
    "outputId": "5adc84c7-40e7-4c25-e8be-a6b8f177f965"
   },
   "outputs": [
    {
     "name": "stdout",
     "output_type": "stream",
     "text": [
      "Digite o comprimento em polegadas: 90\n",
      "\n",
      "\n",
      "O comprimento de 90 ° polegadas convertido para o comprimento em centímetros é igual à 228.6 cm\n"
     ]
    }
   ],
   "source": [
    "P = float(input('Digite o comprimento em polegadas: '))\n",
    "C = P * 2.54\n",
    "print('\\n')\n",
    "print('O comprimento de {0:.0f} ° polegadas convertido para o comprimento em centímetros é igual à {1:.1f} cm'.format(P, C))"
   ]
  },
  {
   "cell_type": "markdown",
   "metadata": {
    "id": "6l7EFgfwPEyk"
   },
   "source": [
    "#### 11 - FAÇA A LEITURA DE TRÊS VALORES E APRESENTE COMO RESULTADO A SOMA DOS QUADRADOS DOS TRÊS VALORES LIDOS."
   ]
  },
  {
   "cell_type": "code",
   "execution_count": 28,
   "metadata": {
    "colab": {
     "base_uri": "https://localhost:8080/"
    },
    "id": "ajYU6h4rPLtP",
    "outputId": "74106482-bf97-48de-de7d-0e9e47955e88"
   },
   "outputs": [
    {
     "name": "stdout",
     "output_type": "stream",
     "text": [
      "Digite o primeiro valor: 10\n",
      "Digite o segundo valor: 20\n",
      "Digite o terceiro valor: 30\n",
      "A soma dos quadrados dos três valores lidos é igual à 1400.0\n"
     ]
    }
   ],
   "source": [
    "prim_val = float(input('Digite o primeiro valor: '))\n",
    "seg_val = float(input('Digite o segundo valor: '))\n",
    "terc_val = float(input('Digite o terceiro valor: '))\n",
    "print(f'A soma dos quadrados dos três valores lidos é igual à {np.square(prim_val) + np.square(seg_val) + np.square(terc_val)}')"
   ]
  },
  {
   "cell_type": "code",
   "execution_count": 29,
   "metadata": {
    "colab": {
     "base_uri": "https://localhost:8080/"
    },
    "id": "mZ_3sIiDP_fu",
    "outputId": "4fcdb0b9-4a81-41c8-ba8a-f62cfaf406ef"
   },
   "outputs": [
    {
     "name": "stdout",
     "output_type": "stream",
     "text": [
      "A soma dos quadrados dos três valores lidos é igual à 1400.0\n"
     ]
    }
   ],
   "source": [
    "print(f'A soma dos quadrados dos três valores lidos é igual à {(prim_val ** 2) + (seg_val ** 2) + (terc_val ** 2)}')"
   ]
  },
  {
   "cell_type": "markdown",
   "metadata": {
    "id": "jWk-EkieSLXj"
   },
   "source": [
    "#### 12 - PEÇA AO USUÁRIO QUATRO NOTAS, CALCULE A MÉDIA ARITMÉTICA E IMPRIMA O RESULTADO.\n"
   ]
  },
  {
   "cell_type": "code",
   "execution_count": 30,
   "metadata": {
    "colab": {
     "base_uri": "https://localhost:8080/"
    },
    "id": "DUe8q53tSR_q",
    "outputId": "b9801975-c9f8-4962-b6e1-16a1534af91b"
   },
   "outputs": [
    {
     "name": "stdout",
     "output_type": "stream",
     "text": [
      "Digite a nota da primeira prova: 4.5\n",
      "Digite a nota da segunda prova: 7.5\n",
      "Digite a nota da terceira prova: 8.5\n",
      "Digite a nota da quarta prova: 5.0\n",
      "\n",
      "\n",
      "A média final do aluno é de 6.4.\n",
      "\n",
      "\n",
      "Felizmente, o aluno foi aprovado!\n"
     ]
    }
   ],
   "source": [
    "prim_nota = float(input('Digite a nota da primeira prova: '))\n",
    "seg_nota = float(input('Digite a nota da segunda prova: '))\n",
    "terc_nota = float(input('Digite a nota da terceira prova: '))\n",
    "quart_nota = float(input('Digite a nota da quarta prova: '))\n",
    "print('\\n')\n",
    "tot_notas = [prim_nota, seg_nota, terc_nota, quart_nota]\n",
    "print('A média final do aluno é de {0:.1f}.'.format(np.mean(tot_notas)))\n",
    "print('\\n')\n",
    "med_notas = np.mean(tot_notas)\n",
    "if (med_notas >= 5):\n",
    "  print('Felizmente, o aluno foi aprovado!')\n",
    "else:\n",
    "  print('Infelizmente, o aluno foi reprovado!')"
   ]
  },
  {
   "cell_type": "markdown",
   "metadata": {
    "id": "sINuWK_dWh_-"
   },
   "source": [
    "#### 13 -  LEIA UM NÚMERO INTEIRO E IMPRIMA O SEU ANTECESSOR E O SEU SUCESSOR."
   ]
  },
  {
   "cell_type": "code",
   "execution_count": 31,
   "metadata": {
    "colab": {
     "base_uri": "https://localhost:8080/"
    },
    "id": "qwo4DTT7Wk0g",
    "outputId": "c8e49dda-2d7e-4555-b0ae-1a1d8deb7b5f"
   },
   "outputs": [
    {
     "name": "stdout",
     "output_type": "stream",
     "text": [
      "Digite um número inteiro: 265\n",
      "\n",
      "\n",
      "O antecessor de 265 é 264\n",
      "\n",
      "\n",
      "O sucessor de 265 é 266\n"
     ]
    }
   ],
   "source": [
    "num_int = int(input('Digite um número inteiro: '))\n",
    "print('\\n')\n",
    "print('O antecessor de {0} é {1}'.format(num_int, num_int - 1))\n",
    "print('\\n')\n",
    "print('O sucessor de {0} é {1}'.format(num_int, num_int + 1))"
   ]
  },
  {
   "cell_type": "markdown",
   "metadata": {
    "id": "KGaJaWPaXyO0"
   },
   "source": [
    " #### 14 - LEIA UM NÚMERO INTEIRO E IMPRIMA A SOMA DO SUCESSOR DE SEU TRIPLO COM O ANTECESSOR DE SEU DOBRO"
   ]
  },
  {
   "cell_type": "code",
   "execution_count": 34,
   "metadata": {
    "colab": {
     "base_uri": "https://localhost:8080/"
    },
    "id": "PFg-E8g1X1ia",
    "outputId": "ba162b94-c942-48c4-f587-8a1fb52a6b61"
   },
   "outputs": [
    {
     "name": "stdout",
     "output_type": "stream",
     "text": [
      "Digite um número inteiro: 256\n",
      "\n",
      "\n",
      "O triplo de 256 é 768, e o seu sucessor é 769\n",
      "\n",
      "\n",
      "O dobro de 256 é 512, e o seu antecessor é 511\n"
     ]
    }
   ],
   "source": [
    "num_int = int(input('Digite um número inteiro: '))\n",
    "print('\\n')\n",
    "print('O triplo de {0} é {1}, e o seu sucessor é {2}'.format(num_int, num_int * 3, (num_int * 3) + 1))\n",
    "print('\\n')\n",
    "print('O dobro de {0} é {1}, e o seu antecessor é {2}'.format(num_int, num_int * 2, (num_int * 2) - 1))"
   ]
  },
  {
   "cell_type": "code",
   "execution_count": 39,
   "metadata": {
    "colab": {
     "base_uri": "https://localhost:8080/"
    },
    "id": "RiBVL4arYhhE",
    "outputId": "fca953b2-eccc-41f0-f01a-dde48189793d"
   },
   "outputs": [
    {
     "name": "stdout",
     "output_type": "stream",
     "text": [
      "Digite um número inteiro: 775\n",
      "\n",
      "\n",
      "O triplo de 775 é 2325\n",
      "\n",
      "\n",
      "O dobro de 775 é 1550\n",
      "\n",
      "\n",
      "A soma do sucessor do triplo com o antecessor do dobro de 775 é igual à 3875\n"
     ]
    }
   ],
   "source": [
    "num_int = int(input('Digite um número inteiro: '))\n",
    "print('\\n')\n",
    "print('O triplo de {0} é {1}'.format(num_int, num_int * 3))\n",
    "print('\\n')\n",
    "print('O dobro de {0} é {1}'.format(num_int, num_int * 2))\n",
    "print('\\n')\n",
    "num_tri_s = (num_int * 3) + 1\n",
    "num_dup_a = (num_int * 2) - 1\n",
    "print('A soma do sucessor do triplo com o antecessor do dobro de {0} é igual à {1}'.format(num_int, num_tri_s + num_dup_a))"
   ]
  },
  {
   "cell_type": "markdown",
   "metadata": {
    "id": "7ycnVFqKOEQk"
   },
   "source": [
    "#### 15 - LEIA O TAMANHO DO LADO DE UM QUADRADO E IMPRIMA COMO RESULTADO A SUA ÁREA"
   ]
  },
  {
   "cell_type": "code",
   "execution_count": 40,
   "metadata": {
    "colab": {
     "base_uri": "https://localhost:8080/"
    },
    "id": "4_mYMAsKOHjn",
    "outputId": "413738a6-2a44-45ef-a1b0-9ee5bb74ffba"
   },
   "outputs": [
    {
     "name": "stdout",
     "output_type": "stream",
     "text": [
      "Digite o tamanho do lado de um quadrado: 17\n",
      "\n",
      "\n",
      "O resultado da área de tal quadrado é igual à 289.0\n"
     ]
    }
   ],
   "source": [
    "lado_quad = float(input('Digite o tamanho do lado de um quadrado: '))\n",
    "print('\\n')\n",
    "print(f'O resultado da área de tal quadrado é igual à {lado_quad * lado_quad}')"
   ]
  },
  {
   "cell_type": "markdown",
   "metadata": {
    "id": "xg0G3R9kQDny"
   },
   "source": [
    "#### 16 - FAÇA UM PROGRAMA QUE LEIA O VALOR DE UM PRODUTO E IMPRIMA O VALOR COM DESCONTO, TENDO EM VISTA QUE O DESCONTO FOI DE 12%"
   ]
  },
  {
   "cell_type": "code",
   "execution_count": 43,
   "metadata": {
    "colab": {
     "base_uri": "https://localhost:8080/"
    },
    "id": "qlY69uyaQGbO",
    "outputId": "eb045a53-1897-464e-afe8-50a0de24330c"
   },
   "outputs": [
    {
     "name": "stdout",
     "output_type": "stream",
     "text": [
      "Digite o valor do produto: 145.50\n",
      "\n",
      "\n",
      "O valor do produto com desconto de 12% é 17.46\n",
      "\n",
      "\n",
      "O valor final do produto é 128.04\n"
     ]
    }
   ],
   "source": [
    "val_prod = float(input('Digite o valor do produto: '))\n",
    "print('\\n')\n",
    "print(f'O valor do produto com desconto de 12% é {val_prod * 12/100}')\n",
    "print('\\n')\n",
    "print('O valor final do produto é {0}'.format(val_prod - (val_prod * (12/100))))"
   ]
  },
  {
   "cell_type": "markdown",
   "metadata": {
    "id": "1nTtpUpOT1fE"
   },
   "source": [
    "#### 17 - LEIA O SALÁRIO DE UM FUNCIONÁRIO. CALCULE E IMPRIMA O VALOR DO NOVO SALÁRIO, SABENDO QUE ELE RECEBEU UM AUMENTO DE 25%."
   ]
  },
  {
   "cell_type": "code",
   "execution_count": 5,
   "metadata": {
    "colab": {
     "base_uri": "https://localhost:8080/"
    },
    "id": "VGY-b5s3RUgd",
    "outputId": "bfdc81ee-dc93-4845-a129-b2f225420158"
   },
   "outputs": [
    {
     "name": "stdout",
     "output_type": "stream",
     "text": [
      "Digite o salário do funcionário: 1558\n",
      "\n",
      "\n",
      "O aumento de 25% do salário representa um aumento de 389.50 reais\n",
      "\n",
      "\n",
      "O salário final do funcionário com o aumento de 25% é de 1947.5 reais\n"
     ]
    }
   ],
   "source": [
    "sal_func = float(input('Digite o salário do funcionário: '))\n",
    "print('\\n')\n",
    "print('O aumento de 25% do salário representa um aumento de {0:.2f} reais'.format(sal_func * (25/100)))\n",
    "print('\\n')\n",
    "print('O salário final do funcionário com o aumento de 25% é de {0} reais'.format(sal_func + (sal_func * (25/100))))"
   ]
  },
  {
   "cell_type": "markdown",
   "metadata": {
    "id": "SyX-2Zc0OYPy"
   },
   "source": [
    "#### 18 - FAÇA UM PROGRAMA QUE LEIA O VALOR DA HORA DE TRABALHO (EM REAIS) E O NÚMERO DE HORAS TRABALHADAS NO MÊS. IMPRIMA O VALOR A SER PAGO AO FUNCIONÁRIO, ADICIONANDO 10% SOBRE O VALOR CALCULADO."
   ]
  },
  {
   "cell_type": "code",
   "execution_count": 8,
   "metadata": {
    "colab": {
     "base_uri": "https://localhost:8080/"
    },
    "id": "LDMcfn2HOcqt",
    "outputId": "781102fc-6f70-4e2c-c413-4e3b08781404"
   },
   "outputs": [
    {
     "name": "stdout",
     "output_type": "stream",
     "text": [
      "Digite o valor da hora de trabalho: 6.50\n",
      "\n",
      "\n",
      "Digite o número de horas trabalhadas por mês: 250\n",
      "\n",
      "\n",
      "O valor à ser pago ao funcionário no final do mês é 1625.10\n"
     ]
    }
   ],
   "source": [
    "val_hora = float(input('Digite o valor da hora de trabalho: '))\n",
    "print('\\n')\n",
    "num_hora_trab = int(input('Digite o número de horas trabalhadas por mês: '))\n",
    "print('\\n')\n",
    "print('O valor à ser pago ao funcionário no final do mês é {0:.2f}'.format((val_hora * num_hora_trab) + (10/100)))"
   ]
  },
  {
   "cell_type": "markdown",
   "metadata": {
    "id": "OpAUzwRARnOx"
   },
   "source": [
    "#### 19 - IMPLEMENTE UM PROGRAMA QUE CALCULE O ANO DE NASCIMENTO DE UMA PESSOA A PARTIR DE SUA IDADE E DO ANO ATUAL "
   ]
  },
  {
   "cell_type": "code",
   "execution_count": 10,
   "metadata": {
    "colab": {
     "base_uri": "https://localhost:8080/"
    },
    "id": "jxsLOtiPRqqM",
    "outputId": "41b140f7-4f8c-449d-b293-46ccea9a1757"
   },
   "outputs": [
    {
     "name": "stdout",
     "output_type": "stream",
     "text": [
      "Digite a idade: 21\n",
      "\n",
      "\n",
      "Digite o ano atual: 2022\n",
      "\n",
      "\n",
      "O ano de nascimento dessa pessoa é 2001\n"
     ]
    }
   ],
   "source": [
    "idade = int(input('Digite a idade: '))\n",
    "print('\\n')\n",
    "ano_atual = int(input('Digite o ano atual: '))\n",
    "print('\\n')\n",
    "print(f'O ano de nascimento dessa pessoa é {ano_atual - idade}')"
   ]
  },
  {
   "cell_type": "markdown",
   "metadata": {
    "id": "ccnNqOzhS8vZ"
   },
   "source": [
    "#### 20 - ESCREVA UM PROGRAMA QUE LEIA AS COORDENADAS X E Y DE PONTOS NO R2 E CALCULE SUA DISTÂNCIA DA ORIGEM (0, 0)."
   ]
  },
  {
   "cell_type": "code",
   "execution_count": 11,
   "metadata": {
    "id": "E6Iq1oZ8WmFF"
   },
   "outputs": [],
   "source": [
    "import math"
   ]
  },
  {
   "cell_type": "code",
   "execution_count": 12,
   "metadata": {
    "colab": {
     "base_uri": "https://localhost:8080/"
    },
    "id": "htzLgCPZWr6E",
    "outputId": "78146f8a-3b44-4efb-9cad-9d840f461d88"
   },
   "outputs": [
    {
     "data": {
      "text/plain": [
       "5.0"
      ]
     },
     "execution_count": 12,
     "metadata": {},
     "output_type": "execute_result"
    }
   ],
   "source": [
    "math.sqrt(25)"
   ]
  },
  {
   "cell_type": "code",
   "execution_count": 17,
   "metadata": {
    "colab": {
     "base_uri": "https://localhost:8080/"
    },
    "id": "rAsQVINSTBDM",
    "outputId": "7206930a-08c1-4edc-dbbd-6d17c5e530dd"
   },
   "outputs": [
    {
     "name": "stdout",
     "output_type": "stream",
     "text": [
      "Coordenada x: 10\n",
      "\n",
      "\n",
      "Coordenada y: 22\n",
      "\n",
      "\n",
      "A distância entre os pontos x e y no R2 é de aproximadamente 24.2\n"
     ]
    }
   ],
   "source": [
    "x = int(input('Coordenada x: '))\n",
    "print('\\n')\n",
    "y = int(input('Coordenada y: '))\n",
    "print('\\n')\n",
    "dist_x_y = ((x - 0) ** 2) + ((y - 0) ** 2)\n",
    "print('A distância entre os pontos x e y no R2 é de aproximadamente {0:.1f}'.format(math.sqrt(dist_x_y)))"
   ]
  },
  {
   "cell_type": "markdown",
   "metadata": {
    "id": "BljZPHBVY17J"
   },
   "source": [
    "#### 21 -  RECEBA O SALARIO-BASE DE UM FUNCIONÁRIO. CALCULE E IMPRIMA O SALÁRIO A RECEBER, SABENDO-SE QUE ESSE FUNCIONÁRIO TEM UMA GRATIFICAÇÃO DE 5% SOBRE O SALÁRIO-BASE. ALÉM DISSO, ELE PAGA 7% DE IMPOSTO SOBRE O SALÁRIO-BASE."
   ]
  },
  {
   "cell_type": "code",
   "execution_count": 20,
   "metadata": {
    "colab": {
     "base_uri": "https://localhost:8080/"
    },
    "id": "9rqCYKy9XARn",
    "outputId": "c0b4ee2c-3e25-48da-8712-7909212f0990"
   },
   "outputs": [
    {
     "name": "stdout",
     "output_type": "stream",
     "text": [
      "Digite o salário-base: 1570\n",
      "\n",
      "\n",
      "O salário-base do funcionário com a gratificação de 5% é igual à 1648.5\n",
      "\n",
      "\n",
      "O salário no final do mês com a gratificação de 5% e o imposto de 7% resulta em 1533.11\n"
     ]
    }
   ],
   "source": [
    "sal_base = float(input('Digite o salário-base: '))\n",
    "print('\\n')\n",
    "grat_sal = sal_base * (5/100)\n",
    "sal_grat = sal_base + grat_sal\n",
    "print('O salário-base do funcionário com a gratificação de 5% é igual à {0}'.format(sal_grat))\n",
    "print('\\n')\n",
    "imp_sal = sal_grat * (7/100)\n",
    "sal_final = sal_grat - imp_sal\n",
    "print('O salário no final do mês com a gratificação de 5% e o imposto de 7% resulta em {0:.2f}'.format(sal_final))"
   ]
  },
  {
   "cell_type": "code",
   "execution_count": 23,
   "metadata": {
    "colab": {
     "base_uri": "https://localhost:8080/"
    },
    "id": "4VGZYGpxaYZb",
    "outputId": "342ba59d-272f-43df-80a3-2b84ff11c42a"
   },
   "outputs": [
    {
     "name": "stdout",
     "output_type": "stream",
     "text": [
      "Digite o salário-base: 100\n",
      "\n",
      "\n",
      "O salário-base com a taxação tributária de 7% resulta em 93.0\n",
      "\n",
      "\n",
      "O salário final do funcionário com 5% de gratificação resulta em 97.65\n"
     ]
    }
   ],
   "source": [
    "sal_base = float(input('Digite o salário-base: '))\n",
    "print('\\n')\n",
    "imp_sal = sal_base * (7/100)\n",
    "sal_base_r = sal_base - imp_sal\n",
    "print(f'O salário-base com a taxação tributária de 7% resulta em {sal_base_r}')\n",
    "print('\\n')\n",
    "grat_sal = sal_base_r * (5/100)\n",
    "sal_final = sal_base_r + grat_sal\n",
    "print('O salário final do funcionário com 5% de gratificação resulta em {0}'.format(sal_final))"
   ]
  },
  {
   "cell_type": "markdown",
   "metadata": {
    "id": "WEJ8s3lwcUX6"
   },
   "source": [
    "#### LISTA DE EXERCÍCIOS FINALIZADA."
   ]
  }
 ],
 "metadata": {
  "colab": {
   "collapsed_sections": [],
   "name": "Python (i).ipynb",
   "provenance": []
  },
  "kernelspec": {
   "display_name": "Python 3",
   "language": "python",
   "name": "python3"
  },
  "language_info": {
   "codemirror_mode": {
    "name": "ipython",
    "version": 3
   },
   "file_extension": ".py",
   "mimetype": "text/x-python",
   "name": "python",
   "nbconvert_exporter": "python",
   "pygments_lexer": "ipython3",
   "version": "3.8.10"
  }
 },
 "nbformat": 4,
 "nbformat_minor": 1
}
