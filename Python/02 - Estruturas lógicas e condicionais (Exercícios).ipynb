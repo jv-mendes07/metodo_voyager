{
 "cells": [
  {
   "cell_type": "markdown",
   "metadata": {
    "id": "_kjmA7B_QtXq"
   },
   "source": [
    "#### 1 -  FAÇA UM PROGRAMA QUE RECEBA DOIS NUMEROS E MOSTRE QUAL DELES É O MAIOR."
   ]
  },
  {
   "cell_type": "code",
   "execution_count": 1,
   "metadata": {
    "colab": {
     "base_uri": "https://localhost:8080/"
    },
    "id": "Abnso0IHiNki",
    "outputId": "d0db8b91-7ef8-43f3-adb0-1a1a42d544e1"
   },
   "outputs": [
    {
     "name": "stdout",
     "output_type": "stream",
     "text": [
      "Digite o primeiro valor: 23\n",
      "\n",
      "\n",
      "Digite o segundo valor: 45\n",
      "\n",
      "\n",
      "45 é maior do que 23\n"
     ]
    }
   ],
   "source": [
    "prim_val = int(input('Digite o primeiro valor: '))\n",
    "print('\\n')\n",
    "seg_val = int(input('Digite o segundo valor: '))\n",
    "print('\\n')\n",
    "if (prim_val > seg_val):\n",
    "  print(f'{prim_val} é maior do que {seg_val}')\n",
    "elif (prim_val == seg_val):\n",
    "  print(f'{prim_val} é igual à {seg_val}')\n",
    "else:\n",
    "  print(f'{seg_val} é maior do que {prim_val}')"
   ]
  },
  {
   "cell_type": "markdown",
   "metadata": {
    "id": "Gb9TgzoRVgKf"
   },
   "source": [
    "#### 2 - LEIA UM NUMERO FORNECIDO PELO USUÁRIO. SE ESSE NÚMERO FOR POSITIVO, CALCULE A RAIZ QUADRADA DO NÚMERO. SE O NÚMERO FOR NEGATIVO, MOSTRE UMA MENSAGEM DIZENDO QUE O NÚMERO É INVÁLIDO."
   ]
  },
  {
   "cell_type": "code",
   "execution_count": 1,
   "metadata": {
    "id": "wXVAvTF1Vnbu"
   },
   "outputs": [
    {
     "name": "stdout",
     "output_type": "stream",
     "text": [
      "Digite um número inteiro: 2\n",
      "\n",
      "\n",
      "A raiz quadrada de 2 é 1.41\n"
     ]
    }
   ],
   "source": [
    "import numpy as np\n",
    "import math\n",
    "num_int = int(input('Digite um número inteiro: '))\n",
    "print('\\n')\n",
    "if (num_int > 0):\n",
    "  print('A raiz quadrada de {0} é {1:.2f}'.format(num_int, np.sqrt(num_int)))\n",
    "elif (num_int == 0):\n",
    "  print(f'{num_int} é um número neutro')\n",
    "else:\n",
    "  print(f'{num_int} é um número inválido')"
   ]
  },
  {
   "cell_type": "markdown",
   "metadata": {
    "id": "PKn37RNIbOxD"
   },
   "source": [
    "#### 3 - LEIA UM NÚMERO REAL . SE O NÚMERO FOR POSITIVO IMPRIMA A RAIZ QUADRADA. DO CONTRÁRIO, IMPRIMA O NÚMERO AO QUADRADO."
   ]
  },
  {
   "cell_type": "code",
   "execution_count": 2,
   "metadata": {
    "id": "fFo9Tcc9WJnt"
   },
   "outputs": [
    {
     "name": "stdout",
     "output_type": "stream",
     "text": [
      "Digite um número real: 2.1\n",
      "\n",
      "\n",
      "A raiz quadrada de 2.1 é 1.449137674618944\n"
     ]
    }
   ],
   "source": [
    "num_real = float(input('Digite um número real: '))\n",
    "print('\\n')\n",
    "if (num_real > 0):\n",
    "  print(f'A raiz quadrada de {num_real} é {np.sqrt(num_real)}')\n",
    "elif (num_real == 0):\n",
    "  print('{0} é um número neutro'.format(num_real))\n",
    "else:\n",
    "  print('O quadrado de {0} é {1}'.format(num_real, np.square(num_real)))"
   ]
  },
  {
   "cell_type": "markdown",
   "metadata": {
    "id": "6cz8fD_wfBTT"
   },
   "source": [
    "#### 4 - FAÇA UM PROGRAMA QUE RECEBA UM NÚMERO INTEIRO E VERIFIQUE SE ESTE NÚMERO É PAR OU ÍMPAR."
   ]
  },
  {
   "cell_type": "code",
   "execution_count": 3,
   "metadata": {
    "id": "_tqYGAeVb8Js"
   },
   "outputs": [
    {
     "name": "stdout",
     "output_type": "stream",
     "text": [
      "Digite um número inteiro: 45\n",
      "\n",
      "\n",
      "O número 45 é ímpar\n"
     ]
    }
   ],
   "source": [
    "num_int = int(input('Digite um número inteiro: '))\n",
    "print('\\n')\n",
    "if(num_int % 2 == 0):\n",
    "  print(f'O número {num_int} é par')\n",
    "else:\n",
    "  print(f'O número {num_int} é ímpar')"
   ]
  },
  {
   "cell_type": "markdown",
   "metadata": {
    "id": "OcrJENY8jHXt"
   },
   "source": [
    "#### 5 - FAÇA UM PROGRAMA QUE RECEBA DOIS NUMEROS E MOSTRE O MAIOR. SE POR ACASO, OS DOIS NÚMEROS FOREM IGUAIS, IMPRIMA A MENSAGEM NÚMEROS IGUAIS."
   ]
  },
  {
   "cell_type": "code",
   "execution_count": 5,
   "metadata": {
    "colab": {
     "base_uri": "https://localhost:8080/"
    },
    "id": "uVug6RpmjLmO",
    "outputId": "05586bd4-5d92-41f2-97ea-32a4b287a398"
   },
   "outputs": [
    {
     "name": "stdout",
     "output_type": "stream",
     "text": [
      "Digite o primeiro valor: 234\n",
      "\n",
      "\n",
      "Digite o segundo valor: 12\n",
      "\n",
      "\n",
      "234.0 é maior do que 12.0\n"
     ]
    }
   ],
   "source": [
    "prim_val = float(input('Digite o primeiro valor: '))\n",
    "print('\\n')\n",
    "seg_val = float(input('Digite o segundo valor: '))\n",
    "print('\\n')\n",
    "if (prim_val > seg_val):\n",
    "  print(f'{prim_val} é maior do que {seg_val}')\n",
    "elif (seg_val > prim_val):\n",
    "  print(f'{seg_val} é maior do que {prim_val}')\n",
    "else:\n",
    "  print(f'{seg_val} é igual à {prim_val}')"
   ]
  },
  {
   "cell_type": "markdown",
   "metadata": {
    "id": "5ePEEX5llqyn"
   },
   "source": [
    "#### 6 - LEIA O SALÁRIO DE UM TRABALHADOR E O VALOR DA PRESTAÇÃO DE UM EMPRÉSTIMO. SE A PRESTAÇÃO FOR MAIOR QUE 20% DO SALÁRIO IMPRIMA: EMPRÉSTIMO NÃO CONCEDIDO, CASO CONTRÁRIO IMPRIMA: EMPRÉSTIMO CONCEDIDO."
   ]
  },
  {
   "cell_type": "code",
   "execution_count": 6,
   "metadata": {
    "colab": {
     "base_uri": "https://localhost:8080/"
    },
    "id": "SMSaeNnMqHF7",
    "outputId": "28e94722-ff58-4c28-b2ed-05664b1ca979"
   },
   "outputs": [
    {
     "name": "stdout",
     "output_type": "stream",
     "text": [
      "490.0\n",
      "490.0\n"
     ]
    }
   ],
   "source": [
    "# Métodos sintáticos alternantes para saber quão é 20 % do salário do trabalhador\n",
    "print(2450 * (20/100))\n",
    "print(2450 * 0.2)"
   ]
  },
  {
   "cell_type": "code",
   "execution_count": 7,
   "metadata": {
    "colab": {
     "base_uri": "https://localhost:8080/"
    },
    "id": "F39zaCy0j9pr",
    "outputId": "1714e0c5-5451-4d49-e1ac-87b51be45321"
   },
   "outputs": [
    {
     "name": "stdout",
     "output_type": "stream",
     "text": [
      "Digite o salário do trabalhador: 2450\n",
      "\n",
      "\n",
      "Digite o valor da prestação de empréstimo: 100\n",
      "\n",
      "\n",
      "20 % do salário do trabalhador é 490.0\n",
      "\n",
      "\n",
      "Empréstimo concedido!\n"
     ]
    }
   ],
   "source": [
    "sal_trab = float(input('Digite o salário do trabalhador: '))\n",
    "print('\\n')\n",
    "val_prest = float(input('Digite o valor da prestação de empréstimo: '))\n",
    "print('\\n')\n",
    "print(f'20 % do salário do trabalhador é {sal_trab * (20/100)}')\n",
    "print('\\n')\n",
    "if (val_prest > sal_trab * (20/100)):\n",
    "  print('Empréstimo não concedido!')\n",
    "else:\n",
    "  print('Empréstimo concedido!')\n"
   ]
  },
  {
   "cell_type": "markdown",
   "metadata": {
    "id": "z8f76xKisrg1"
   },
   "source": [
    "#### 7 - LEIA O SALÁRIO DE UM TRABALHADOR E O PERCENTUAL DE IMPOSTO PAGO EM FOLHA. SE O VALOR FOR FOR MAIOR QUE 200 REAIS IMPRIMA: ACIMA DE 200 REAIS, CASO CONTRARIO IMPRIMA: ABAIXO DE 200 REAIS."
   ]
  },
  {
   "cell_type": "code",
   "execution_count": 8,
   "metadata": {
    "colab": {
     "base_uri": "https://localhost:8080/"
    },
    "id": "rm4OVyeGqYhT",
    "outputId": "89a8dbd9-595b-4424-d90a-4b2a96db23db"
   },
   "outputs": [
    {
     "name": "stdout",
     "output_type": "stream",
     "text": [
      "Digite o salário do trabalhador: R$ 29500\n",
      "\n",
      "\n",
      "Digite o percentual de imposto pago em folha: 12\n",
      "\n",
      "\n",
      "O percentual do imposto pago em folha do salário do trabalhador é R$ 3540.0\n",
      "\n",
      "\n",
      "Acima de R$ 200\n"
     ]
    }
   ],
   "source": [
    "sal_trab = float(input('Digite o salário do trabalhador: R$ '))\n",
    "print('\\n')\n",
    "imp_pago = float(input('Digite o percentual de imposto pago em folha: '))\n",
    "print('\\n')\n",
    "print(f'O percentual do imposto pago em folha do salário do trabalhador é R$ {sal_trab * (imp_pago/100)}')\n",
    "print('\\n')\n",
    "if (sal_trab * (imp_pago/100) > 200):\n",
    "  print('Acima de R$ 200')\n",
    "else:\n",
    "  print('Abaixo de R$ 200')\n"
   ]
  },
  {
   "cell_type": "markdown",
   "metadata": {
    "id": "kljGiuJlwAmv"
   },
   "source": [
    "#### 8 - LER UM NUMERO INTEIRO. SE O NÚMERO LIDO FOR NEGATIVO, ESCREVA A MENSAGEM “NÚMERO INVÁLIDO”. SE O NÚMERO FOR POSITIVO, CALCULAR O LOGARITMO DESTE NUMERO."
   ]
  },
  {
   "cell_type": "code",
   "execution_count": 10,
   "metadata": {
    "colab": {
     "base_uri": "https://localhost:8080/"
    },
    "id": "cGC9fBVZwHKa",
    "outputId": "56bde2db-c1f7-4646-a954-6c07ae234d25"
   },
   "outputs": [
    {
     "name": "stdout",
     "output_type": "stream",
     "text": [
      "Digite um número inteiro: 2\n",
      "\n",
      "\n",
      "O logaritmo do número 2 é 0.69\n"
     ]
    }
   ],
   "source": [
    "num_int = int(input('Digite um número inteiro: '))\n",
    "print('\\n')\n",
    "if (num_int < 0):\n",
    "  print('Número inválido')\n",
    "elif (num_int == 0):\n",
    "  print('O número {num_int} é neutro')\n",
    "else:\n",
    "  print('O logaritmo do número {0} é {1:.2f}'.format(num_int, np.log(num_int)))"
   ]
  },
  {
   "cell_type": "markdown",
   "metadata": {
    "id": "w7L-qGKzmiiY"
   },
   "source": [
    "#### 9 - FAÇA UM PROGRAMA QUE LEIA 2 NOTAS DE UM ALUNO, VERIFIQUE SE AS NOTAS SÃO VÁLIDAS E EXIBA NA TELA A MÉDIA DESTAS NOTAS. UMA NOTA VÁLIDA DEVE SER, OBRIGATORIAMENTE, UM VALOR ENTRE 0.0 E 10.0, ONDE CASO A NOTA NAO POSSUA UM VALOR VÁLIDO, ESTE FATO DEVE SER INFORMADO AO USUÁRIO E O PROGRAMA TERMINA."
   ]
  },
  {
   "cell_type": "code",
   "execution_count": 11,
   "metadata": {
    "colab": {
     "base_uri": "https://localhost:8080/"
    },
    "id": "7hf1F60vo1ZL",
    "outputId": "d794eb37-2883-4a78-da99-ab7859e70041"
   },
   "outputs": [
    {
     "name": "stdout",
     "output_type": "stream",
     "text": [
      "Digite a primeira nota: 7.5\n",
      "\n",
      "\n",
      "Digite a segunda nota: 5.6\n",
      "\n",
      "\n",
      "Notas válidas. A média final das notas do aluno é 6.55\n"
     ]
    }
   ],
   "source": [
    "nota_1 = float(input('Digite a primeira nota: '))\n",
    "print('\\n')\n",
    "nota_2 = float(input('Digite a segunda nota: '))\n",
    "print('\\n')\n",
    "media = (nota_1 + nota_2) / 2\n",
    "if (((nota_1 >= 0.0) & (nota_1 <= 10.0)) & ((nota_2 >= 0.0) & (nota_2 <= 10.0))):\n",
    "  print('Notas válidas. A média final das notas do aluno é {0}'.format(media))\n",
    "else:\n",
    "  print('Notas inválidas!')"
   ]
  },
  {
   "cell_type": "markdown",
   "metadata": {
    "id": "1tBxrCMlyYmY"
   },
   "source": [
    "#### 10 - FAÇA UM ALGORITMO QUE CALCULE A MÉDIA PONDERADA DAS NOTAS DE 3 PROVAS. A PRIMEIRA É A SEGUNDA PROVA TEM PESO 1 E A TERCEIRA TEM PESO 2. AO FINAL , MOSTRAR A MÉDIA DO ALUNO E INDICAR SE O ALUNO FOI APROVADO OU REPROVADO. A NOTA PARA APROVAÇÃO DEVE SER IGUAL OU SUPERIOR A 60 PONTOS."
   ]
  },
  {
   "cell_type": "code",
   "execution_count": 12,
   "metadata": {
    "colab": {
     "base_uri": "https://localhost:8080/"
    },
    "id": "iJaJMcP6p3P3",
    "outputId": "b824859f-dc63-47f8-90d2-c820423fb9c9"
   },
   "outputs": [
    {
     "name": "stdout",
     "output_type": "stream",
     "text": [
      "Digite a primeira nota: 7.6\n",
      "\n",
      "\n",
      "Digite a segunda nota: 4.5\n",
      "\n",
      "\n",
      "Digite a terceira nota: 6.7\n",
      "\n",
      "\n",
      "A média ponderada do aluno é de 24.1 pontos\n",
      "\n",
      "\n",
      "O aluno foi aprovado!\n"
     ]
    }
   ],
   "source": [
    "nota_1 = float(input('Digite a primeira nota: '))\n",
    "print('\\n')\n",
    "nota_2 = float(input('Digite a segunda nota: '))\n",
    "print('\\n')\n",
    "nota_3 = float(input('Digite a terceira nota: '))\n",
    "print('\\n')\n",
    "media_pon = (1 * nota_1) + (1 * nota_2) + (2 * nota_2) / 1 + 1 + 2\n",
    "print(f'A média ponderada do aluno é de {media_pon} pontos')\n",
    "print('\\n')\n",
    "if (media_pon >= 6.0):\n",
    "  print('O aluno foi aprovado!')\n",
    "else:\n",
    "  print('O aluno foi reprovado!')"
   ]
  },
  {
   "cell_type": "markdown",
   "metadata": {
    "id": "ni7Ou83P517S"
   },
   "source": [
    "#### 11 - ESCREVA UM ALGORITMO QUE LEIA DOIS NÚMEROS E EXIBA-OS EM ORDEM CRESCENTE."
   ]
  },
  {
   "cell_type": "code",
   "execution_count": 13,
   "metadata": {
    "colab": {
     "base_uri": "https://localhost:8080/"
    },
    "id": "yTBS6B14zo22",
    "outputId": "4be3e7f0-2f54-46e8-96e2-691fbd3e5e9f"
   },
   "outputs": [
    {
     "name": "stdout",
     "output_type": "stream",
     "text": [
      "Digite o primeiro número: 4\n",
      "\n",
      "\n",
      "Digite o segundo número: 5\n",
      "\n",
      "\n",
      "4 - 5\n"
     ]
    }
   ],
   "source": [
    "prim_val = int(input('Digite o primeiro número: '))\n",
    "print('\\n')\n",
    "seg_val = int(input('Digite o segundo número: '))\n",
    "print('\\n')\n",
    "if (prim_val <= seg_val):\n",
    "  print('{0} - {1}'.format(prim_val, seg_val))\n",
    "else:\n",
    "  print('{0} - {1}'.format(seg_val, prim_val))"
   ]
  },
  {
   "cell_type": "markdown",
   "metadata": {
    "id": "rBDyvZ038xZ_"
   },
   "source": [
    "#### 12 - ESCREVA UM ALGORITMO QUE LEIA UM NÚMERO E EXIBA SEU SUCESSOR."
   ]
  },
  {
   "cell_type": "code",
   "execution_count": 15,
   "metadata": {
    "colab": {
     "base_uri": "https://localhost:8080/"
    },
    "id": "TIm3TOHg5xkE",
    "outputId": "19fd8990-2443-46c6-a978-917b5b160e1a"
   },
   "outputs": [
    {
     "name": "stdout",
     "output_type": "stream",
     "text": [
      "Digite um número: 2\n",
      "\n",
      "\n",
      "O sucessor de 2 é 3\n"
     ]
    }
   ],
   "source": [
    "num_int = int(input('Digite um número: '))\n",
    "print('\\n')\n",
    "print(f'O sucessor de {num_int} é {num_int + 1}')"
   ]
  },
  {
   "cell_type": "markdown",
   "metadata": {
    "id": "96Oozmi_-ks4"
   },
   "source": [
    "#### 13 - ESCREVA UM ALGORITMO QUE LEIA DOIS NÚMEROS E EXIBA SEU SUCESSOR."
   ]
  },
  {
   "cell_type": "code",
   "execution_count": 16,
   "metadata": {
    "colab": {
     "base_uri": "https://localhost:8080/"
    },
    "id": "nNRqCtkA9Lff",
    "outputId": "5c1d61bf-a6cd-4b42-f37a-6a1c7b2637ca"
   },
   "outputs": [
    {
     "name": "stdout",
     "output_type": "stream",
     "text": [
      "Digite o primeiro número: 3\n",
      "\n",
      "\n",
      "Digite o segundo número: 4\n",
      "\n",
      "\n",
      "O sucessor do número 3 é 4\n",
      "\n",
      "\n",
      "O sucessor do número 4 é 5\n"
     ]
    }
   ],
   "source": [
    "prim_n = int(input('Digite o primeiro número: '))\n",
    "print('\\n')\n",
    "seg_n = int(input('Digite o segundo número: '))\n",
    "print('\\n')\n",
    "print('O sucessor do número {0} é {1}'.format(prim_n, prim_n + 1))\n",
    "print('\\n')\n",
    "print('O sucessor do número {0} é {1}'.format(seg_n, seg_n + 1))"
   ]
  },
  {
   "cell_type": "markdown",
   "metadata": {
    "id": "DGvqWV3CAJ-C"
   },
   "source": [
    "#### 14 - ELABORE UM ALGORITMO QUE DADA A IDADE DE UM NADADOR CLASSIFICA-O EM UMA DAS SEGUINTES CATEGORIAS: INFANTIL A = 5 - 7 ANOS, INFANTIL B = 8-10 ANOS, JUVENIL A = 11-13 ANOS, JUVENIL B = 14-17 ANOS, ADULTO = MAIORES DE 18 ANOS"
   ]
  },
  {
   "cell_type": "code",
   "execution_count": 17,
   "metadata": {
    "colab": {
     "base_uri": "https://localhost:8080/"
    },
    "id": "_hbIKvse_AV3",
    "outputId": "2e0e7ad7-6d6a-4c5e-8a63-0d64a5e3dadc"
   },
   "outputs": [
    {
     "name": "stdout",
     "output_type": "stream",
     "text": [
      "Digite a idade do nadador: 13\n",
      "\n",
      "\n",
      "Juvenil A = 11 - 13 anos\n"
     ]
    }
   ],
   "source": [
    "idade_n = int(input('Digite a idade do nadador: '))\n",
    "print('\\n')\n",
    "if (idade_n < 5):\n",
    "  print('Não há categoria de nadadores para essa idade!')\n",
    "elif ((idade_n >= 5) & (idade_n <= 7)):\n",
    "  print('Infantil A = 5 - 7 anos')\n",
    "elif ((idade_n >= 8) & (idade_n <= 10)):\n",
    "  print('Infantil B = 8 - 10 anos')\n",
    "elif ((idade_n >= 11) & (idade_n <= 13)):\n",
    "  print('Juvenil A = 11 - 13 anos')\n",
    "elif ((idade_n >= 14) & (idade_n <= 17)):\n",
    "  print('Juvenil B = 14 - 17 anos')\n",
    "elif (idade_n >= 18):\n",
    "  print('Adulto = Maiores de 18 anos')\n"
   ]
  },
  {
   "cell_type": "markdown",
   "metadata": {
    "id": "7om7w8uFEspZ"
   },
   "source": [
    "#### 15 - FAÇA UM ALGORITMO QUE LEIA OS VALORES A, B, C E IMPRIMA NA TELA SE A SOMA DE A + B É MENOR QUE C."
   ]
  },
  {
   "cell_type": "code",
   "execution_count": 18,
   "metadata": {
    "colab": {
     "base_uri": "https://localhost:8080/"
    },
    "id": "PpWq7mgPDd4_",
    "outputId": "5e1691ee-19fe-42bc-d3f4-ec2fdb88973a"
   },
   "outputs": [
    {
     "name": "stdout",
     "output_type": "stream",
     "text": [
      "Digite o valor de a: 2\n",
      "\n",
      "\n",
      "Digite o valor de b: 4\n",
      "\n",
      "\n",
      "Digite o valor de c: 7\n",
      "\n",
      "\n",
      "A soma de a + b é 6 e o valor de c é 7, então o valor de c não é menor do que a soma de a e b\n"
     ]
    }
   ],
   "source": [
    "a = int(input('Digite o valor de a: '))\n",
    "print('\\n')\n",
    "b = int(input('Digite o valor de b: '))\n",
    "print('\\n')\n",
    "c = int(input('Digite o valor de c: '))\n",
    "print('\\n')\n",
    "if (a + b > c):\n",
    "  print(f'A soma de a + b é {a + b} e o valor de c é {c}, então o valor de c é menor do que a soma de a + b')\n",
    "elif(a + b == c):\n",
    "  print(f'A soma de a + b é {a + b} e o valor de c é {c}, então o valor de c é igual a soma de a + b')\n",
    "else:\n",
    "  print(f'A soma de a + b é {a + b} e o valor de c é {c}, então o valor de c não é menor do que a soma de a e b')"
   ]
  },
  {
   "cell_type": "markdown",
   "metadata": {
    "id": "n3iyxrg6if1i"
   },
   "source": [
    "#### 16 - FAÇA UM ALGORITMO QUE LEIA UMA VARIÁVEL E SOME 5 CASO SEJA PAR OU SOME 8 CASO SEJA ÍMPAR, IMPRIMIR O RESUL TADO DESTA OPERAÇÃO."
   ]
  },
  {
   "cell_type": "code",
   "execution_count": 20,
   "metadata": {
    "colab": {
     "base_uri": "https://localhost:8080/"
    },
    "id": "IhqrZpmkF8_j",
    "outputId": "d41fbc09-0437-4ba9-c691-31f8c38d7702"
   },
   "outputs": [
    {
     "name": "stdout",
     "output_type": "stream",
     "text": [
      "Digite um número inteiro: 2\n",
      "\n",
      "\n",
      "2 é um número par, logo a soma de 2 + 5 é = 7\n"
     ]
    }
   ],
   "source": [
    "num_int = int(input('Digite um número inteiro: '))\n",
    "print('\\n')\n",
    "if (num_int % 2 == 0):\n",
    "  print(f'{num_int} é um número par, logo a soma de {num_int} + 5 é = {num_int + 5}')\n",
    "else:\n",
    "  print(f'{num_int} é um número ímpar, logo a soma de {num_int} + 8 é = {num_int + 8}')"
   ]
  },
  {
   "cell_type": "markdown",
   "metadata": {
    "id": "QVBbWha3koL_"
   },
   "source": [
    "#### 17 - FAÇA UM ALGORITMO QUE LEIA UMA VARIÁVEL E DIVIDA POR 10 SE ESTIVER NO INTERVALO ENTRE 0 E 100 CASO ESTEJA FORA, DIVIDA POR 2. IMPRIMA O RESULTADO"
   ]
  },
  {
   "cell_type": "code",
   "execution_count": 25,
   "metadata": {
    "colab": {
     "base_uri": "https://localhost:8080/"
    },
    "id": "TFPv7xzKk3uO",
    "outputId": "f450f147-6146-46a7-f98d-e1453f04c216"
   },
   "outputs": [
    {
     "name": "stdout",
     "output_type": "stream",
     "text": [
      "Digite um número: 45\n",
      "\n",
      "\n",
      "45 dividido por 10 é igual à 4.5\n"
     ]
    }
   ],
   "source": [
    "variavel = int(input('Digite um número: '))\n",
    "print('\\n')\n",
    "if ((variavel >= 0) & (variavel <= 100)):\n",
    "  print(f'{variavel} dividido por 10 é igual à {variavel / 10}')\n",
    "else:\n",
    "  print(f'{variavel} dividido por 2 é igual à {variavel / 2}')"
   ]
  },
  {
   "cell_type": "markdown",
   "metadata": {
    "id": "zbArq-ohnfQE"
   },
   "source": [
    "#### 18 - CRIE UM ALGORITMO QUE, DADO O NÍVEL DE ALERTA DE RISCO, IMPRIMA SE ELE FOR GRAVE. O NÍVEL DE ALERTA É UM NÚMERO QUE VARIA DE 0 A 10. O NÍVEL É CONSIDERADO GRAVE QUANDO ELE É SUPERIOR A 9."
   ]
  },
  {
   "cell_type": "code",
   "execution_count": 34,
   "metadata": {
    "colab": {
     "base_uri": "https://localhost:8080/"
    },
    "id": "mG96nna7lpM5",
    "outputId": "37334408-d74b-4a9d-9fa6-1aec5aceec17"
   },
   "outputs": [
    {
     "name": "stdout",
     "output_type": "stream",
     "text": [
      "Digite o nível de alerta de risco (Entre 0 e 10): 10\n",
      "\n",
      "\n",
      "O nível de alerta de risco é 10. Logo, é grave!\n"
     ]
    }
   ],
   "source": [
    "n_alerta = int(input('Digite o nível de alerta de risco (Entre 0 e 10): '))\n",
    "print('\\n')\n",
    "if ((n_alerta >= 0) & (n_alerta <= 9)):\n",
    "  print(f'O nível de alerta de risco é {n_alerta}. Logo, não é grave!')\n",
    "elif (n_alerta == 10):\n",
    "  print(f'O nível de alerta de risco é {n_alerta}. Logo, é grave!')\n",
    "else:\n",
    "  print('Fora da faixa de alerta! ')"
   ]
  },
  {
   "cell_type": "markdown",
   "metadata": {
    "id": "fVH4gn-Uq8ZF"
   },
   "source": [
    "#### 19 - FAÇA UM PROGRAMA QUE LEIA UM NÚMERO E DIGA SE ELE É DIVISÍVEL POR 2 E POR 3. USE ESTRUTURA DE DESVIO CONDICIONAL SIMPLES."
   ]
  },
  {
   "cell_type": "code",
   "execution_count": 38,
   "metadata": {
    "colab": {
     "base_uri": "https://localhost:8080/"
    },
    "id": "7X6T0pxnowXc",
    "outputId": "2f1fec79-5155-4166-c2e9-95fdd45d79dc"
   },
   "outputs": [
    {
     "name": "stdout",
     "output_type": "stream",
     "text": [
      "Digite um número: 12\n",
      "\n",
      "\n",
      "12 é divisível por 2 e por 3!\n"
     ]
    }
   ],
   "source": [
    "num_int = int(input('Digite um número: '))\n",
    "print('\\n')\n",
    "if ((num_int % 2 == 0) & (num_int % 3 == 0)):\n",
    "  print('{0} é divisível por 2 e por 3!'.format(num_int))\n",
    "else:\n",
    "  print('{0} não é divisível por 2 e por 3!'.format(num_int))"
   ]
  },
  {
   "cell_type": "markdown",
   "metadata": {
    "id": "ViWiwvl4tEvb"
   },
   "source": [
    "#### 20 - CALCULE A MÉDIA ARITMÉTICA DAS 3 NOTAS DE UM ALUNO E MOSTRE, ALÉM DO VALOR DA MÉDIA, UMA MENSAGEM DE \"APROVADO\", CASO A MÉDIA SEJA IGUAL OU SUPERIOR A 6, OU A MENSAGEM \"REPROVADO\", CASO CONTRÁRIO."
   ]
  },
  {
   "cell_type": "code",
   "execution_count": 44,
   "metadata": {
    "colab": {
     "base_uri": "https://localhost:8080/"
    },
    "id": "L0WMBS2CtKPv",
    "outputId": "6595f06c-11c6-45b4-e32d-d7ec2e83b6ec"
   },
   "outputs": [
    {
     "name": "stdout",
     "output_type": "stream",
     "text": [
      "Digite a primeira nota: 7.6\n",
      "\n",
      "\n",
      "Digite a segunda nota: 5.5\n",
      "\n",
      "\n",
      "Digite a terceira nota: 7.8\n",
      "\n",
      "\n",
      "A média final do aluno é 7.0. O aluno foi aprovado!\n"
     ]
    }
   ],
   "source": [
    "nota_1 = float(input('Digite a primeira nota: '))\n",
    "print('\\n')\n",
    "nota_2 = float(input('Digite a segunda nota: '))\n",
    "print('\\n')\n",
    "nota_3 = float(input('Digite a terceira nota: '))\n",
    "print('\\n')\n",
    "media = (nota_1 + nota_2 + nota_3) / 3\n",
    "if ((media >= 6.0) & (media <= 10.0)):\n",
    "  print('A média final do aluno é {0:.1f}. O aluno foi aprovado!'.format(media))\n",
    "else:\n",
    "  print('A média final do aluno é {0:.1f}. O aluno foi reprovado!'.format(media))"
   ]
  },
  {
   "cell_type": "markdown",
   "metadata": {
    "id": "KHjxz5QSwtYU"
   },
   "source": [
    "#### 21 0 LEIA A DISTANCIA EM KM E A QUANTIDADE DE LITROS DE GASOLINA CONSUMIDOS POR UM CARRO EM UM PERCURSO, CALCULE O CONSUMO EM KM/ L E ESCREVA UMA MENSAGEM DE ACORDO COM A TABELA ABAIXO:"
   ]
  },
  {
   "cell_type": "code",
   "execution_count": 55,
   "metadata": {
    "colab": {
     "base_uri": "https://localhost:8080/"
    },
    "id": "hAPBJ0K_uASr",
    "outputId": "adb902c0-7578-4ca4-9ecf-2a7806d4b16b"
   },
   "outputs": [
    {
     "name": "stdout",
     "output_type": "stream",
     "text": [
      "Digite a distância em km (quilômetro): 100\n",
      "\n",
      "\n",
      "Digite a quantidade de litros de gasolina gastas no percurso: 8\n",
      "\n",
      "\n",
      "O consumo de gasolina do carro por quilômetro é 12.5. É Um carro super econômico!\n"
     ]
    }
   ],
   "source": [
    "km = int(input('Digite a distância em km (quilômetro): '))\n",
    "print('\\n')\n",
    "l_gasolina = int(input('Digite a quantidade de litros de gasolina gastas no percurso: '))\n",
    "print('\\n')\n",
    "km_l = km / l_gasolina\n",
    "if (km_l < 8.0):\n",
    "  print('O consumo de gasolina do carro por quilômetro é {0}. Venda o carro!'.format(km_l))\n",
    "elif ((km_l >= 8.0) & (km_l <= 12.0)):\n",
    "  print('O consumo de gasolina do carro por quilômetro é {0}. É Um carro econômico!'.format(km_l))\n",
    "else:\n",
    "  print('O consumo de gasolina do carro por quilômetro é {0}. É Um carro super econômico!'.format(km_l))"
   ]
  },
  {
   "cell_type": "markdown",
   "metadata": {
    "id": "56FanBFh5iX9"
   },
   "source": [
    "#### LISTA DE EXERCÍCIOS FINALIZADA."
   ]
  }
 ],
 "metadata": {
  "colab": {
   "collapsed_sections": [],
   "name": "Python(ii).ipynb",
   "provenance": []
  },
  "kernelspec": {
   "display_name": "Python 3",
   "language": "python",
   "name": "python3"
  },
  "language_info": {
   "codemirror_mode": {
    "name": "ipython",
    "version": 3
   },
   "file_extension": ".py",
   "mimetype": "text/x-python",
   "name": "python",
   "nbconvert_exporter": "python",
   "pygments_lexer": "ipython3",
   "version": "3.8.10"
  }
 },
 "nbformat": 4,
 "nbformat_minor": 1
}
